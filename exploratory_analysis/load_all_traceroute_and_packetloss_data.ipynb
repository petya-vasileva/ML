{
 "cells": [
  {
   "cell_type": "code",
   "execution_count": 18,
   "metadata": {
    "collapsed": true,
    "jupyter": {
     "outputs_hidden": true
    }
   },
   "outputs": [
    {
     "name": "stdout",
     "output_type": "stream",
     "text": [
      "Collecting dask\n",
      "  Downloading dask-2021.5.0-py3-none-any.whl (960 kB)\n",
      "\u001b[K     |████████████████████████████████| 960 kB 11.1 MB/s eta 0:00:01\n",
      "\u001b[?25hCollecting toolz>=0.8.2\n",
      "  Downloading toolz-0.11.1-py3-none-any.whl (55 kB)\n",
      "\u001b[K     |████████████████████████████████| 55 kB 7.9 MB/s  eta 0:00:01\n",
      "\u001b[?25hCollecting partd>=0.3.10\n",
      "  Downloading partd-1.2.0-py3-none-any.whl (19 kB)\n",
      "Requirement already satisfied: cloudpickle>=1.1.1 in /usr/local/lib/python3.8/dist-packages (from dask) (1.6.0)\n",
      "Requirement already satisfied: pyyaml in /usr/local/lib/python3.8/dist-packages (from dask) (5.3.1)\n",
      "Collecting fsspec>=0.6.0\n",
      "  Downloading fsspec-2021.5.0-py3-none-any.whl (111 kB)\n",
      "\u001b[K     |████████████████████████████████| 111 kB 32.4 MB/s eta 0:00:01\n",
      "\u001b[?25hCollecting locket\n",
      "  Downloading locket-0.2.1-py2.py3-none-any.whl (4.1 kB)\n",
      "Installing collected packages: toolz, locket, partd, fsspec, dask\n",
      "Successfully installed dask-2021.5.0 fsspec-2021.5.0 locket-0.2.1 partd-1.2.0 toolz-0.11.1\n",
      "\u001b[33mWARNING: You are using pip version 20.2.3; however, version 20.3.4 is available.\n",
      "You should consider upgrading via the '/usr/bin/python3.8 -m pip install --upgrade pip' command.\u001b[0m\n",
      "Note: you may need to restart the kernel to use updated packages.\n"
     ]
    }
   ],
   "source": [
    "pip install  dask"
   ]
  },
  {
   "cell_type": "code",
   "execution_count": 2,
   "metadata": {
    "collapsed": true,
    "jupyter": {
     "outputs_hidden": true
    }
   },
   "outputs": [
    {
     "name": "stdout",
     "output_type": "stream",
     "text": [
      "Collecting ipwhois\n",
      "  Downloading ipwhois-1.2.0-py2.py3-none-any.whl (73 kB)\n",
      "\u001b[K     |████████████████████████████████| 73 kB 5.2 MB/s  eta 0:00:01\n",
      "\u001b[?25hCollecting dnspython<=2.0.0\n",
      "  Downloading dnspython-2.0.0-py3-none-any.whl (208 kB)\n",
      "\u001b[K     |████████████████████████████████| 208 kB 40.4 MB/s eta 0:00:01\n",
      "\u001b[?25hInstalling collected packages: dnspython, ipwhois\n",
      "Successfully installed dnspython-2.0.0 ipwhois-1.2.0\n",
      "\u001b[33mWARNING: You are using pip version 20.2.3; however, version 20.3.4 is available.\n",
      "You should consider upgrading via the '/usr/bin/python3.8 -m pip install --upgrade pip' command.\u001b[0m\n",
      "Note: you may need to restart the kernel to use updated packages.\n"
     ]
    }
   ],
   "source": [
    "pip install ipwhois"
   ]
  },
  {
   "cell_type": "code",
   "execution_count": 3,
   "metadata": {
    "collapsed": true,
    "jupyter": {
     "outputs_hidden": true
    }
   },
   "outputs": [
    {
     "name": "stdout",
     "output_type": "stream",
     "text": [
      "Collecting plotly\n",
      "  Downloading plotly-4.14.3-py2.py3-none-any.whl (13.2 MB)\n",
      "\u001b[K     |████████████████████████████████| 13.2 MB 11.7 MB/s eta 0:00:01\n",
      "\u001b[?25hRequirement already satisfied: six in /usr/lib/python3/dist-packages (from plotly) (1.11.0)\n",
      "Collecting retrying>=1.3.3\n",
      "  Downloading retrying-1.3.3.tar.gz (10 kB)\n",
      "Building wheels for collected packages: retrying\n",
      "  Building wheel for retrying (setup.py) ... \u001b[?25ldone\n",
      "\u001b[?25h  Created wheel for retrying: filename=retrying-1.3.3-py3-none-any.whl size=11429 sha256=f51a0a5b25073c7434c1328bf38219182c865c50e0682d10db139e029391b843\n",
      "  Stored in directory: /root/.cache/pip/wheels/c4/a7/48/0a434133f6d56e878ca511c0e6c38326907c0792f67b476e56\n",
      "Successfully built retrying\n",
      "Installing collected packages: retrying, plotly\n",
      "Successfully installed plotly-4.14.3 retrying-1.3.3\n",
      "\u001b[33mWARNING: You are using pip version 20.2.3; however, version 20.3.4 is available.\n",
      "You should consider upgrading via the '/usr/bin/python3.8 -m pip install --upgrade pip' command.\u001b[0m\n",
      "Note: you may need to restart the kernel to use updated packages.\n"
     ]
    }
   ],
   "source": [
    "pip install plotly"
   ]
  },
  {
   "cell_type": "code",
   "execution_count": 4,
   "metadata": {
    "collapsed": true,
    "jupyter": {
     "outputs_hidden": true
    }
   },
   "outputs": [
    {
     "name": "stdout",
     "output_type": "stream",
     "text": [
      "Collecting pyarrow\n",
      "  Downloading pyarrow-4.0.0-cp38-cp38-manylinux2014_x86_64.whl (21.9 MB)\n",
      "\u001b[K     |████████████████████████████████| 21.9 MB 12.2 MB/s eta 0:00:01\n",
      "\u001b[?25hRequirement already satisfied: numpy>=1.16.6 in /usr/local/lib/python3.8/dist-packages (from pyarrow) (1.19.2)\n",
      "Installing collected packages: pyarrow\n",
      "Successfully installed pyarrow-4.0.0\n",
      "\u001b[33mWARNING: You are using pip version 20.2.3; however, version 20.3.4 is available.\n",
      "You should consider upgrading via the '/usr/bin/python3.8 -m pip install --upgrade pip' command.\u001b[0m\n",
      "Note: you may need to restart the kernel to use updated packages.\n"
     ]
    }
   ],
   "source": [
    "pip install pyarrow"
   ]
  },
  {
   "cell_type": "code",
   "execution_count": 1,
   "metadata": {},
   "outputs": [
    {
     "name": "stdout",
     "output_type": "stream",
     "text": [
      "Success\n"
     ]
    }
   ],
   "source": [
    "import pandas as pd\n",
    "import itertools\n",
    "from elasticsearch import Elasticsearch\n",
    "from elasticsearch.helpers import scan\n",
    "from concurrent.futures import ThreadPoolExecutor, ProcessPoolExecutor\n",
    "from multiprocessing import Manager\n",
    "\n",
    "import datetime as dt\n",
    "import pickle\n",
    "\n",
    "import pandas as pd\n",
    "import matplotlib.pyplot as plt\n",
    "import numpy as np\n",
    "\n",
    "import utils.helpers as hp\n",
    "from utils.helpers import timer \n",
    "import model.queries as qrs\n",
    "\n",
    "import os.path\n",
    "from os import path\n",
    "\n",
    "import logging\n",
    "import os\n",
    "\n",
    "logging.basicConfig(format = '%(asctime)s %(message)s',\n",
    "                    datefmt = '%m/%d/%Y %I:%M:%S %p',\n",
    "                    filename = 'progress.log',\n",
    "                    level=logging.INFO)\n",
    "\n",
    "\n",
    "import pyarrow as pa\n",
    "import pyarrow.parquet as pq\n",
    "\n",
    "def write2Parquet(df, filename):\n",
    "    table = pa.Table.from_pandas(df, preserve_index=True)\n",
    "    pq.write_table(table, filename)\n",
    "\n",
    "    \n",
    "    \n",
    "dir_path = '/data/petya/parquet/trace_and_loss'\n",
    "def saveData(df, file_name):\n",
    "    with open(f\"{dir_path}/{file_name}.pkl\",\"wb\") as f:\n",
    "        pickle.dump(df,f)\n",
    "        \n",
    "def loadData(df):\n",
    "    with open(f'{dir_path}/{df}.pkl', 'rb') as pickle_file:\n",
    "        return pickle.load(pickle_file)"
   ]
  },
  {
   "cell_type": "code",
   "execution_count": 2,
   "metadata": {},
   "outputs": [],
   "source": [
    "def scan_gen(scan):\n",
    "    while True:\n",
    "        try:\n",
    "            yield next(scan)['_source']\n",
    "        except:\n",
    "            break\n",
    "\n",
    "def ps_trace_hashes(dt,src, dest,include=[\"timestamp\",\"route-sha1\",\"hops\",\"asns\",\"destination_reached\",\"src\",\"dest\",\"looping\",\"path_complete\"]):\n",
    "    query = {\n",
    "      \"query\" : {\n",
    "        \"bool\" : {\n",
    "          \"must\" : [\n",
    "            {\n",
    "              \"range\" : {\n",
    "                \"timestamp\" : {\n",
    "                  \"gt\" : dt[0],\n",
    "                  \"lte\": dt[1]\n",
    "                }\n",
    "              }\n",
    "            },\n",
    "            {\n",
    "              \"term\" : {\n",
    "                'src' : {\n",
    "                  \"value\" : src\n",
    "                }\n",
    "              }\n",
    "            },\n",
    "            {\n",
    "              \"term\" : {\n",
    "                'dest' : {\n",
    "                  \"value\" : dest\n",
    "                }\n",
    "              }\n",
    "            }\n",
    "          ]\n",
    "        }\n",
    "      }\n",
    "    }\n",
    "#     print(str(query).replace(\"\\'\", \"\\\"\"))\n",
    "    try:\n",
    "        return scan_gen(scan(hp.es,index=\"ps_trace\",query=query, _source=include, filter_path=['_scroll_id', '_shards', 'hits.hits._source']))\n",
    "    except Exception as e:\n",
    "        print(e)\n",
    "        \n",
    "        \n",
    "def getMeanLoss(dt, src, dest):\n",
    "    q = {\n",
    "          \"size\" : 0,\n",
    "          \"query\" : {  \n",
    "            \"bool\" : {\n",
    "              \"must\" : [\n",
    "                {\n",
    "                  \"range\" : {\n",
    "                    \"timestamp\" : {\n",
    "                      \"from\" : dt[0],\n",
    "                      \"to\" : dt[1]\n",
    "                    }\n",
    "                  }\n",
    "                },\n",
    "                {\n",
    "                  \"term\" : {\n",
    "                    \"src\" : src\n",
    "                  }\n",
    "                },\n",
    "                {\n",
    "                  \"term\" : {\n",
    "                    \"dest\" : dest\n",
    "                  }\n",
    "                }\n",
    "              ]\n",
    "            }\n",
    "          },\n",
    "          \"aggs\": {\n",
    "            \"packet_loss\": {\n",
    "              \"avg\": {\n",
    "                \"field\": \"packet_loss\"\n",
    "              }\n",
    "            }\n",
    "          }\n",
    "        }\n",
    "#     print(str(q).replace(\"\\'\", \"\\\"\"))\n",
    "    \n",
    "    data = hp.es.search(index='ps_packetloss', body=q, \n",
    "                _source=[ \"packet_loss\"])\n",
    "\n",
    "    return data['aggregations']['packet_loss']['value']\n",
    "\n",
    "    \n",
    "def ps_packetloss(dt, src, dest, include=[\"timestamp\",\"src\",\"dest\",\"packet_loss\"]):\n",
    "    query = {\n",
    "      \"query\" : {\n",
    "        \"bool\" : {\n",
    "          \"must\" : [\n",
    "            {\n",
    "              \"range\" : {\n",
    "                \"timestamp\" : {\n",
    "                  \"gt\" : dt[0],\n",
    "                  \"lte\": dt[1]\n",
    "                }\n",
    "              }\n",
    "            },\n",
    "            {\n",
    "              \"term\" : {\n",
    "                'src' : {\n",
    "                  \"value\" : src\n",
    "                }\n",
    "              }\n",
    "            },\n",
    "            {\n",
    "              \"term\" : {\n",
    "                'dest' : {\n",
    "                  \"value\" : dest\n",
    "                }\n",
    "              }\n",
    "            }\n",
    "          ]\n",
    "        }\n",
    "      }\n",
    "    }\n",
    "#     print(str(query).replace(\"\\'\", \"\\\"\"))\n",
    "    data = []\n",
    "    try:\n",
    "        gen = scan_gen(scan(hp.es,index=\"ps_packetloss\",query=query, _source=include, filter_path=['_scroll_id', '_shards', 'hits.hits._source']))\n",
    "        for meta in gen:\n",
    "            data.append(meta)\n",
    "            \n",
    "        df = pd.DataFrame(data)\n",
    "        if len(data)>0:\n",
    "            df['dt'] = pd.to_datetime(df['timestamp'], unit='ms')\n",
    "        return df\n",
    "            \n",
    "    except Exception as e:\n",
    "        print(e)\n",
    "\n",
    "        \n",
    "def ps_trace(es, dt, src, dest):\n",
    "    scan_gen = ps_trace_hashes(dt, src, dest)\n",
    "    data = []\n",
    "    hashes = {}\n",
    "    records = 0\n",
    "\n",
    "    for meta in scan_gen:\n",
    "        data.append(meta)\n",
    "#         print(meta)\n",
    "        if 'route-sha1' in data[records]:\n",
    "#         for doc in meta:\n",
    "            hashes[meta['route-sha1']] = meta['hops']\n",
    "        records += 1\n",
    "        if not records % 500000:\n",
    "            print(records)\n",
    "\n",
    "    df = pd.DataFrame(data)\n",
    "    if len(data)>0:\n",
    "        df['dt'] = pd.to_datetime(df['timestamp'], unit='ms')\n",
    "    return df\n"
   ]
  },
  {
   "cell_type": "code",
   "execution_count": 3,
   "metadata": {},
   "outputs": [],
   "source": [
    "import shutil\n",
    "\n",
    "\n",
    "\n",
    "try:\n",
    "    shutil.rmtree(dir_path)\n",
    "except OSError as e:\n",
    "    print(\"Error: %s : %s\" % (dir_path, e.strerror))\n",
    "\n",
    "try:\n",
    "    os.makedirs(dir_path)\n",
    "    os.makedirs(f'{dir_path}')\n",
    "except OSError as e:\n",
    "    pass\n",
    "\n",
    "startDate, endDate = hp.defaultTimeRange(days = 1)\n",
    "with open('/data/petya/period.pkl','wb') as outfile:\n",
    "    pickle.dump([startDate, endDate],outfile)\n",
    "\n",
    "dt = hp.GetTimeRanges(startDate, endDate)"
   ]
  },
  {
   "cell_type": "code",
   "execution_count": null,
   "metadata": {},
   "outputs": [],
   "source": []
  },
  {
   "cell_type": "markdown",
   "metadata": {},
   "source": [
    " "
   ]
  },
  {
   "cell_type": "markdown",
   "metadata": {},
   "source": [
    "### Get all tested pairs"
   ]
  },
  {
   "cell_type": "code",
   "execution_count": 4,
   "metadata": {},
   "outputs": [
    {
     "name": "stdout",
     "output_type": "stream",
     "text": [
      "CPU times: user 114 ms, sys: 22.8 ms, total: 136 ms\n",
      "Wall time: 4.14 s\n"
     ]
    }
   ],
   "source": [
    "%time pairs = qrs.queryAllTestedPairs(dt)\n",
    "pairsDf = pd.DataFrame(pairs)\n",
    "\n",
    "write2Parquet(pairsDf, '/data/petya/pairsDf')"
   ]
  },
  {
   "cell_type": "code",
   "execution_count": null,
   "metadata": {},
   "outputs": [],
   "source": []
  },
  {
   "cell_type": "markdown",
   "metadata": {},
   "source": [
    "\n",
    "\n",
    "\n",
    "\n"
   ]
  },
  {
   "cell_type": "markdown",
   "metadata": {},
   "source": [
    "### Get ps_trace data pair by pair and store all pairs in a list\n",
    "\n",
    "#### TODO: start a few threads for that to load"
   ]
  },
  {
   "cell_type": "code",
   "execution_count": 5,
   "metadata": {},
   "outputs": [
    {
     "name": "stdout",
     "output_type": "stream",
     "text": [
      "CPU times: user 18.5 s, sys: 2.05 s, total: 20.6 s\n",
      "Wall time: 4min 24s\n",
      "Number of src-dest pairs in ps_trace 2993\n"
     ]
    }
   ],
   "source": [
    "location = dir_path\n",
    "tracedata = []\n",
    "def getTraceData():\n",
    "#     tracedata = []\n",
    "    i = 0\n",
    "    for src, dest in pairsDf[pairsDf['idx']=='ps_packetloss'][['src', 'dest']].values:\n",
    "        data = ps_trace(hp.es, dt, src, dest)\n",
    "        filename = f'{location}/{src}-{dest}.parquet'\n",
    "        if len(data)>0:\n",
    "#             tracedata.append({'src': src, 'dest': dest, 'data':data})\n",
    "            tracedata.append(data)\n",
    "            write2Parquet(data, filename)\n",
    "        i+=1\n",
    "    return tracedata\n",
    "\n",
    "%time tracedata = getTraceData()\n",
    "\n",
    "\n",
    "print('Number of src-dest pairs in ps_trace',len(tracedata))"
   ]
  },
  {
   "cell_type": "markdown",
   "metadata": {},
   "source": [
    "### Calculate the packet loss between each two traceroute measures"
   ]
  },
  {
   "cell_type": "markdown",
   "metadata": {},
   "source": [
    "##### Version Parquet"
   ]
  },
  {
   "cell_type": "code",
   "execution_count": 6,
   "metadata": {},
   "outputs": [],
   "source": [
    "def splitUnknownPath(df):\n",
    "    # print(df.loc[len(df)])\n",
    "    try: \n",
    "        split_rows = []\n",
    "        for idx, row in df[df['path_changed']==1].iterrows():\n",
    "            if row['timestamp_prev']>0:\n",
    "    #             print(row, )\n",
    "                begin = row['timestamp']\n",
    "                end = row['timestamp_prev']\n",
    "                midpoint = int(begin + (end - begin) / 2)\n",
    "\n",
    "                # Add a flag that will tell that the measurement was split in two by timestamp. All other values remain the same\n",
    "                row['path_changed'] = 2\n",
    "                # Mark the row which was divided in two separate measures with 3, in order to be deleted later\n",
    "                df.loc[idx, 'path_changed'] = 3\n",
    "\n",
    "                # first interval\n",
    "                row['timestamp_prev'] = midpoint\n",
    "                split_rows.append(row)\n",
    "                # second interval\n",
    "                row['timestamp'] = midpoint\n",
    "                row['timestamp_prev'] = end\n",
    "\n",
    "                split_rows.append(row)\n",
    "        \n",
    "        # add the new rows to the dataframe\n",
    "        for i in range(0,len(split_rows)):\n",
    "            df.loc[i+len(df)] = split_rows[i]\n",
    "\n",
    "        # remove the original rows\n",
    "        df = df[df['path_changed']<3]\n",
    "\n",
    "        return df\n",
    "    except Exception as e:\n",
    "        print('2', split_rows[['src','dest']].values[0], e)\n",
    "\n",
    "\n",
    "def calculatePathLoss(trace_df):\n",
    "    \n",
    "    try: \n",
    "        src = trace_df['src'][0]\n",
    "        dest = trace_df['dest'][0]\n",
    "        \n",
    "\n",
    "        trace_df = trace_df.sort_values('timestamp', ascending=True)\n",
    "        # get the previous row value\n",
    "        trace_df['timestamp_prev'] = trace_df.timestamp.shift(1,fill_value=0)\n",
    "        trace_df['route-sha1_prev'] = trace_df['route-sha1'].shift(1)\n",
    "        plossDf = ps_packetloss([trace_df['timestamp'].min(), trace_df['timestamp'].max()],src, dest)\n",
    "\n",
    "        def calcLoss(row):\n",
    "            loss = None\n",
    "            pathChanged = 1\n",
    "            if row['timestamp_prev']>0:\n",
    "                loss = plossDf[(plossDf['timestamp']<=row['timestamp']) & (plossDf['timestamp']>=row['timestamp_prev'])]['packet_loss'].mean()\n",
    "                if row['route-sha1'] == row['route-sha1_prev']:\n",
    "                    pathChanged = 0\n",
    "\n",
    "            return pd.Series([loss, pathChanged])\n",
    "\n",
    "        # in some cases there are no packetloss measures for the min-max time in traceroute measures\n",
    "        if len(plossDf) > 0:\n",
    "            trace_df[['loss', 'path_changed']] = trace_df.apply(calcLoss, axis=1)\n",
    "            \n",
    "            \n",
    "            if len(trace_df[trace_df['path_changed']==1])>1:\n",
    "                trace_df = splitUnknownPath(trace_df)\n",
    "\n",
    "            filename = f\"/data/petya/parquet/augmented/{trace_df['src'].unique()[0]}-{trace_df['dest'].unique()[0]}.parquet\"\n",
    "\n",
    "            # write to a pickle file\n",
    "            if path.exists(filename):\n",
    "                if os.path.getsize(filename) > 0:          \n",
    "                    ff = pq.read_pandas(filename).to_pandas()\n",
    "\n",
    "                    if len(ff) != len(trace_df) or any(x not in ff.columns for x in ['loss', 'path_changed']):\n",
    "        #                     print('File not OK. Write!', len(ff), len(trace_df))\n",
    "                        trace_df = write2Parquet(trace_df, filename)\n",
    "                else: trace_df = write2Parquet(trace_df, filename)\n",
    "            else:\n",
    "                trace_df = write2Parquet(trace_df, filename)\n",
    "\n",
    "            return trace_df\n",
    "    \n",
    "    except Exception as e:\n",
    "        print('1', src, dest, e)"
   ]
  },
  {
   "cell_type": "code",
   "execution_count": null,
   "metadata": {},
   "outputs": [],
   "source": []
  },
  {
   "cell_type": "code",
   "execution_count": 7,
   "metadata": {},
   "outputs": [
    {
     "data": {
      "text/plain": [
       "2993"
      ]
     },
     "execution_count": 7,
     "metadata": {},
     "output_type": "execute_result"
    }
   ],
   "source": [
    "len(tracedata)"
   ]
  },
  {
   "cell_type": "markdown",
   "metadata": {},
   "source": [
    "### Run the calculations in parallel"
   ]
  },
  {
   "cell_type": "code",
   "execution_count": 8,
   "metadata": {},
   "outputs": [
    {
     "name": "stdout",
     "output_type": "stream",
     "text": [
      "CPU times: user 1.83 s, sys: 897 ms, total: 2.73 s\n",
      "Wall time: 4min 53s\n"
     ]
    }
   ],
   "source": [
    "import multiprocessing\n",
    "from concurrent.futures import ThreadPoolExecutor, ProcessPoolExecutor\n",
    "\n",
    "pairsWithNoPathsRemoved = []\n",
    "for i, df in enumerate(tracedata):\n",
    "    if 'route-sha1' in df.columns:\n",
    "        pairsWithNoPathsRemoved.append(df)\n",
    "# print(f'There are {len(tracedata)-len(pairsWithNoPathsRemoved)} pairs missing route-sha1 field')\n",
    "\n",
    "def addPacketLoss2Df():\n",
    "    with ProcessPoolExecutor(max_workers=4) as pool:\n",
    "        result = [res for res in pool.map(calculatePathLoss, pairsWithNoPathsRemoved) if res is not None]\n",
    "    return result\n",
    "\n",
    "\n",
    "%time tracedata = addPacketLoss2Df()"
   ]
  },
  {
   "cell_type": "markdown",
   "metadata": {},
   "source": [
    "## Merge all pairs into a Dask dataframe"
   ]
  },
  {
   "cell_type": "code",
   "execution_count": 9,
   "metadata": {},
   "outputs": [],
   "source": [
    "import dask\n",
    "import dask.dataframe as dd\n",
    "\n",
    "files = []\n",
    "for filename in os.listdir(dir_path):\n",
    "    df = pd.read_parquet(f'{dir_path}/{filename}')\n",
    "    # in some cases there are no packetloss measures for the min-max time in traceroute measures\n",
    "    if 'loss' in df.columns:\n",
    "        files.append(f'{dir_path}/{filename}')\n",
    "    \n",
    "    \n",
    "mergedDf = dd.read_parquet(files, npartitions=4*4).compute()"
   ]
  },
  {
   "cell_type": "code",
   "execution_count": 10,
   "metadata": {},
   "outputs": [
    {
     "data": {
      "text/plain": [
       "561997"
      ]
     },
     "execution_count": 10,
     "metadata": {},
     "output_type": "execute_result"
    }
   ],
   "source": [
    "len(mergedDf)"
   ]
  },
  {
   "cell_type": "markdown",
   "metadata": {},
   "source": [
    "### Build a dictionarry of hashes and their set of IP addresses"
   ]
  },
  {
   "cell_type": "code",
   "execution_count": 12,
   "metadata": {},
   "outputs": [
    {
     "name": "stdout",
     "output_type": "stream",
     "text": [
      "Number of unique paths: 70108\n",
      "CPU times: user 4.85 s, sys: 3.13 s, total: 7.99 s\n",
      "Wall time: 27.7 s\n"
     ]
    }
   ],
   "source": [
    "import os\n",
    "import pickle\n",
    "manager = Manager() \n",
    "hashDict = manager.dict()\n",
    "\n",
    "def getHashes2IPlist(filename):\n",
    "    df = pd.read_parquet(f'{dir_path}/{filename}')\n",
    "    \n",
    "    for path in df['route-sha1'].unique().tolist():\n",
    "        hops = df[df['route-sha1']==path]['hops'].to_list()\n",
    "        if len(hops)>0:\n",
    "            hashDict[path] = hops[0].tolist()\n",
    "\n",
    "\n",
    "def run():\n",
    "    files = os.listdir(dir_path)\n",
    "    with ProcessPoolExecutor(max_workers=4) as pool:\n",
    "        pool.map(getHashes2IPlist, files)\n",
    "\n",
    "    print(f'Number of unique paths: {len(hashDict)}')\n",
    "    saveData(dict(hashDict), 'hashDict')\n",
    "    return dict(hashDict)\n",
    "\n",
    "%time hashDict = run()"
   ]
  },
  {
   "cell_type": "code",
   "execution_count": 13,
   "metadata": {},
   "outputs": [],
   "source": [
    "saveData(dict(hashDict), 'hashDict')"
   ]
  },
  {
   "cell_type": "markdown",
   "metadata": {},
   "source": [
    "### Get only the good paths, loop and extract the hops"
   ]
  },
  {
   "cell_type": "code",
   "execution_count": 42,
   "metadata": {},
   "outputs": [],
   "source": [
    "# badPathsRemoved = mergedDf[(mergedDf['looping']==False)&(mergedDf['path_complete']==True)]\n",
    "# aggmerged = badPathsRemoved.groupby(['route-sha1', 'src', 'dest']).agg({'loss': 'mean'}).reset_index()\n",
    "\n",
    "# assign an id to each hop\n",
    "\n",
    "paths = mergedDf.groupby(['route-sha1', 'src', 'dest']).agg({'loss': 'mean'}).reset_index()\n",
    "logging.info(f'Number of paths {len(paths)}')\n",
    "hopsList = []\n",
    "hash2hopsIds = {}\n",
    "\n",
    "def f(row):\n",
    "    path = row['route-sha1']\n",
    "    hops = hashDict[path]\n",
    "    if len(hops)>0:\n",
    "#         hops = None\n",
    "\n",
    "        # add source to the list of hops to mark the first hop\n",
    "        if row['src'] != hops[0]:\n",
    "            hops.insert(0, row['src'])\n",
    "        ids = []\n",
    "        if \n",
    "        for i, ip in enumerate(hops):\n",
    "            if i < len(hops)-1:\n",
    "                # do not add looping values \n",
    "                if hops[i] != hops[i+1]:\n",
    "                    hopsList.append({'src': row['src'], 'dest': row['dest'], 'hash': row['route-sha1'],\n",
    "                                     'pos': i, 'hop': (hops[i], hops[i+1]), 'path_mean': row['loss'],\n",
    "                                     'start': hops[i], 'end': hops[i+1]\n",
    "                                    })\n",
    "#                     ids.append(hopsId[(hops[i], hops[i+1])])\n",
    "#         hash2hopsIds[path] = ids\n",
    "    if row.name%5000 == 0:\n",
    "        logging.info(f'Reached {row.name}')\n",
    "\n",
    "\n",
    "# get information about the hops\n",
    "paths.apply(f, axis=1)\n",
    "\n",
    "hopsDf = pd.DataFrame.from_dict(hopsList, orient='columns')\n",
    "# hopsDf[['start', 'end']] = pd.DataFrame(hopsDf['hop'].tolist(), index=hopsDf.index)\n",
    "hopsId = {x: i for i, x in enumerate(hopsDf['hop'].unique())}\n",
    "hopsDf['hop_id'] = hopsDf['hop'].apply(lambda h: hopsId[h])\n",
    "\n",
    "\n",
    "saveData(hopsDf, 'hopsDf')"
   ]
  },
  {
   "cell_type": "code",
   "execution_count": 43,
   "metadata": {},
   "outputs": [
    {
     "data": {
      "text/html": [
       "<div>\n",
       "<style scoped>\n",
       "    .dataframe tbody tr th:only-of-type {\n",
       "        vertical-align: middle;\n",
       "    }\n",
       "\n",
       "    .dataframe tbody tr th {\n",
       "        vertical-align: top;\n",
       "    }\n",
       "\n",
       "    .dataframe thead th {\n",
       "        text-align: right;\n",
       "    }\n",
       "</style>\n",
       "<table border=\"1\" class=\"dataframe\">\n",
       "  <thead>\n",
       "    <tr style=\"text-align: right;\">\n",
       "      <th></th>\n",
       "      <th>src</th>\n",
       "      <th>dest</th>\n",
       "      <th>hash</th>\n",
       "      <th>pos</th>\n",
       "      <th>hop</th>\n",
       "      <th>path_mean</th>\n",
       "      <th>start</th>\n",
       "      <th>end</th>\n",
       "      <th>hop_id</th>\n",
       "    </tr>\n",
       "  </thead>\n",
       "  <tbody>\n",
       "    <tr>\n",
       "      <th>0</th>\n",
       "      <td>2001:610:108:203a::31</td>\n",
       "      <td>2001:48a8:68f7:8001:192:41:236:31</td>\n",
       "      <td>0001396e2f1a2cc8b8a1d29e56e5b5537115c64d</td>\n",
       "      <td>0</td>\n",
       "      <td>(2001:610:108:203a::31, 2001:610:108:203a::2)</td>\n",
       "      <td>0.0</td>\n",
       "      <td>2001:610:108:203a::31</td>\n",
       "      <td>2001:610:108:203a::2</td>\n",
       "      <td>0</td>\n",
       "    </tr>\n",
       "    <tr>\n",
       "      <th>1</th>\n",
       "      <td>2001:610:108:203a::31</td>\n",
       "      <td>2001:48a8:68f7:8001:192:41:236:31</td>\n",
       "      <td>0001396e2f1a2cc8b8a1d29e56e5b5537115c64d</td>\n",
       "      <td>2</td>\n",
       "      <td>(2001:610:108:203a::2, 2001:610:108:1025::1)</td>\n",
       "      <td>0.0</td>\n",
       "      <td>2001:610:108:203a::2</td>\n",
       "      <td>2001:610:108:1025::1</td>\n",
       "      <td>1</td>\n",
       "    </tr>\n",
       "    <tr>\n",
       "      <th>2</th>\n",
       "      <td>2001:610:108:203a::31</td>\n",
       "      <td>2001:48a8:68f7:8001:192:41:236:31</td>\n",
       "      <td>0001396e2f1a2cc8b8a1d29e56e5b5537115c64d</td>\n",
       "      <td>3</td>\n",
       "      <td>(2001:610:108:1025::1, 2001:798:111:1::49)</td>\n",
       "      <td>0.0</td>\n",
       "      <td>2001:610:108:1025::1</td>\n",
       "      <td>2001:798:111:1::49</td>\n",
       "      <td>2</td>\n",
       "    </tr>\n",
       "    <tr>\n",
       "      <th>3</th>\n",
       "      <td>2001:610:108:203a::31</td>\n",
       "      <td>2001:48a8:68f7:8001:192:41:236:31</td>\n",
       "      <td>0001396e2f1a2cc8b8a1d29e56e5b5537115c64d</td>\n",
       "      <td>5</td>\n",
       "      <td>(2001:798:111:1::49, 2001:400:f002:39::5)</td>\n",
       "      <td>0.0</td>\n",
       "      <td>2001:798:111:1::49</td>\n",
       "      <td>2001:400:f002:39::5</td>\n",
       "      <td>3</td>\n",
       "    </tr>\n",
       "    <tr>\n",
       "      <th>4</th>\n",
       "      <td>2001:610:108:203a::31</td>\n",
       "      <td>2001:48a8:68f7:8001:192:41:236:31</td>\n",
       "      <td>0001396e2f1a2cc8b8a1d29e56e5b5537115c64d</td>\n",
       "      <td>6</td>\n",
       "      <td>(2001:400:f002:39::5, 2001:400:f002:39::6)</td>\n",
       "      <td>0.0</td>\n",
       "      <td>2001:400:f002:39::5</td>\n",
       "      <td>2001:400:f002:39::6</td>\n",
       "      <td>4</td>\n",
       "    </tr>\n",
       "  </tbody>\n",
       "</table>\n",
       "</div>"
      ],
      "text/plain": [
       "                     src                               dest  \\\n",
       "0  2001:610:108:203a::31  2001:48a8:68f7:8001:192:41:236:31   \n",
       "1  2001:610:108:203a::31  2001:48a8:68f7:8001:192:41:236:31   \n",
       "2  2001:610:108:203a::31  2001:48a8:68f7:8001:192:41:236:31   \n",
       "3  2001:610:108:203a::31  2001:48a8:68f7:8001:192:41:236:31   \n",
       "4  2001:610:108:203a::31  2001:48a8:68f7:8001:192:41:236:31   \n",
       "\n",
       "                                       hash  pos  \\\n",
       "0  0001396e2f1a2cc8b8a1d29e56e5b5537115c64d    0   \n",
       "1  0001396e2f1a2cc8b8a1d29e56e5b5537115c64d    2   \n",
       "2  0001396e2f1a2cc8b8a1d29e56e5b5537115c64d    3   \n",
       "3  0001396e2f1a2cc8b8a1d29e56e5b5537115c64d    5   \n",
       "4  0001396e2f1a2cc8b8a1d29e56e5b5537115c64d    6   \n",
       "\n",
       "                                             hop  path_mean  \\\n",
       "0  (2001:610:108:203a::31, 2001:610:108:203a::2)        0.0   \n",
       "1   (2001:610:108:203a::2, 2001:610:108:1025::1)        0.0   \n",
       "2     (2001:610:108:1025::1, 2001:798:111:1::49)        0.0   \n",
       "3      (2001:798:111:1::49, 2001:400:f002:39::5)        0.0   \n",
       "4     (2001:400:f002:39::5, 2001:400:f002:39::6)        0.0   \n",
       "\n",
       "                   start                   end  hop_id  \n",
       "0  2001:610:108:203a::31  2001:610:108:203a::2       0  \n",
       "1   2001:610:108:203a::2  2001:610:108:1025::1       1  \n",
       "2   2001:610:108:1025::1    2001:798:111:1::49       2  \n",
       "3     2001:798:111:1::49   2001:400:f002:39::5       3  \n",
       "4    2001:400:f002:39::5   2001:400:f002:39::6       4  "
      ]
     },
     "execution_count": 43,
     "metadata": {},
     "output_type": "execute_result"
    }
   ],
   "source": [
    "hopsDf.head()"
   ]
  },
  {
   "cell_type": "code",
   "execution_count": 44,
   "metadata": {},
   "outputs": [
    {
     "data": {
      "text/plain": [
       "0        None\n",
       "1        None\n",
       "2        None\n",
       "3        None\n",
       "4        None\n",
       "         ... \n",
       "70584    None\n",
       "70585    None\n",
       "70586    None\n",
       "70587    None\n",
       "70588    None\n",
       "Length: 70589, dtype: object"
      ]
     },
     "execution_count": 44,
     "metadata": {},
     "output_type": "execute_result"
    }
   ],
   "source": [
    "def f(row):\n",
    "    path = row['route-sha1']\n",
    "    hops = hashDict[path]\n",
    "    if len(hops)>0:\n",
    "#         hops = None\n",
    "        # add source to the list of hops to mark the first hop\n",
    "        if row['src'] != hops[0]:\n",
    "            hops.insert(0, row['src'])\n",
    "        ids = []\n",
    "        for i, ip in enumerate(hops):\n",
    "            if i < len(hops)-1:\n",
    "                # do not add looping values \n",
    "                if hops[i] != hops[i+1]:\n",
    "                    ids.append(hopsId[(hops[i], hops[i+1])])\n",
    "        hash2hopsIds[path] = ids\n",
    "    if row.name%5000 == 0:\n",
    "        logging.info(f'Reached {row.name}')\n",
    "\n",
    "\n",
    "# get information about the hops\n",
    "paths.apply(f, axis=1)"
   ]
  },
  {
   "cell_type": "code",
   "execution_count": 45,
   "metadata": {
    "collapsed": true,
    "jupyter": {
     "outputs_hidden": true
    }
   },
   "outputs": [
    {
     "data": {
      "text/html": [
       "<div>\n",
       "<style scoped>\n",
       "    .dataframe tbody tr th:only-of-type {\n",
       "        vertical-align: middle;\n",
       "    }\n",
       "\n",
       "    .dataframe tbody tr th {\n",
       "        vertical-align: top;\n",
       "    }\n",
       "\n",
       "    .dataframe thead th {\n",
       "        text-align: right;\n",
       "    }\n",
       "</style>\n",
       "<table border=\"1\" class=\"dataframe\">\n",
       "  <thead>\n",
       "    <tr style=\"text-align: right;\">\n",
       "      <th></th>\n",
       "      <th>src</th>\n",
       "      <th>dest</th>\n",
       "      <th>hash</th>\n",
       "      <th>pos</th>\n",
       "      <th>hop</th>\n",
       "      <th>path_mean</th>\n",
       "      <th>start</th>\n",
       "      <th>end</th>\n",
       "      <th>hop_id</th>\n",
       "    </tr>\n",
       "  </thead>\n",
       "  <tbody>\n",
       "    <tr>\n",
       "      <th>17863</th>\n",
       "      <td>2001:660:3031:110:ffff::221</td>\n",
       "      <td>2001:12d0:8120::135</td>\n",
       "      <td>048cdc9f0bbf95640b3a61684b39f3d358893e20</td>\n",
       "      <td>0</td>\n",
       "      <td>(2001:660:3031:110:ffff::221, 2001:660:3031:11...</td>\n",
       "      <td>0.000006</td>\n",
       "      <td>2001:660:3031:110:ffff::221</td>\n",
       "      <td>2001:660:3031:110:ffff::222</td>\n",
       "      <td>3183</td>\n",
       "    </tr>\n",
       "    <tr>\n",
       "      <th>17880</th>\n",
       "      <td>2001:660:3031:110:ffff::222</td>\n",
       "      <td>2001:12d0:8120::136</td>\n",
       "      <td>048cdc9f0bbf95640b3a61684b39f3d358893e20</td>\n",
       "      <td>1</td>\n",
       "      <td>(2001:660:3031:110:ffff::221, 2001:660:3031:11...</td>\n",
       "      <td>0.000042</td>\n",
       "      <td>2001:660:3031:110:ffff::221</td>\n",
       "      <td>2001:660:3031:110:ffff::222</td>\n",
       "      <td>3183</td>\n",
       "    </tr>\n",
       "    <tr>\n",
       "      <th>17927</th>\n",
       "      <td>2001:660:3031:110:ffff::221</td>\n",
       "      <td>2001:12d0:8120::135</td>\n",
       "      <td>04901888f8bd7ed2c8846804abaece32a09c7e1e</td>\n",
       "      <td>0</td>\n",
       "      <td>(2001:660:3031:110:ffff::221, 2001:660:3031:11...</td>\n",
       "      <td>0.000060</td>\n",
       "      <td>2001:660:3031:110:ffff::221</td>\n",
       "      <td>2001:660:3031:110:ffff::222</td>\n",
       "      <td>3183</td>\n",
       "    </tr>\n",
       "    <tr>\n",
       "      <th>17943</th>\n",
       "      <td>2001:660:3031:110:ffff::222</td>\n",
       "      <td>2001:12d0:8120::136</td>\n",
       "      <td>04901888f8bd7ed2c8846804abaece32a09c7e1e</td>\n",
       "      <td>1</td>\n",
       "      <td>(2001:660:3031:110:ffff::221, 2001:660:3031:11...</td>\n",
       "      <td>0.000152</td>\n",
       "      <td>2001:660:3031:110:ffff::221</td>\n",
       "      <td>2001:660:3031:110:ffff::222</td>\n",
       "      <td>3183</td>\n",
       "    </tr>\n",
       "    <tr>\n",
       "      <th>44750</th>\n",
       "      <td>2001:660:3031:110:ffff::221</td>\n",
       "      <td>2001:12d0:8120::135</td>\n",
       "      <td>0b7a74310ecfa89d3404e9792229ed20fb583022</td>\n",
       "      <td>0</td>\n",
       "      <td>(2001:660:3031:110:ffff::221, 2001:660:3031:11...</td>\n",
       "      <td>0.000142</td>\n",
       "      <td>2001:660:3031:110:ffff::221</td>\n",
       "      <td>2001:660:3031:110:ffff::222</td>\n",
       "      <td>3183</td>\n",
       "    </tr>\n",
       "    <tr>\n",
       "      <th>...</th>\n",
       "      <td>...</td>\n",
       "      <td>...</td>\n",
       "      <td>...</td>\n",
       "      <td>...</td>\n",
       "      <td>...</td>\n",
       "      <td>...</td>\n",
       "      <td>...</td>\n",
       "      <td>...</td>\n",
       "      <td>...</td>\n",
       "    </tr>\n",
       "    <tr>\n",
       "      <th>936933</th>\n",
       "      <td>2001:660:3031:110:ffff::222</td>\n",
       "      <td>2001:12d0:8120::136</td>\n",
       "      <td>fa4ebc6bbac163a2e123a86ccf87cca928756ef2</td>\n",
       "      <td>1</td>\n",
       "      <td>(2001:660:3031:110:ffff::221, 2001:660:3031:11...</td>\n",
       "      <td>0.000000</td>\n",
       "      <td>2001:660:3031:110:ffff::221</td>\n",
       "      <td>2001:660:3031:110:ffff::222</td>\n",
       "      <td>3183</td>\n",
       "    </tr>\n",
       "    <tr>\n",
       "      <th>947552</th>\n",
       "      <td>2001:660:3031:110:ffff::221</td>\n",
       "      <td>2001:12d0:8120::135</td>\n",
       "      <td>fd1fe58224f0ffbfabbd39f1b2b79bed464caa03</td>\n",
       "      <td>0</td>\n",
       "      <td>(2001:660:3031:110:ffff::221, 2001:660:3031:11...</td>\n",
       "      <td>0.000035</td>\n",
       "      <td>2001:660:3031:110:ffff::221</td>\n",
       "      <td>2001:660:3031:110:ffff::222</td>\n",
       "      <td>3183</td>\n",
       "    </tr>\n",
       "    <tr>\n",
       "      <th>947567</th>\n",
       "      <td>2001:660:3031:110:ffff::222</td>\n",
       "      <td>2001:12d0:8120::136</td>\n",
       "      <td>fd1fe58224f0ffbfabbd39f1b2b79bed464caa03</td>\n",
       "      <td>1</td>\n",
       "      <td>(2001:660:3031:110:ffff::221, 2001:660:3031:11...</td>\n",
       "      <td>0.000000</td>\n",
       "      <td>2001:660:3031:110:ffff::221</td>\n",
       "      <td>2001:660:3031:110:ffff::222</td>\n",
       "      <td>3183</td>\n",
       "    </tr>\n",
       "    <tr>\n",
       "      <th>951114</th>\n",
       "      <td>2001:660:3031:110:ffff::221</td>\n",
       "      <td>2001:b30:800:f0f0:141:85:240:231</td>\n",
       "      <td>fe018303632bc71040d649b2d684bc5221d6b553</td>\n",
       "      <td>0</td>\n",
       "      <td>(2001:660:3031:110:ffff::221, 2001:660:3031:11...</td>\n",
       "      <td>0.000017</td>\n",
       "      <td>2001:660:3031:110:ffff::221</td>\n",
       "      <td>2001:660:3031:110:ffff::222</td>\n",
       "      <td>3183</td>\n",
       "    </tr>\n",
       "    <tr>\n",
       "      <th>951131</th>\n",
       "      <td>2001:660:3031:110:ffff::222</td>\n",
       "      <td>2001:b30:800:f0f0:141:85:240:231</td>\n",
       "      <td>fe018303632bc71040d649b2d684bc5221d6b553</td>\n",
       "      <td>1</td>\n",
       "      <td>(2001:660:3031:110:ffff::221, 2001:660:3031:11...</td>\n",
       "      <td>0.000000</td>\n",
       "      <td>2001:660:3031:110:ffff::221</td>\n",
       "      <td>2001:660:3031:110:ffff::222</td>\n",
       "      <td>3183</td>\n",
       "    </tr>\n",
       "  </tbody>\n",
       "</table>\n",
       "<p>216 rows × 9 columns</p>\n",
       "</div>"
      ],
      "text/plain": [
       "                                src                              dest  \\\n",
       "17863   2001:660:3031:110:ffff::221               2001:12d0:8120::135   \n",
       "17880   2001:660:3031:110:ffff::222               2001:12d0:8120::136   \n",
       "17927   2001:660:3031:110:ffff::221               2001:12d0:8120::135   \n",
       "17943   2001:660:3031:110:ffff::222               2001:12d0:8120::136   \n",
       "44750   2001:660:3031:110:ffff::221               2001:12d0:8120::135   \n",
       "...                             ...                               ...   \n",
       "936933  2001:660:3031:110:ffff::222               2001:12d0:8120::136   \n",
       "947552  2001:660:3031:110:ffff::221               2001:12d0:8120::135   \n",
       "947567  2001:660:3031:110:ffff::222               2001:12d0:8120::136   \n",
       "951114  2001:660:3031:110:ffff::221  2001:b30:800:f0f0:141:85:240:231   \n",
       "951131  2001:660:3031:110:ffff::222  2001:b30:800:f0f0:141:85:240:231   \n",
       "\n",
       "                                            hash  pos  \\\n",
       "17863   048cdc9f0bbf95640b3a61684b39f3d358893e20    0   \n",
       "17880   048cdc9f0bbf95640b3a61684b39f3d358893e20    1   \n",
       "17927   04901888f8bd7ed2c8846804abaece32a09c7e1e    0   \n",
       "17943   04901888f8bd7ed2c8846804abaece32a09c7e1e    1   \n",
       "44750   0b7a74310ecfa89d3404e9792229ed20fb583022    0   \n",
       "...                                          ...  ...   \n",
       "936933  fa4ebc6bbac163a2e123a86ccf87cca928756ef2    1   \n",
       "947552  fd1fe58224f0ffbfabbd39f1b2b79bed464caa03    0   \n",
       "947567  fd1fe58224f0ffbfabbd39f1b2b79bed464caa03    1   \n",
       "951114  fe018303632bc71040d649b2d684bc5221d6b553    0   \n",
       "951131  fe018303632bc71040d649b2d684bc5221d6b553    1   \n",
       "\n",
       "                                                      hop  path_mean  \\\n",
       "17863   (2001:660:3031:110:ffff::221, 2001:660:3031:11...   0.000006   \n",
       "17880   (2001:660:3031:110:ffff::221, 2001:660:3031:11...   0.000042   \n",
       "17927   (2001:660:3031:110:ffff::221, 2001:660:3031:11...   0.000060   \n",
       "17943   (2001:660:3031:110:ffff::221, 2001:660:3031:11...   0.000152   \n",
       "44750   (2001:660:3031:110:ffff::221, 2001:660:3031:11...   0.000142   \n",
       "...                                                   ...        ...   \n",
       "936933  (2001:660:3031:110:ffff::221, 2001:660:3031:11...   0.000000   \n",
       "947552  (2001:660:3031:110:ffff::221, 2001:660:3031:11...   0.000035   \n",
       "947567  (2001:660:3031:110:ffff::221, 2001:660:3031:11...   0.000000   \n",
       "951114  (2001:660:3031:110:ffff::221, 2001:660:3031:11...   0.000017   \n",
       "951131  (2001:660:3031:110:ffff::221, 2001:660:3031:11...   0.000000   \n",
       "\n",
       "                              start                          end  hop_id  \n",
       "17863   2001:660:3031:110:ffff::221  2001:660:3031:110:ffff::222    3183  \n",
       "17880   2001:660:3031:110:ffff::221  2001:660:3031:110:ffff::222    3183  \n",
       "17927   2001:660:3031:110:ffff::221  2001:660:3031:110:ffff::222    3183  \n",
       "17943   2001:660:3031:110:ffff::221  2001:660:3031:110:ffff::222    3183  \n",
       "44750   2001:660:3031:110:ffff::221  2001:660:3031:110:ffff::222    3183  \n",
       "...                             ...                          ...     ...  \n",
       "936933  2001:660:3031:110:ffff::221  2001:660:3031:110:ffff::222    3183  \n",
       "947552  2001:660:3031:110:ffff::221  2001:660:3031:110:ffff::222    3183  \n",
       "947567  2001:660:3031:110:ffff::221  2001:660:3031:110:ffff::222    3183  \n",
       "951114  2001:660:3031:110:ffff::221  2001:660:3031:110:ffff::222    3183  \n",
       "951131  2001:660:3031:110:ffff::221  2001:660:3031:110:ffff::222    3183  \n",
       "\n",
       "[216 rows x 9 columns]"
      ]
     },
     "execution_count": 45,
     "metadata": {},
     "output_type": "execute_result"
    }
   ],
   "source": [
    "list(hopsId)[2]\n",
    "\n",
    "# hopsId[('2001:660:3031:110:ffff::221', '2001:660:3031:110:ffff::222')]\n",
    "hopsDf\n",
    "hopsDf[(hopsDf['start']=='2001:660:3031:110:ffff::221')&(hopsDf['end']=='2001:660:3031:110:ffff::222')]"
   ]
  },
  {
   "cell_type": "code",
   "execution_count": 51,
   "metadata": {},
   "outputs": [],
   "source": [
    "hash2hopsIds[list(hash2hopsIds)[2]]\n",
    "\n",
    "hashDf = mergedDf.groupby('route-sha1')[['loss']].mean().reset_index()\n",
    "hashDf['hops_ids'] = hashDf['route-sha1'].apply(lambda path: hash2hopsIds[path])\n",
    "hashDf\n",
    "saveData(hashDf, 'hashDf')"
   ]
  },
  {
   "cell_type": "code",
   "execution_count": null,
   "metadata": {},
   "outputs": [],
   "source": []
  },
  {
   "cell_type": "markdown",
   "metadata": {},
   "source": [
    "### Get mean, median, mode for each hop and assign an id "
   ]
  },
  {
   "cell_type": "code",
   "execution_count": 47,
   "metadata": {},
   "outputs": [
    {
     "name": "stdout",
     "output_type": "stream",
     "text": [
      "Number of hops:  8311\n",
      "Done\n",
      "CPU times: user 6.18 s, sys: 1.5 s, total: 7.69 s\n",
      "Wall time: 5min 21s\n"
     ]
    }
   ],
   "source": [
    "import concurrent.futures\n",
    "import math\n",
    "\n",
    "\n",
    "def getStats(hop):\n",
    "    hashList =  hopsDf[(hopsDf['hop']==hop)]['hash'].to_list()\n",
    "    loss = mergedDf[mergedDf['route-sha1'].isin(hashList)]['loss']\n",
    "\n",
    "    mean, median, mode = None, None, None\n",
    "    if loss.isnull().values.all()==False:\n",
    "        mean = loss.mean()\n",
    "        median = loss.median()\n",
    "        mode = loss.mode()[0]\n",
    "\n",
    "    if hopsId[hop]%1000 == 0:\n",
    "        logging.info(f'Passed:, {hopsId[hop]}')\n",
    "        \n",
    "    return {\n",
    "        'hop_id': hopsId[hop],\n",
    "        'hop': hop,\n",
    "        'mean': mean,\n",
    "        'median': median,\n",
    "        'mode': mode\n",
    "    }\n",
    "\n",
    "\n",
    "def multi_processing():\n",
    "    items = []\n",
    "    uhops = hopsDf['hop'].unique()\n",
    "    print('Number of hops: ',len(uhops))\n",
    "    with  concurrent.futures.ProcessPoolExecutor(max_workers=4) as p:\n",
    "        processing = p.map(getStats, uhops)\n",
    "    print('Done')\n",
    "    for data in processing:\n",
    "        items.append(data)\n",
    "        \n",
    "    return items\n",
    "\n",
    "%time hopStats = multi_processing()\n",
    "\n",
    "hopStatsDf = pd.DataFrame(hopStats)\n",
    "saveData(hopStatsDf, 'hopStatsDf')"
   ]
  },
  {
   "cell_type": "code",
   "execution_count": null,
   "metadata": {},
   "outputs": [],
   "source": []
  },
  {
   "cell_type": "markdown",
   "metadata": {},
   "source": [
    "### Get the number of unique paths for each hop"
   ]
  },
  {
   "cell_type": "code",
   "execution_count": 48,
   "metadata": {},
   "outputs": [],
   "source": [
    "numHashesDf = hopsDf.groupby(['hop']).agg({'hash': 'count'})\n",
    "numHashesDf.rename(columns={'hash':'num_hashes'}, inplace=True)\n",
    "relDf = pd.merge(hopStatsDf, numHashesDf, on='hop')\n",
    "relDf.sort_values('mean', ascending=False)\n",
    "\n",
    "saveData(relDf, 'relDf')"
   ]
  },
  {
   "cell_type": "code",
   "execution_count": null,
   "metadata": {},
   "outputs": [],
   "source": []
  },
  {
   "cell_type": "code",
   "execution_count": null,
   "metadata": {},
   "outputs": [],
   "source": []
  },
  {
   "cell_type": "markdown",
   "metadata": {},
   "source": [
    "### Plot path mean loss to unique paths relationship"
   ]
  },
  {
   "cell_type": "code",
   "execution_count": 49,
   "metadata": {},
   "outputs": [
    {
     "data": {
      "text/plain": [
       "<AxesSubplot:xlabel='mean', ylabel='num_hashes'>"
      ]
     },
     "execution_count": 49,
     "metadata": {},
     "output_type": "execute_result"
    },
    {
     "data": {
      "image/png": "[encoded data removed]",
      "text/plain": [
       "<Figure size 1080x576 with 1 Axes>"
      ]
     },
     "metadata": {
      "needs_background": "light"
     },
     "output_type": "display_data"
    }
   ],
   "source": [
    "relDf.plot.scatter( x=\"mean\", y=\"num_hashes\", rot=0, color=\"b\", figsize=(15,8))"
   ]
  },
  {
   "cell_type": "markdown",
   "metadata": {},
   "source": [
    "### Check the distribution of number of unique hashes"
   ]
  },
  {
   "cell_type": "code",
   "execution_count": 50,
   "metadata": {},
   "outputs": [
    {
     "data": {
      "image/png": "[encoded data removed]",
      "text/plain": [
       "<Figure size 1080x576 with 1 Axes>"
      ]
     },
     "metadata": {
      "needs_background": "light"
     },
     "output_type": "display_data"
    }
   ],
   "source": [
    "out = pd.cut(relDf['num_hashes'], bins=[0, 5, 10, 25, 50, 100, 500, 1000, 5000, 10000], include_lowest=True)\n",
    "ax3 = out.value_counts(sort=False).plot.bar(rot=0, color=\"y\", figsize=(15,8))\n",
    "for p in ax3.patches:\n",
    "    ax3.annotate(format(p.get_height(), '.0f'), \n",
    "                   (p.get_x() + p.get_width() / 2., p.get_height()), \n",
    "                   ha = 'center', va = 'center', \n",
    "                   xytext = (0, 9), \n",
    "                   textcoords = 'offset points')"
   ]
  },
  {
   "cell_type": "code",
   "execution_count": null,
   "metadata": {},
   "outputs": [],
   "source": []
  }
 ],
 "metadata": {
  "kernelspec": {
   "display_name": "Python 3 (ipykernel)",
   "language": "python",
   "name": "python3"
  },
  "language_info": {
   "codemirror_mode": {
    "name": "ipython",
    "version": 3
   },
   "file_extension": ".py",
   "mimetype": "text/x-python",
   "name": "python",
   "nbconvert_exporter": "python",
   "pygments_lexer": "ipython3",
   "version": "3.8.10"
  }
 },
 "nbformat": 4,
 "nbformat_minor": 4
}
