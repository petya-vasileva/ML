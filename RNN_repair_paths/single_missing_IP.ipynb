{
 "cells": [
  {
   "cell_type": "code",
   "execution_count": 1,
   "id": "697a195d-28bd-4c11-9647-270fc83e4cca",
   "metadata": {
    "execution": {
     "iopub.execute_input": "2023-09-06T21:34:13.794771Z",
     "iopub.status.busy": "2023-09-06T21:34:13.794054Z",
     "iopub.status.idle": "2023-09-06T21:34:40.968684Z",
     "shell.execute_reply": "2023-09-06T21:34:40.966960Z",
     "shell.execute_reply.started": "2023-09-06T21:34:13.794710Z"
    }
   },
   "outputs": [
    {
     "name": "stdout",
     "output_type": "stream",
     "text": [
      "Success\n",
      "/data/petya/parquet/raw/trace_ipv6 and /data/petya/parquet/raw//trace_ipv6_clean_paths exist.\n",
      "Number of ipv6 tests: 3025431\n"
     ]
    }
   ],
   "source": [
    "import numpy as np\n",
    "import pandas as pd\n",
    "import utils.data as data\n",
    "\n",
    "location = '/data/petya/parquet/raw/'\n",
    "# ipvdf, subset = data.getDataframes(location, 'ipv4')\n",
    "ipvdf, subset = data.getDataframes(location, 'ipv6')"
   ]
  },
  {
   "cell_type": "code",
   "execution_count": 2,
   "id": "fcc8b71e-f8ee-4ae4-81fa-c759d621c1e7",
   "metadata": {
    "execution": {
     "iopub.execute_input": "2023-09-06T21:34:40.973220Z",
     "iopub.status.busy": "2023-09-06T21:34:40.972613Z",
     "iopub.status.idle": "2023-09-06T21:34:51.559704Z",
     "shell.execute_reply": "2023-09-06T21:34:51.558687Z",
     "shell.execute_reply.started": "2023-09-06T21:34:40.973169Z"
    }
   },
   "outputs": [
    {
     "name": "stdout",
     "output_type": "stream",
     "text": [
      "Number of senteces:  359087\n",
      "CPU times: user 10.4 s, sys: 124 ms, total: 10.6 s\n",
      "Wall time: 10.6 s\n"
     ]
    }
   ],
   "source": [
    "%%time\n",
    "\n",
    "# The code bellow takes complete paths as well as any complete parts of a path\n",
    "# for example: if path is missing the 5th router of 12, the path will be split in 2\n",
    "# and considered as sequnce1 - 1 to 4th router and sequece 2 - 6 to 12.\n",
    "def extractCompleteSequences(ttls, hops):\n",
    "    empty_positions = []\n",
    "    consecutive_groups = []\n",
    "    current_group = []\n",
    "    consecutive_hops = []\n",
    "    current_empty = []\n",
    "    ttl2hop = {}\n",
    "    \n",
    "    if len(ttls) == len(hops):\n",
    "        for i, num in enumerate(ttls):\n",
    "            if i == 0 or num != ttls[i - 1] + 1:\n",
    "                if len(current_group) > 1:\n",
    "                    consecutive_groups.append(current_group)\n",
    "                current_group = [num]\n",
    "                \n",
    "                if i>0: current_empty.append(i)\n",
    "            else:\n",
    "                current_group.append(num)\n",
    "    \n",
    "            ttl2hop[num] = hops[i]\n",
    "\n",
    "        if len(current_empty)>0: empty_positions.append(current_empty)\n",
    "        \n",
    "        if len(current_group) > 1:\n",
    "            consecutive_groups.append(current_group)\n",
    "\n",
    "\n",
    "        for g in consecutive_groups:\n",
    "            # print('--------', g)\n",
    "            current_group = []\n",
    "            for ip in g:\n",
    "                current_group.append(ttl2hop[ip])\n",
    "\n",
    "            consecutive_hops.append(current_group)\n",
    "            # print(consecutive_hops)\n",
    "\n",
    "    return consecutive_hops\n",
    "\n",
    "\n",
    "# findMissingNumber returns the missing TTL values\n",
    "def findMissingNumber(nums):    \n",
    "    # Create a set of all the numbers from 1 to the largest number in the list.\n",
    "    expected_numbers = set(range(1, nums[-1] + 1))\n",
    "    \n",
    "    # Find all the numbers that are missing from the TTL list.\n",
    "    missing_numbers = expected_numbers - set(nums)\n",
    "    \n",
    "    # Return the missing numbers\n",
    "    if len(missing_numbers) == 0:\n",
    "        return None\n",
    "    else:\n",
    "        return (list(missing_numbers))\n",
    "\n",
    "\n",
    "# extractSentences grabs all complete paths/sentences and\n",
    "# the information about the missing IPs\n",
    "def extractSentences(subset):\n",
    "    sentences, missing1 = [], {}\n",
    "\n",
    "    for i, row in subset[['hops', 'ttls', 'idx']].iterrows():\n",
    "        hops, ttls, idx = row\n",
    "        if len(ttls)>0:\n",
    "            sentences.extend(extractCompleteSequences(ttls, hops))\n",
    "\n",
    "            # keep the index for further reference and store missing TTLs\n",
    "            mis = findMissingNumber(list(ttls))\n",
    "            if mis:\n",
    "                missing1[idx] = mis\n",
    "\n",
    "    return sentences, missing1\n",
    "\n",
    "# the sentences are the paths as lists of hops (IP addresses)\n",
    "sentences, missing1 = extractSentences(subset)\n",
    "print(\"Number of senteces: \", len(sentences))"
   ]
  },
  {
   "cell_type": "code",
   "execution_count": null,
   "id": "2c864ed5-56df-4dd1-b8fb-0c14f378a911",
   "metadata": {},
   "outputs": [],
   "source": []
  },
  {
   "cell_type": "code",
   "execution_count": 3,
   "id": "cada66f2-910f-42aa-95b4-d7675587857e",
   "metadata": {
    "execution": {
     "iopub.execute_input": "2023-09-06T21:34:51.561509Z",
     "iopub.status.busy": "2023-09-06T21:34:51.561288Z",
     "iopub.status.idle": "2023-09-06T21:34:52.302057Z",
     "shell.execute_reply": "2023-09-06T21:34:52.301123Z",
     "shell.execute_reply.started": "2023-09-06T21:34:51.561490Z"
    }
   },
   "outputs": [
    {
     "name": "stdout",
     "output_type": "stream",
     "text": [
      "Number of words: 2139\n",
      "CPU times: user 663 ms, sys: 73.4 ms, total: 737 ms\n",
      "Wall time: 732 ms\n"
     ]
    }
   ],
   "source": [
    "%%time\n",
    "# Create a vocabulary which consists of IP addresses mapped to IDs\n",
    "def createVocabulary(sentences):\n",
    "    word_to_idx = {}\n",
    "    idx_to_word = {}\n",
    "    for sentence in sentences:\n",
    "        for word in sentence:\n",
    "            if word not in word_to_idx:\n",
    "                idx = len(word_to_idx)+1\n",
    "                word_to_idx[word] = idx\n",
    "                idx_to_word[idx] = word\n",
    "    return word_to_idx, idx_to_word\n",
    "\n",
    "\n",
    "word_to_idx, idx_to_word = createVocabulary(sentences)\n",
    "\n",
    "print('Number of words:', len(word_to_idx))\n",
    "\n",
    "# Convert sentences to sequences of indices\n",
    "sequences = [[word_to_idx[word] for word in sentence] for sentence in sentences]\n",
    "\n",
    "# Padding sequences for consistent input length\n",
    "# max_sequence_length = max(len(sequence) for sequence in sequences)\n",
    "# padded_sequences = [sequence + [-1] * (max_sequence_length - len(sequence)) for sequence in sequences]"
   ]
  },
  {
   "cell_type": "code",
   "execution_count": null,
   "id": "120afcc7-69a7-4479-8f24-695346fdcb9e",
   "metadata": {},
   "outputs": [],
   "source": []
  },
  {
   "cell_type": "code",
   "execution_count": null,
   "id": "faf68ad7-1c27-4163-9716-949a5272a848",
   "metadata": {},
   "outputs": [],
   "source": []
  },
  {
   "cell_type": "code",
   "execution_count": 4,
   "id": "e82a8cf5-9307-4a17-84c1-8436485de704",
   "metadata": {
    "execution": {
     "iopub.execute_input": "2023-09-06T21:34:52.304494Z",
     "iopub.status.busy": "2023-09-06T21:34:52.304148Z",
     "iopub.status.idle": "2023-09-06T21:34:54.134840Z",
     "shell.execute_reply": "2023-09-06T21:34:54.134268Z",
     "shell.execute_reply.started": "2023-09-06T21:34:52.304474Z"
    }
   },
   "outputs": [
    {
     "name": "stdout",
     "output_type": "stream",
     "text": [
      "CPU times: user 1.63 s, sys: 199 ms, total: 1.83 s\n",
      "Wall time: 1.82 s\n"
     ]
    },
    {
     "data": {
      "text/plain": [
       "(1112912, 4)"
      ]
     },
     "execution_count": 4,
     "metadata": {},
     "output_type": "execute_result"
    }
   ],
   "source": [
    "%%time\n",
    "# Split the data into fixed lenght seuences\n",
    "# The middle value is taken as a label \n",
    "# so that we can take into account previuos and next values\n",
    "def splitSequence(sequnces, n_steps):\n",
    "    X = []\n",
    "    y = []\n",
    "    for seq in sequnces:\n",
    "\n",
    "        for i in range(len(seq)):\n",
    "\n",
    "            if i < len(seq) - n_steps + 1:\n",
    "                group = seq[i:i + n_steps]\n",
    "                middle = group[2]\n",
    "                group.pop(2)\n",
    "                y.append(middle)\n",
    "                X.append(group)\n",
    "\n",
    "    # Convert X and y into numpy array\n",
    "    X = np.array(X)\n",
    "    y = np.array(y)\n",
    "    \n",
    "    return X,y \n",
    "\n",
    "n_steps = 5\n",
    "X, y = splitSequence(sequences, n_steps = n_steps)\n",
    "X.shape"
   ]
  },
  {
   "cell_type": "code",
   "execution_count": 5,
   "id": "7f779fed-b5b0-4c29-a667-3f73fd691d43",
   "metadata": {
    "execution": {
     "iopub.execute_input": "2023-09-06T21:34:54.135886Z",
     "iopub.status.busy": "2023-09-06T21:34:54.135695Z",
     "iopub.status.idle": "2023-09-06T21:34:55.274155Z",
     "shell.execute_reply": "2023-09-06T21:34:55.273372Z",
     "shell.execute_reply.started": "2023-09-06T21:34:54.135871Z"
    }
   },
   "outputs": [
    {
     "data": {
      "text/plain": [
       "(19292, 4)"
      ]
     },
     "execution_count": 5,
     "metadata": {},
     "output_type": "execute_result"
    }
   ],
   "source": [
    "# Due to the volum of created inputs in the previous step,\n",
    "# we need to drop all identical X-y values\n",
    "def remove_duplicate_sequences(X, y):\n",
    "    unique_sequences = {}  # Dictionary to store unique sequences\n",
    "\n",
    "    # Lists to store filtered X and y\n",
    "    filtered_X = []\n",
    "    filtered_y = []\n",
    "\n",
    "    for i, sequence in enumerate(X):\n",
    "        # Convert the sequence to a tuple to use it as a dictionary key\n",
    "        sequence_tuple = tuple(sequence)\n",
    "\n",
    "        # Check if the sequence_tuple is already in the dictionary\n",
    "        if sequence_tuple not in unique_sequences:\n",
    "            # If not seen before, add it to the dictionary and store X and y\n",
    "            unique_sequences[sequence_tuple] = i\n",
    "            filtered_X.append(sequence)\n",
    "            filtered_y.append(y[i])\n",
    "\n",
    "    return np.array(filtered_X), np.array(filtered_y)\n",
    "\n",
    "# Example usage:\n",
    "X, y = remove_duplicate_sequences(X, y)\n",
    "X.shape"
   ]
  },
  {
   "cell_type": "markdown",
   "id": "beb5c83c-9a07-4900-a464-51d9b61153cf",
   "metadata": {},
   "source": [
    "### Build the model"
   ]
  },
  {
   "cell_type": "code",
   "execution_count": 6,
   "id": "91cc684b-e0ca-4a1e-be55-7f656d1c292b",
   "metadata": {
    "editable": true,
    "execution": {
     "iopub.execute_input": "2023-09-06T21:34:55.275598Z",
     "iopub.status.busy": "2023-09-06T21:34:55.275398Z",
     "iopub.status.idle": "2023-09-06T21:35:18.011635Z",
     "shell.execute_reply": "2023-09-06T21:35:18.010741Z",
     "shell.execute_reply.started": "2023-09-06T21:34:55.275581Z"
    },
    "slideshow": {
     "slide_type": ""
    },
    "tags": []
   },
   "outputs": [
    {
     "name": "stdout",
     "output_type": "stream",
     "text": [
      "GRUModel(\n",
      "  (embedding): Embedding(2140, 250)\n",
      "  (gru): GRU(250, 150, batch_first=True)\n",
      "  (fc): Linear(in_features=150, out_features=1421, bias=True)\n",
      ")\n",
      "CPU times: user 4.81 s, sys: 1.42 s, total: 6.23 s\n",
      "Wall time: 22.7 s\n"
     ]
    }
   ],
   "source": [
    "%%time\n",
    "%matplotlib inline\n",
    "import matplotlib.pyplot as plt\n",
    "import torch\n",
    "import torch.nn as nn\n",
    "import torch.optim as optim\n",
    "from torch.utils.data import DataLoader, TensorDataset\n",
    "from sklearn.model_selection import train_test_split\n",
    "from torch.utils.data.dataset import random_split\n",
    "\n",
    "# Define the GRU model\n",
    "class GRUModel(nn.Module):\n",
    "    def __init__(self, total_words, embedding_dim, hidden_size, num_classes):\n",
    "        super(GRUModel, self).__init__()\n",
    "        self.embedding = nn.Embedding(total_words, embedding_dim)\n",
    "        self.gru = nn.GRU(embedding_dim, hidden_size, batch_first=True)\n",
    "        self.fc = nn.Linear(hidden_size, num_classes)\n",
    "\n",
    "    def forward(self, x):\n",
    "        embedded = self.embedding(x)\n",
    "        gru_out, _ = self.gru(embedded)\n",
    "        output = self.fc(gru_out[:, -1, :])  # Pass it through the linear layer\n",
    "        return output\n",
    "\n",
    "\n",
    "\n",
    "# Check if CUDA is available and get the number of available GPUs\n",
    "# The model is simple, yet with the current configuration it requeres 3-4GB GPU\n",
    "device = torch.device(\"cuda\" if torch.cuda.is_available() else \"cpu\")\n",
    "if torch.cuda.is_available():\n",
    "    num_gpus = torch.cuda.device_count()\n",
    "else:\n",
    "    num_gpus = 0\n",
    "\n",
    "X = torch.tensor(X, dtype=torch.long).to(device)\n",
    "total_words = len(word_to_idx) + 1\n",
    "\n",
    "# not all words are classes. Take only the ones in Y \n",
    "num_classes = len(set(y))+2\n",
    "\n",
    "# reindex the labels, since it takes too much resources if we take all possible words\n",
    "y2idx = {y:idx+1 for idx, y in enumerate(set(y))}\n",
    "y_reindexed = [y2idx[y] for y in y]\n",
    "y_onehot = torch.nn.functional.one_hot(torch.tensor(y_reindexed), num_classes=len(set(y))+2).long().to(device)\n",
    "\n",
    "\n",
    "\n",
    "\n",
    "hidden_size = 150\n",
    "embedding_dim = 250 \n",
    "learning_rate = 0.01\n",
    "\n",
    "# Instantiate the model\n",
    "model = GRUModel(total_words, embedding_dim, hidden_size, num_classes)\n",
    "print(model)\n",
    "\n",
    "# Move the model to the GPU(s)\n",
    "if num_gpus > 1:\n",
    "    model = nn.DataParallel(model, device_ids=[0, 1])\n",
    "model = model.to(device)\n",
    "\n",
    "# Define loss and optimizer\n",
    "criterion = nn.CrossEntropyLoss()  # CrossEntropyLoss for classification tasks\n",
    "optimizer = optim.Adam(model.parameters(), lr=learning_rate)\n",
    "\n",
    "\n",
    "\n",
    "# Define the split ratios (e.g., 80% for training, 20% for validation)\n",
    "train_ratio = 0.8\n",
    "val_ratio = 1 - train_ratio\n",
    "\n",
    "# Create the dataset\n",
    "dataset = TensorDataset(X, y_onehot)\n",
    "\n",
    "# Calculate the sizes of the splits\n",
    "train_size = int(len(dataset) * train_ratio)\n",
    "val_size = len(dataset) - train_size\n",
    "\n",
    "# Split the dataset\n",
    "train_dataset, val_dataset = random_split(dataset, [train_size, val_size])\n",
    "\n",
    "batch_size = 5000\n",
    "# Create DataLoader for training and validation\n",
    "train_dataloader = DataLoader(train_dataset, batch_size=batch_size, shuffle=True)\n",
    "val_dataloader = DataLoader(val_dataset, batch_size=batch_size, shuffle=False)"
   ]
  },
  {
   "cell_type": "markdown",
   "id": "d95986d8-4409-4622-b6c7-81e3cabb776e",
   "metadata": {},
   "source": [
    "### Train the model"
   ]
  },
  {
   "cell_type": "code",
   "execution_count": 7,
   "id": "cc27baff-9f59-4756-9cf8-01824e3e485e",
   "metadata": {
    "editable": true,
    "execution": {
     "iopub.execute_input": "2023-09-06T21:35:18.013275Z",
     "iopub.status.busy": "2023-09-06T21:35:18.012710Z",
     "iopub.status.idle": "2023-09-06T21:35:42.182696Z",
     "shell.execute_reply": "2023-09-06T21:35:42.182049Z",
     "shell.execute_reply.started": "2023-09-06T21:35:18.013255Z"
    },
    "slideshow": {
     "slide_type": ""
    },
    "tags": []
   },
   "outputs": [
    {
     "name": "stdout",
     "output_type": "stream",
     "text": [
      "Epoch [1/100], Loss: 26.1772, Validation Loss: 4.9789\n",
      "Epoch [2/100], Loss: 17.3582, Validation Loss: 3.3029\n",
      "Epoch [3/100], Loss: 11.6165, Validation Loss: 2.2411\n",
      "Epoch [4/100], Loss: 8.0913, Validation Loss: 1.5521\n",
      "Epoch [5/100], Loss: 5.8236, Validation Loss: 1.1659\n",
      "Epoch [6/100], Loss: 4.3385, Validation Loss: 0.8770\n",
      "Epoch [7/100], Loss: 3.3495, Validation Loss: 0.6835\n",
      "Epoch [8/100], Loss: 2.8050, Validation Loss: 0.6454\n",
      "Epoch [9/100], Loss: 2.4341, Validation Loss: 0.5288\n",
      "Epoch [10/100], Loss: 2.2114, Validation Loss: 0.4501\n",
      "Epoch [11/100], Loss: 2.0568, Validation Loss: 0.4598\n",
      "Epoch [12/100], Loss: 1.9585, Validation Loss: 0.4076\n",
      "Epoch [13/100], Loss: 1.8058, Validation Loss: 0.4663\n",
      "Epoch [14/100], Loss: 1.8089, Validation Loss: 0.4505\n",
      "Epoch [15/100], Loss: 1.7138, Validation Loss: 0.4811\n",
      "Epoch [16/100], Loss: 1.5732, Validation Loss: 0.3633\n",
      "Epoch [17/100], Loss: 1.5284, Validation Loss: 0.4156\n",
      "Epoch [18/100], Loss: 1.4748, Validation Loss: 0.3924\n",
      "Epoch [19/100], Loss: 1.4172, Validation Loss: 0.4070\n",
      "Epoch [20/100], Loss: 1.3775, Validation Loss: 0.3318\n",
      "Epoch [21/100], Loss: 1.3307, Validation Loss: 0.3445\n",
      "Epoch [22/100], Loss: 1.2621, Validation Loss: 0.3075\n",
      "Epoch [23/100], Loss: 1.1633, Validation Loss: 0.3269\n",
      "Epoch [24/100], Loss: 1.1648, Validation Loss: 0.2925\n",
      "Epoch [25/100], Loss: 1.0816, Validation Loss: 0.2510\n",
      "Epoch [26/100], Loss: 1.0824, Validation Loss: 0.2331\n",
      "Epoch [27/100], Loss: 1.0071, Validation Loss: 0.2745\n",
      "Epoch [28/100], Loss: 0.9698, Validation Loss: 0.2103\n",
      "Epoch [29/100], Loss: 0.9271, Validation Loss: 0.1873\n",
      "Epoch [30/100], Loss: 0.9054, Validation Loss: 0.2249\n",
      "Epoch [31/100], Loss: 0.8431, Validation Loss: 0.1876\n",
      "Epoch [32/100], Loss: 0.8168, Validation Loss: 0.2024\n",
      "Epoch [33/100], Loss: 0.7892, Validation Loss: 0.1886\n",
      "Epoch [34/100], Loss: 0.7589, Validation Loss: 0.1884\n",
      "Epoch [35/100], Loss: 0.7020, Validation Loss: 0.2037\n",
      "Epoch [36/100], Loss: 0.6898, Validation Loss: 0.1659\n",
      "Epoch [37/100], Loss: 0.6703, Validation Loss: 0.1605\n",
      "Epoch [38/100], Loss: 0.6545, Validation Loss: 0.1469\n",
      "Epoch [39/100], Loss: 0.6510, Validation Loss: 0.1565\n",
      "Epoch [40/100], Loss: 0.5911, Validation Loss: 0.1448\n",
      "Epoch [41/100], Loss: 0.6079, Validation Loss: 0.1472\n",
      "Epoch [42/100], Loss: 0.5538, Validation Loss: 0.1088\n",
      "Epoch [43/100], Loss: 0.5291, Validation Loss: 0.1141\n",
      "Epoch [44/100], Loss: 0.5063, Validation Loss: 0.1292\n",
      "Epoch [45/100], Loss: 0.4709, Validation Loss: 0.0851\n",
      "Epoch [46/100], Loss: 0.4595, Validation Loss: 0.1006\n",
      "Epoch [47/100], Loss: 0.4238, Validation Loss: 0.1201\n",
      "Epoch [48/100], Loss: 0.4096, Validation Loss: 0.1212\n",
      "Epoch [49/100], Loss: 0.3998, Validation Loss: 0.1033\n",
      "Epoch [50/100], Loss: 0.3947, Validation Loss: 0.0987\n",
      "Epoch [51/100], Loss: 0.3813, Validation Loss: 0.0988\n",
      "Epoch [52/100], Loss: 0.3683, Validation Loss: 0.0745\n",
      "Epoch [53/100], Loss: 0.3577, Validation Loss: 0.1269\n",
      "Epoch [54/100], Loss: 0.3458, Validation Loss: 0.0840\n",
      "Epoch [55/100], Loss: 0.3407, Validation Loss: 0.0798\n",
      "Epoch [56/100], Loss: 0.3390, Validation Loss: 0.0467\n",
      "Epoch [57/100], Loss: 0.3219, Validation Loss: 0.0929\n",
      "Epoch [58/100], Loss: 0.3442, Validation Loss: 0.0665\n",
      "Epoch [59/100], Loss: 0.3124, Validation Loss: 0.0906\n",
      "Epoch [60/100], Loss: 0.3143, Validation Loss: 0.0692\n",
      "Epoch [61/100], Loss: 0.2737, Validation Loss: 0.0678\n",
      "Epoch [62/100], Loss: 0.2724, Validation Loss: 0.0580\n",
      "Epoch [63/100], Loss: 0.2519, Validation Loss: 0.0709\n",
      "Epoch [64/100], Loss: 0.2585, Validation Loss: 0.0568\n",
      "Epoch [65/100], Loss: 0.2416, Validation Loss: 0.0677\n",
      "Epoch [66/100], Loss: 0.2246, Validation Loss: 0.0447\n",
      "Epoch [67/100], Loss: 0.2191, Validation Loss: 0.0672\n",
      "Epoch [68/100], Loss: 0.1939, Validation Loss: 0.0678\n",
      "Epoch [69/100], Loss: 0.1934, Validation Loss: 0.0459\n",
      "Epoch [70/100], Loss: 0.1854, Validation Loss: 0.0374\n",
      "Epoch [71/100], Loss: 0.1847, Validation Loss: 0.0426\n",
      "Epoch [72/100], Loss: 0.1616, Validation Loss: 0.0401\n",
      "Epoch [73/100], Loss: 0.1576, Validation Loss: 0.0363\n",
      "Epoch [74/100], Loss: 0.1575, Validation Loss: 0.0328\n",
      "Epoch [75/100], Loss: 0.1532, Validation Loss: 0.0373\n",
      "Epoch [76/100], Loss: 0.1354, Validation Loss: 0.0285\n",
      "Epoch [77/100], Loss: 0.1303, Validation Loss: 0.0301\n",
      "Epoch [78/100], Loss: 0.1230, Validation Loss: 0.0258\n",
      "Epoch [79/100], Loss: 0.1200, Validation Loss: 0.0220\n",
      "Epoch [80/100], Loss: 0.1206, Validation Loss: 0.0316\n",
      "Epoch [81/100], Loss: 0.1268, Validation Loss: 0.0272\n",
      "Epoch [82/100], Loss: 0.1141, Validation Loss: 0.0217\n",
      "Epoch [83/100], Loss: 0.1231, Validation Loss: 0.0249\n",
      "Epoch [84/100], Loss: 0.1015, Validation Loss: 0.0148\n",
      "Epoch [85/100], Loss: 0.1052, Validation Loss: 0.0269\n",
      "Epoch [86/100], Loss: 0.0971, Validation Loss: 0.0211\n",
      "Epoch [87/100], Loss: 0.0950, Validation Loss: 0.0169\n",
      "Epoch [88/100], Loss: 0.0875, Validation Loss: 0.0200\n",
      "Epoch [89/100], Loss: 0.0848, Validation Loss: 0.0123\n",
      "Epoch [90/100], Loss: 0.0817, Validation Loss: 0.0206\n",
      "Epoch [91/100], Loss: 0.0727, Validation Loss: 0.0213\n",
      "Epoch [92/100], Loss: 0.0701, Validation Loss: 0.0082\n",
      "Epoch [93/100], Loss: 0.0624, Validation Loss: 0.0184\n",
      "Epoch [94/100], Loss: 0.0581, Validation Loss: 0.0138\n",
      "Epoch [95/100], Loss: 0.0536, Validation Loss: 0.0115\n",
      "Epoch [96/100], Loss: 0.0506, Validation Loss: 0.0102\n",
      "Epoch [97/100], Loss: 0.0473, Validation Loss: 0.0079\n",
      "Epoch [98/100], Loss: 0.0491, Validation Loss: 0.0112\n",
      "Epoch [99/100], Loss: 0.0417, Validation Loss: 0.0129\n",
      "Epoch [100/100], Loss: 0.0408, Validation Loss: 0.0092\n"
     ]
    },
    {
     "data": {
      "image/png": "[encoded data removed]",
      "text/plain": [
       "<Figure size 640x480 with 1 Axes>"
      ]
     },
     "metadata": {},
     "output_type": "display_data"
    }
   ],
   "source": [
    "num_epochs = 100\n",
    "best_val_loss = float('inf')  # Initialize with a large value\n",
    "patience = 20  # Number of epochs to wait before early stopping\n",
    "\n",
    "# this is to convert back to the labels ids\n",
    "idx2y = {idx:y for y, idx in y2idx.items()}\n",
    "\n",
    "\n",
    "losses = []\n",
    "for epoch in range(num_epochs):\n",
    "    total_loss = 0\n",
    "    for batch_inputs, batch_targets in train_dataloader:\n",
    "        optimizer.zero_grad()\n",
    "        outputs = model(batch_inputs)\n",
    "        # print(batch_inputs.shape, batch_targets.shape, outputs.shape)\n",
    "        \n",
    "        loss = criterion(outputs, batch_targets.argmax(dim=1))\n",
    "        loss.backward()\n",
    "        optimizer.step()\n",
    "        total_loss += loss.item()\n",
    "\n",
    "        losses.append(loss.item())\n",
    "    # print(f'Epoch [{epoch+1}/{num_epochs}], Loss: {total_loss:.4f}')\n",
    "\n",
    "    # Calculate validation loss\n",
    "    with torch.no_grad():\n",
    "        for X_val, y_val in train_dataloader:\n",
    "            val_outputs = model(X_val)\n",
    "            val_loss = criterion(val_outputs, y_val.argmax(dim=1))\n",
    "        \n",
    "        print(f'Epoch [{epoch+1}/{num_epochs}], Loss: {total_loss:.4f}, Validation Loss: {val_loss:.4f}')\n",
    "        \n",
    "        # # Check for early stopping\n",
    "        if val_loss < best_val_loss:\n",
    "            best_val_loss = val_loss\n",
    "            patience_counter = 0\n",
    "        else:\n",
    "            patience_counter += 1\n",
    "            if patience_counter >= patience:\n",
    "                print(\"Early stopping triggered.\")\n",
    "                break\n",
    "\n",
    "\n",
    "# Plot the loss\n",
    "plt.plot(losses)\n",
    "plt.xlabel('Epoch')\n",
    "plt.ylabel('Loss')\n",
    "plt.title('Training Loss')\n",
    "plt.show()"
   ]
  },
  {
   "cell_type": "markdown",
   "id": "3c9bff24-02ea-4c53-9b07-caee1dc47009",
   "metadata": {
    "execution": {
     "iopub.execute_input": "2023-09-05T19:54:16.525370Z",
     "iopub.status.busy": "2023-09-05T19:54:16.524892Z",
     "iopub.status.idle": "2023-09-05T19:54:18.157463Z",
     "shell.execute_reply": "2023-09-05T19:54:18.156432Z",
     "shell.execute_reply.started": "2023-09-05T19:54:16.525352Z"
    }
   },
   "source": [
    "#### Clear GPU cache in case it's neccessary"
   ]
  },
  {
   "cell_type": "code",
   "execution_count": 12,
   "id": "fa247149-044c-41fa-80c3-3cc4c0fedc23",
   "metadata": {
    "execution": {
     "iopub.execute_input": "2023-09-06T21:37:32.467385Z",
     "iopub.status.busy": "2023-09-06T21:37:32.467043Z",
     "iopub.status.idle": "2023-09-06T21:37:32.470663Z",
     "shell.execute_reply": "2023-09-06T21:37:32.470110Z",
     "shell.execute_reply.started": "2023-09-06T21:37:32.467366Z"
    }
   },
   "outputs": [],
   "source": [
    "# import gc\n",
    "# import torch\n",
    "\n",
    "\n",
    "# n = gc.collect()\n",
    "# print(\"Number of unreachable objects collected by GC:\", n)\n",
    "# torch.cuda.empty_cache()\n",
    "\n",
    "# allocated_memory = torch.cuda.memory_allocated()\n",
    "\n",
    "# # Check the current GPU memory cached by PyTorch\n",
    "# cached_memory = torch.cuda.memory_cached()\n",
    "\n",
    "# # Print the results\n",
    "# print(f\"Allocated Memory: {allocated_memory / 1024**2} MB\")\n",
    "# print(f\"Cached Memory: {cached_memory / 1024**2} MB\")"
   ]
  },
  {
   "cell_type": "markdown",
   "id": "657cde73-1539-4dbe-9983-afbc8cc3abf4",
   "metadata": {},
   "source": [
    "#### Take the incomplete paths and prepare them for prediction"
   ]
  },
  {
   "cell_type": "code",
   "execution_count": 9,
   "id": "dc328800-b961-40de-9c17-66835c9c5f0c",
   "metadata": {
    "execution": {
     "iopub.execute_input": "2023-09-06T21:35:42.450272Z",
     "iopub.status.busy": "2023-09-06T21:35:42.450097Z",
     "iopub.status.idle": "2023-09-06T21:36:10.337003Z",
     "shell.execute_reply": "2023-09-06T21:36:10.336173Z",
     "shell.execute_reply.started": "2023-09-06T21:35:42.450257Z"
    }
   },
   "outputs": [
    {
     "name": "stdout",
     "output_type": "stream",
     "text": [
      "Number of tests missing >1 values: 119705\n",
      "Number of paths, good candidates for repair (missing a sinlge router in the middle of a path)  28577\n",
      "CPU times: user 27.4 s, sys: 457 ms, total: 27.9 s\n",
      "Wall time: 27.9 s\n"
     ]
    }
   ],
   "source": [
    "%%time\n",
    "# Search for incomplete paths which values can be predicted\n",
    "def extractSequnces4Prediction(missing1, subset):\n",
    "    moreThan1Cnt = 0\n",
    "    seq4pred = {}\n",
    "    dfidx2missingTTL = {}\n",
    "    for i, vals in missing1.items():\n",
    "\n",
    "        if len(vals)==1:\n",
    "            \n",
    "            ttls = subset.loc[subset['idx'] == i]['ttls'].values[0]\n",
    "            hops = subset.loc[subset['idx'] == i]['hops'].values[0]\n",
    "\n",
    "            idx = [n for n,c in enumerate(ttls) if c in [vals[0]-2, vals[0]-1, vals[0]+1, vals[0]+2] ]\n",
    "            ips = hops[min(idx):max(idx)+1]\n",
    "\n",
    "            # take only those sequences which have a full set of values - 4\n",
    "            if len(ips)==4:\n",
    "                test_sequence = [word_to_idx[word] for word in ips]\n",
    "                seq4pred[i] = test_sequence\n",
    "                # stores the index of the test in the datataframe along with the missing ttl value\n",
    "                dfidx2missingTTL[i] = idx[2]\n",
    "\n",
    "        else: \n",
    "            moreThan1Cnt+=1\n",
    "\n",
    "    \n",
    "    # TODO: Look at those missing more than 1 value and try to repair as well\n",
    "    print(\"Number of tests missing >1 values:\", moreThan1Cnt)\n",
    "    return seq4pred, dfidx2missingTTL\n",
    "\n",
    "seq4pred, df_Idx2missing_TTL = extractSequnces4Prediction(missing1, subset)\n",
    "print(\"Number of paths, good candidates for repair (missing a sinlge router in the middle of a path) \", len(seq4pred))\n"
   ]
  },
  {
   "cell_type": "markdown",
   "id": "34eba42d-0595-45f1-8ef6-9a2759173794",
   "metadata": {
    "execution": {
     "iopub.execute_input": "2023-09-06T21:01:58.090585Z",
     "iopub.status.busy": "2023-09-06T21:01:58.089903Z",
     "iopub.status.idle": "2023-09-06T21:01:58.096263Z",
     "shell.execute_reply": "2023-09-06T21:01:58.094959Z",
     "shell.execute_reply.started": "2023-09-06T21:01:58.090540Z"
    }
   },
   "source": [
    "#### Use the model and repair missing IPs where feasible"
   ]
  },
  {
   "cell_type": "code",
   "execution_count": 10,
   "id": "0e4be39a-49fb-49af-a6b2-534b1ced55d8",
   "metadata": {
    "editable": true,
    "execution": {
     "iopub.execute_input": "2023-09-06T21:36:10.339524Z",
     "iopub.status.busy": "2023-09-06T21:36:10.339218Z",
     "iopub.status.idle": "2023-09-06T21:37:32.248251Z",
     "shell.execute_reply": "2023-09-06T21:37:32.247350Z",
     "shell.execute_reply.started": "2023-09-06T21:36:10.339505Z"
    },
    "slideshow": {
     "slide_type": ""
    },
    "tags": []
   },
   "outputs": [
    {
     "data": {
      "text/plain": [
       "(111891, 95878)"
      ]
     },
     "execution_count": 10,
     "metadata": {},
     "output_type": "execute_result"
    }
   ],
   "source": [
    "import hashlib\n",
    "\n",
    "\n",
    "# Inference\n",
    "def predicValue(sequence):\n",
    "    test_input = torch.tensor([sequence], device='cuda:0')\n",
    "    # print(test_input)\n",
    "    with torch.no_grad():\n",
    "        model.eval()\n",
    "        predicted_logits = model(test_input)\n",
    "        predicted_class = torch.argmax(predicted_logits, dim=1)\n",
    "    \n",
    "    # print(\"Predicted Class:\", predicted_class.item())\n",
    "    return predicted_class.item()\n",
    "\n",
    "\n",
    "ipvdf['dt'] = pd.to_datetime(ipvdf['timestamp'], unit='ms')\n",
    "repair = ipvdf[ipvdf['idx'].isin(missing1)][['dt', 'src', 'hops', 'route', 'ttls', 'rtts', 'site_pair', 'ipv6', 'destination_reached']].copy()\n",
    "idx2y = {idx:y for y, idx in y2idx.items()}\n",
    "\n",
    "repair['up_sha1'] = ''\n",
    "repair['up_hops'] = ''\n",
    "\n",
    "\n",
    "# This is bad code. The loop should be over df_Idx2missing_TTL. FIXME!\n",
    "for idx, row in repair[['hops', 'route','destination_reached']].iterrows():\n",
    "    # \n",
    "    r, sha, destination_reached = row\n",
    "    if destination_reached: r= r[:-1]\n",
    "    # if not dr:\n",
    "    if idx in df_Idx2missing_TTL: \n",
    "        # print(idx)\n",
    "        new_hops = list(r).copy()\n",
    "        \n",
    "        i2insert_the_new = df_Idx2missing_TTL[idx]\n",
    "        missing_id = predicValue(seq4pred[idx])\n",
    "        predicted = idx_to_word[idx2y[missing_id]]\n",
    "        new_hops.insert(i2insert_the_new, predicted)\n",
    "        \n",
    "        # print(len(new_hops), len(r))\n",
    "        # print()\n",
    "        route_hash = hashlib.sha1()\n",
    "        route_hash.update(\";\".join(new_hops).encode())\n",
    "        # print(route_hash.hexdigest(), sha)\n",
    "        repair.loc[repair.index==idx, 'up_sha1'] = route_hash.hexdigest()\n",
    "        repair.loc[repair.index==idx, 'up_hops'] = str(new_hops)\n",
    "    else:\n",
    "        repair.loc[repair.index==idx, 'up_sha1'] = sha\n",
    "\n",
    "\n",
    "len(subset['route'].unique()), len(repair['up_sha1'].unique())"
   ]
  },
  {
   "cell_type": "markdown",
   "id": "aad83e9b-4237-414a-8a6f-1396406223a1",
   "metadata": {
    "execution": {
     "iopub.execute_input": "2023-09-06T21:27:05.923638Z",
     "iopub.status.busy": "2023-09-06T21:27:05.923046Z",
     "iopub.status.idle": "2023-09-06T21:27:05.930032Z",
     "shell.execute_reply": "2023-09-06T21:27:05.928532Z",
     "shell.execute_reply.started": "2023-09-06T21:27:05.923589Z"
    }
   },
   "source": [
    "### Examples"
   ]
  },
  {
   "cell_type": "code",
   "execution_count": 11,
   "id": "96b12e2d-b600-4adc-b905-2b320fad5c87",
   "metadata": {
    "execution": {
     "iopub.execute_input": "2023-09-06T21:37:32.250255Z",
     "iopub.status.busy": "2023-09-06T21:37:32.249777Z",
     "iopub.status.idle": "2023-09-06T21:37:32.465394Z",
     "shell.execute_reply": "2023-09-06T21:37:32.464695Z",
     "shell.execute_reply.started": "2023-09-06T21:37:32.250234Z"
    }
   },
   "outputs": [
    {
     "name": "stdout",
     "output_type": "stream",
     "text": [
      "TTLs: [ 1  2  3  4  5  6  7  8  9 10 12 13 14 15 16 17]\n",
      "Incomplete path: ['2605:9a00:10:200a::2', '2605:9a00:10:1::1', '2605:9a00:10:1::4', '2001:468:2a00::4', '2001:468:0:1::114', '2001:468:0:1::117', '2001:468:0:1::5c', '2001:468:0:1::11f', '2001:468:0:1::fc', '2001:468:0:1::104', '*******', '2001:1348:4:3::1', '2001:1348::1e', '2001:1348::14', '2001:1348:1:7::5', '2001:1310:7211:132a::2', '2001:1310:7211:132a::2']\n",
      "Predicted value: 2001:468:0:1::121\n",
      "route-sha1: b7ef4bab850ca91404489d77a5f8e89a6019fe83\n",
      "Sites: MWT2 -> EELA-UTFSM\n",
      "\n",
      "TTLs: [ 1  2  3  4  5  6  7  8  9 10 12 13 14 15 16]\n",
      "Incomplete path: ['2a05:81c5:302:224::1', '2a05:81c5:4:8::139', '2a05:81c5:4:8::138', '2001:67c:1bec::a:151', '2001:67c:1bec::a:150', '2001:798:99:1::8e', '2001:798:99:1::8d', '2001:798:cc::1a', '2001:798:cc::39', '2001:798:2b:10aa::2', '*******', '2001:b30:0:ab::2', '2001:b30:0:a1::2', '2001:b30:0:1106::2', '2001:b30:1000:10::10', '2001:b30:1002:612::1119']\n",
      "Predicted value: 2001:b30:0:aa::1\n",
      "route-sha1: ccc86813ce52297dd1325ed375f28e180ce4c087\n",
      "Sites: JINR-LCG2 -> RO-16-UAIC\n",
      "\n",
      "TTLs: [1 2 3 5 6 7 8]\n",
      "Incomplete path: ['2001:67c:1bdc:100::254', '2001:67c:1bec::255:168', '2001:67c:1bec::255:237', '*******', '2001:1458:a00:1::2', '2001:1458:300:2::1', '2001:1458:300:7::3', '2001:1458:301:86::100:4']\n",
      "Predicted value: 2001:1458:302:7::2\n",
      "route-sha1: 2fec781d96f2471ccdec45dcfe59285f7e3bd2ac\n",
      "Sites: ru-PNPI -> CERN-PROD\n",
      "\n",
      "TTLs: [ 1  2  3  4  5  6  7  8  9 10 11 13 14]\n",
      "Incomplete path: ['2001:b30:1002:612::1', '2001:b30:1000:10::1', '2001:b30:0:1106::1', '2001:b30:0:a1::1', '2001:b30:0:ab::1', '2001:b30:0:aa::2', '2001:798:2b:10aa::1', '2001:798:cc::3a', '2001:798:cc::e', '2001:798:12:10aa::12', '2001:660:7903:6000:1::266', '*******', '2001:660:7904:58:2::2', '2001:660:3024::1:3']\n",
      "Predicted value: 2001:660:7903:6000:1::131\n",
      "route-sha1: b6e7de039e3c6244bbfda3d371010fb45c03650a\n",
      "Sites: RO-16-UAIC -> GRIF\n",
      "\n",
      "TTLs: [ 1  2  3  4  5  6  7  8  9 10 11 12 13 15 16 17 18 19]\n",
      "Incomplete path: ['2001:760:4205:254::2', 'fd00:0:0:150::156', '2001:760:ffff:110::1c', '2001:760:ffff:ffaa::180:53', '2001:760:ffff:ffaa::180:57', '2001:798:1e:10aa::9', '2001:798:cc::1d', '2001:798:cc:1::be', '2001:468:ff:15c5::1', '2001:468:0:1::74', '2001:468:0:1::9', '2001:468:0:1::87', '2001:468:0:1::68', '*******', '2001:468:ff:b00::1', '2001:468:700:a::4c', '2001:468:700:a::47', '2001:12d8:3cc0:54de::3', '2001:12d8:80::19']\n",
      "Predicted value: 2001:468:0:1::121\n",
      "route-sha1: 086c1beeaa1e8b5fbd6ec62534c6e3b7f8f5d731\n",
      "Sites: INFN-T1 -> SPRACE\n",
      "\n"
     ]
    }
   ],
   "source": [
    "for idx, row in repair[repair['up_hops']!=''][['hops', 'up_hops', 'ttls', 'up_sha1', 'route', 'site_pair']].sample(5).iterrows():\n",
    "    old_route, new_route, ttls, newsha, oldsha, sites = row\n",
    "    print('TTLs:', ttls)\n",
    "    \n",
    "    new_hops = list(old_route).copy()   \n",
    "    i2insert_the_new = df_Idx2missing_TTL[idx]\n",
    "    missing_id = predicValue(seq4pred[idx])\n",
    "    predicted = idx_to_word[idx2y[missing_id]]\n",
    "\n",
    "    new_hops.insert(i2insert_the_new, '*******')\n",
    "    print('Incomplete path:', new_hops)\n",
    "    \n",
    "    print('Predicted value:', predicted)\n",
    "    print('route-sha1:', oldsha)\n",
    "    print('Sites:', sites)\n",
    "    print()"
   ]
  },
  {
   "cell_type": "code",
   "execution_count": null,
   "id": "846d1edf-6d76-4204-aab5-3a36e6fca707",
   "metadata": {},
   "outputs": [],
   "source": []
  }
 ],
 "metadata": {
  "kernelspec": {
   "display_name": "Python 3 (ipykernel)",
   "language": "python",
   "name": "python3"
  },
  "language_info": {
   "codemirror_mode": {
    "name": "ipython",
    "version": 3
   },
   "file_extension": ".py",
   "mimetype": "text/x-python",
   "name": "python",
   "nbconvert_exporter": "python",
   "pygments_lexer": "ipython3",
   "version": "3.8.10"
  }
 },
 "nbformat": 4,
 "nbformat_minor": 5
}
