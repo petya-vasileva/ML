{
 "cells": [
  {
   "cell_type": "code",
   "execution_count": 1,
   "id": "e80e014a-9515-42b7-9c9f-992932230533",
   "metadata": {},
   "outputs": [
    {
     "name": "stdout",
     "output_type": "stream",
     "text": [
      "Success\n"
     ]
    },
    {
     "data": {
      "text/html": [
       "<div>\n",
       "<style scoped>\n",
       "    .dataframe tbody tr th:only-of-type {\n",
       "        vertical-align: middle;\n",
       "    }\n",
       "\n",
       "    .dataframe tbody tr th {\n",
       "        vertical-align: top;\n",
       "    }\n",
       "\n",
       "    .dataframe thead th {\n",
       "        text-align: right;\n",
       "    }\n",
       "</style>\n",
       "<table border=\"1\" class=\"dataframe\">\n",
       "  <thead>\n",
       "    <tr style=\"text-align: right;\">\n",
       "      <th></th>\n",
       "      <th>traceroute_ts</th>\n",
       "      <th>throughput_ts</th>\n",
       "      <th>ttls-hops_hash</th>\n",
       "      <th>src</th>\n",
       "      <th>dest</th>\n",
       "      <th>throughput_Mb</th>\n",
       "      <th>path_complete</th>\n",
       "      <th>destination_reached</th>\n",
       "      <th>route-sha1</th>\n",
       "      <th>ipv6</th>\n",
       "      <th>src_host</th>\n",
       "      <th>dest_host</th>\n",
       "      <th>router</th>\n",
       "      <th>ttl</th>\n",
       "      <th>asn</th>\n",
       "      <th>rtt</th>\n",
       "      <th>src_site</th>\n",
       "      <th>dest_site</th>\n",
       "      <th>similarity_score</th>\n",
       "      <th>stable</th>\n",
       "    </tr>\n",
       "  </thead>\n",
       "  <tbody>\n",
       "    <tr>\n",
       "      <th>0</th>\n",
       "      <td>2024-08-08T21:48:50.000Z</td>\n",
       "      <td>2024-08-08T21:47:39.000Z</td>\n",
       "      <td>1a761ff85a972cf85c459bc7dc32337820ae02db</td>\n",
       "      <td>194.80.35.168</td>\n",
       "      <td>145.100.32.32</td>\n",
       "      <td>679</td>\n",
       "      <td>True</td>\n",
       "      <td>True</td>\n",
       "      <td>dd2a48c414d642b774d9d3f0c6c40eca910ca364</td>\n",
       "      <td>False</td>\n",
       "      <td>pygrid-sonar1.lancs.ac.uk</td>\n",
       "      <td>perfsonar-bandwidth.grid.surfsara.nl</td>\n",
       "      <td>146.97.33.17</td>\n",
       "      <td>6</td>\n",
       "      <td>786</td>\n",
       "      <td>8.0</td>\n",
       "      <td>UKI-NORTHGRID-LANCS-HEP</td>\n",
       "      <td>SARA-MATRIX</td>\n",
       "      <td>0.994</td>\n",
       "      <td>False</td>\n",
       "    </tr>\n",
       "    <tr>\n",
       "      <th>1</th>\n",
       "      <td>2024-08-08T21:48:50.000Z</td>\n",
       "      <td>2024-08-08T21:47:39.000Z</td>\n",
       "      <td>1a761ff85a972cf85c459bc7dc32337820ae02db</td>\n",
       "      <td>194.80.35.168</td>\n",
       "      <td>145.100.32.32</td>\n",
       "      <td>679</td>\n",
       "      <td>True</td>\n",
       "      <td>True</td>\n",
       "      <td>dd2a48c414d642b774d9d3f0c6c40eca910ca364</td>\n",
       "      <td>False</td>\n",
       "      <td>pygrid-sonar1.lancs.ac.uk</td>\n",
       "      <td>perfsonar-bandwidth.grid.surfsara.nl</td>\n",
       "      <td>62.40.124.197</td>\n",
       "      <td>7</td>\n",
       "      <td>20965</td>\n",
       "      <td>7.9</td>\n",
       "      <td>UKI-NORTHGRID-LANCS-HEP</td>\n",
       "      <td>SARA-MATRIX</td>\n",
       "      <td>0.994</td>\n",
       "      <td>False</td>\n",
       "    </tr>\n",
       "    <tr>\n",
       "      <th>2</th>\n",
       "      <td>2024-08-08T21:48:50.000Z</td>\n",
       "      <td>2024-08-08T21:47:39.000Z</td>\n",
       "      <td>1a761ff85a972cf85c459bc7dc32337820ae02db</td>\n",
       "      <td>194.80.35.168</td>\n",
       "      <td>145.100.32.32</td>\n",
       "      <td>679</td>\n",
       "      <td>True</td>\n",
       "      <td>True</td>\n",
       "      <td>dd2a48c414d642b774d9d3f0c6c40eca910ca364</td>\n",
       "      <td>False</td>\n",
       "      <td>pygrid-sonar1.lancs.ac.uk</td>\n",
       "      <td>perfsonar-bandwidth.grid.surfsara.nl</td>\n",
       "      <td>62.40.98.60</td>\n",
       "      <td>8</td>\n",
       "      <td>20965</td>\n",
       "      <td>7.9</td>\n",
       "      <td>UKI-NORTHGRID-LANCS-HEP</td>\n",
       "      <td>SARA-MATRIX</td>\n",
       "      <td>0.994</td>\n",
       "      <td>False</td>\n",
       "    </tr>\n",
       "    <tr>\n",
       "      <th>3</th>\n",
       "      <td>2024-08-08T21:48:50.000Z</td>\n",
       "      <td>2024-08-08T21:47:39.000Z</td>\n",
       "      <td>1a761ff85a972cf85c459bc7dc32337820ae02db</td>\n",
       "      <td>194.80.35.168</td>\n",
       "      <td>145.100.32.32</td>\n",
       "      <td>679</td>\n",
       "      <td>True</td>\n",
       "      <td>True</td>\n",
       "      <td>dd2a48c414d642b774d9d3f0c6c40eca910ca364</td>\n",
       "      <td>False</td>\n",
       "      <td>pygrid-sonar1.lancs.ac.uk</td>\n",
       "      <td>perfsonar-bandwidth.grid.surfsara.nl</td>\n",
       "      <td>62.40.98.22</td>\n",
       "      <td>9</td>\n",
       "      <td>20965</td>\n",
       "      <td>19.6</td>\n",
       "      <td>UKI-NORTHGRID-LANCS-HEP</td>\n",
       "      <td>SARA-MATRIX</td>\n",
       "      <td>0.994</td>\n",
       "      <td>False</td>\n",
       "    </tr>\n",
       "    <tr>\n",
       "      <th>4</th>\n",
       "      <td>2024-08-08T21:48:50.000Z</td>\n",
       "      <td>2024-08-08T21:47:39.000Z</td>\n",
       "      <td>1a761ff85a972cf85c459bc7dc32337820ae02db</td>\n",
       "      <td>194.80.35.168</td>\n",
       "      <td>145.100.32.32</td>\n",
       "      <td>679</td>\n",
       "      <td>True</td>\n",
       "      <td>True</td>\n",
       "      <td>dd2a48c414d642b774d9d3f0c6c40eca910ca364</td>\n",
       "      <td>False</td>\n",
       "      <td>pygrid-sonar1.lancs.ac.uk</td>\n",
       "      <td>perfsonar-bandwidth.grid.surfsara.nl</td>\n",
       "      <td>62.40.98.38</td>\n",
       "      <td>10</td>\n",
       "      <td>20965</td>\n",
       "      <td>12.7</td>\n",
       "      <td>UKI-NORTHGRID-LANCS-HEP</td>\n",
       "      <td>SARA-MATRIX</td>\n",
       "      <td>0.994</td>\n",
       "      <td>False</td>\n",
       "    </tr>\n",
       "  </tbody>\n",
       "</table>\n",
       "</div>"
      ],
      "text/plain": [
       "              traceroute_ts             throughput_ts  \\\n",
       "0  2024-08-08T21:48:50.000Z  2024-08-08T21:47:39.000Z   \n",
       "1  2024-08-08T21:48:50.000Z  2024-08-08T21:47:39.000Z   \n",
       "2  2024-08-08T21:48:50.000Z  2024-08-08T21:47:39.000Z   \n",
       "3  2024-08-08T21:48:50.000Z  2024-08-08T21:47:39.000Z   \n",
       "4  2024-08-08T21:48:50.000Z  2024-08-08T21:47:39.000Z   \n",
       "\n",
       "                             ttls-hops_hash            src           dest  \\\n",
       "0  1a761ff85a972cf85c459bc7dc32337820ae02db  194.80.35.168  145.100.32.32   \n",
       "1  1a761ff85a972cf85c459bc7dc32337820ae02db  194.80.35.168  145.100.32.32   \n",
       "2  1a761ff85a972cf85c459bc7dc32337820ae02db  194.80.35.168  145.100.32.32   \n",
       "3  1a761ff85a972cf85c459bc7dc32337820ae02db  194.80.35.168  145.100.32.32   \n",
       "4  1a761ff85a972cf85c459bc7dc32337820ae02db  194.80.35.168  145.100.32.32   \n",
       "\n",
       "   throughput_Mb  path_complete  destination_reached  \\\n",
       "0            679           True                 True   \n",
       "1            679           True                 True   \n",
       "2            679           True                 True   \n",
       "3            679           True                 True   \n",
       "4            679           True                 True   \n",
       "\n",
       "                                 route-sha1   ipv6                   src_host  \\\n",
       "0  dd2a48c414d642b774d9d3f0c6c40eca910ca364  False  pygrid-sonar1.lancs.ac.uk   \n",
       "1  dd2a48c414d642b774d9d3f0c6c40eca910ca364  False  pygrid-sonar1.lancs.ac.uk   \n",
       "2  dd2a48c414d642b774d9d3f0c6c40eca910ca364  False  pygrid-sonar1.lancs.ac.uk   \n",
       "3  dd2a48c414d642b774d9d3f0c6c40eca910ca364  False  pygrid-sonar1.lancs.ac.uk   \n",
       "4  dd2a48c414d642b774d9d3f0c6c40eca910ca364  False  pygrid-sonar1.lancs.ac.uk   \n",
       "\n",
       "                              dest_host         router  ttl    asn   rtt  \\\n",
       "0  perfsonar-bandwidth.grid.surfsara.nl   146.97.33.17    6    786   8.0   \n",
       "1  perfsonar-bandwidth.grid.surfsara.nl  62.40.124.197    7  20965   7.9   \n",
       "2  perfsonar-bandwidth.grid.surfsara.nl    62.40.98.60    8  20965   7.9   \n",
       "3  perfsonar-bandwidth.grid.surfsara.nl    62.40.98.22    9  20965  19.6   \n",
       "4  perfsonar-bandwidth.grid.surfsara.nl    62.40.98.38   10  20965  12.7   \n",
       "\n",
       "                  src_site    dest_site  similarity_score  stable  \n",
       "0  UKI-NORTHGRID-LANCS-HEP  SARA-MATRIX             0.994   False  \n",
       "1  UKI-NORTHGRID-LANCS-HEP  SARA-MATRIX             0.994   False  \n",
       "2  UKI-NORTHGRID-LANCS-HEP  SARA-MATRIX             0.994   False  \n",
       "3  UKI-NORTHGRID-LANCS-HEP  SARA-MATRIX             0.994   False  \n",
       "4  UKI-NORTHGRID-LANCS-HEP  SARA-MATRIX             0.994   False  "
      ]
     },
     "execution_count": 1,
     "metadata": {},
     "output_type": "execute_result"
    }
   ],
   "source": [
    "import pandas as pd\n",
    "from elasticsearch.helpers import scan\n",
    "import numpy as np\n",
    "import matplotlib.pyplot as plt\n",
    "import helpers as hp\n",
    "\n",
    "extended_period = ['2024-08-01T06:22:19.000Z', '2024-08-20T06:22:19.000Z']\n",
    "bin_hours = 4\n",
    "\n",
    "results = []\n",
    "q = {\n",
    "    \"query\": {\n",
    "      \"bool\": {\n",
    "        \"must\": [\n",
    "          {\n",
    "          \"range\": {\n",
    "            \"throughput_ts\": {\n",
    "              \"format\": \"strict_date_optional_time\",\n",
    "              \"lte\": extended_period[1],\n",
    "              \"gte\": extended_period[0]\n",
    "            }\n",
    "          }\n",
    "          },\n",
    "          {\n",
    "            \"term\": {\n",
    "              \"ipv6\": False\n",
    "            }\n",
    "          }\n",
    "        ]\n",
    "      }\n",
    "    }\n",
    "    }\n",
    "data = scan(hp.es, index='routers', query=q)\n",
    "for item in data:\n",
    "    results.append(item['_source'])\n",
    "\n",
    "if results:\n",
    "    df = pd.DataFrame(results)\n",
    "\n",
    "\n",
    "df.head()"
   ]
  },
  {
   "cell_type": "code",
   "execution_count": 2,
   "id": "02fee222-c623-40d7-ad9a-2fa97e3d58a2",
   "metadata": {},
   "outputs": [
    {
     "name": "stderr",
     "output_type": "stream",
     "text": [
      "/usr/local/lib/python3.8/dist-packages/distributed/client.py:3108: UserWarning: Sending large graph of size 66.26 MiB.\n",
      "This may cause some slowdown.\n",
      "Consider scattering data ahead of time and using futures.\n",
      "  warnings.warn(\n"
     ]
    }
   ],
   "source": [
    "import pandas as pd\n",
    "import dask.dataframe as dd\n",
    "from dask.distributed import Client\n",
    "\n",
    "# Connect to the running Dask cluster using the scheduler address\n",
    "client = Client('tcp://127.0.0.1:40061')\n",
    "\n",
    "\n",
    "df.sort_values(by=['traceroute_ts', 'ttls-hops_hash', 'ttl'], inplace=True)\n",
    "df['anonymous'] = 0\n",
    "df['max_ttl'] = df.groupby('ttls-hops_hash')['ttl'].transform(max)\n",
    "ddf = dd.from_pandas(df, npartitions=8)\n",
    "\n",
    "\n",
    "# Define the function to fill missing TTLs\n",
    "def fill_missing_ttl(group):\n",
    "    group = group.sort_values(by='ttl')\n",
    "    complete_range = pd.RangeIndex(start=group['ttl'].min(), stop=group['ttl'].max() + 1)\n",
    "\n",
    "    missing_ttl = complete_range.difference(group['ttl'])\n",
    "\n",
    "    rows_to_add = []\n",
    "    for ttl in missing_ttl:\n",
    "        previous_row = group.iloc[0]\n",
    "        new_row = previous_row.copy()\n",
    "        new_row['ttl'] = ttl\n",
    "        new_row['anonymous'] = 1\n",
    "        new_row['router'] = 'unknown'\n",
    "        rows_to_add.append(new_row)\n",
    "\n",
    "    return pd.concat([group, pd.DataFrame(rows_to_add)], ignore_index=True).sort_values(by='ttl')\n",
    "\n",
    "\n",
    "\n",
    "# Grouping and applying the function using Dask's map_partitions\n",
    "# Convert the grouped Dask DataFrame back to pandas for processing\n",
    "def process_partition(partition):\n",
    "    # Group by traceroute_ts and ttls-hops_hash within each partition\n",
    "    return partition.groupby(['traceroute_ts', 'ttls-hops_hash']).apply(fill_missing_ttl)\n",
    "\n",
    "# Use map_partitions to parallelize the function across partitions\n",
    "filled_dask = ddf.map_partitions(process_partition, meta=df)\n",
    "\n",
    "# Step 3: Convert back to pandas DataFrame if needed\n",
    "filled_ipv4 = filled_dask.compute()\n",
    "filled_ipv4.drop(columns=['traceroute_ts', 'ttls-hops_hash'], inplace=True)\n",
    "filled_ipv4.reset_index(inplace=True)"
   ]
  },
  {
   "cell_type": "code",
   "execution_count": 3,
   "id": "a6478eb4-dda7-43ff-965b-88a86124240d",
   "metadata": {
    "jupyter": {
     "source_hidden": true
    }
   },
   "outputs": [],
   "source": [
    "# Without Dask\n",
    "# df.sort_values(by=['traceroute_ts', 'ttls-hops_hash', 'ttl'], inplace=True)\n",
    "# df['anonymous'] = 0\n",
    "\n",
    "\n",
    "# def fill_missing_ttl(group):\n",
    "#     group = group.sort_values(by='ttl')\n",
    "#     complete_range = pd.RangeIndex(start=group['ttl'].min(), stop=group['ttl'].max() + 1)\n",
    "\n",
    "#     missing_ttl = complete_range.difference(group['ttl'])\n",
    "\n",
    "#     rows_to_add = []\n",
    "#     for ttl in missing_ttl:\n",
    "#         previous_row = group.iloc[0]\n",
    "#         new_row = previous_row.copy()\n",
    "#         new_row['ttl'] = ttl\n",
    "#         new_row['anonymous'] = 1\n",
    "#         new_row['router'] = 'unknown'\n",
    "#         rows_to_add.append(new_row)\n",
    "\n",
    "#     return pd.concat([group, pd.DataFrame(rows_to_add)], ignore_index=True).sort_values(by='ttl')\n",
    "\n",
    "# filled_ipv4 = df.groupby(['traceroute_ts', 'ttls-hops_hash']).apply(fill_missing_ttl).reset_index(drop=True)\n",
    "\n",
    "# filled_ipv4['max_ttl'] = filled_ipv4.groupby('ttls-hops_hash')['ttl'].transform(max)\n",
    "\n"
   ]
  },
  {
   "cell_type": "code",
   "execution_count": null,
   "id": "5432d552-92f4-4567-a993-a68ebc8b4fd4",
   "metadata": {},
   "outputs": [],
   "source": []
  },
  {
   "cell_type": "code",
   "execution_count": 4,
   "id": "ad3ae078-79b4-466b-828b-a5b79a40dbbe",
   "metadata": {},
   "outputs": [],
   "source": [
    "import random\n",
    "import plotly.graph_objects as go\n",
    "\n",
    "def generate_plotly_heatmap_with_hover(df, src_site, dest_site):\n",
    "    df.sort_values('traceroute_ts', inplace=True)\n",
    "    # Filter the DataFrame for the specified source and destination site\n",
    "    filtered_df = df[(df['src_site'] == src_site) & (df['dest_site'] == dest_site)][['ttls-hops_hash', 'router', 'ttl', 'destination_reached']].drop_duplicates()\n",
    "\n",
    "    # Pivot the DataFrame\n",
    "    pivot_df = filtered_df.pivot(index='ttls-hops_hash', columns='ttl', values='router')\n",
    "\n",
    "    # Get unique routers including 'unknown'\n",
    "    unique_routers = pd.Series(pivot_df.stack().unique()).dropna().tolist()\n",
    "\n",
    "    cmap = plt.get_cmap('hsv', len(unique_routers) + 1)\n",
    "    colors = [f\"rgba({int(c[0]*255)}, {int(c[1]*255)}, {int(c[2]*255)}, 0.6)\" for c in cmap(np.arange(len(unique_routers)))]\n",
    "\n",
    "    # Shuffle the colors to prevent similar IPs from getting similar colors\n",
    "    if len(unique_routers)>20:\n",
    "        random.shuffle(colors)\n",
    "\n",
    "    # Ensure 'unknown' is black and missing values are white\n",
    "    color_list = ['#FFFFFF'] + colors\n",
    "    if 'unknown' in unique_routers:\n",
    "        color_list[unique_routers.index('unknown') + 1] = 'rgba(0, 0, 0, 1)'  # Full opacity black for unknown\n",
    "\n",
    "\n",
    "    # Replace routers with their corresponding index in the unique_routers list\n",
    "    router_to_index = {router: i for i, router in enumerate(unique_routers)}\n",
    "    index_df = pivot_df.applymap(lambda x: router_to_index[x] if pd.notna(x) else -1)\n",
    "\n",
    "    destination_reached = filtered_df[['ttls-hops_hash', 'destination_reached']].drop_duplicates()\n",
    "    destination_reached.set_index('ttls-hops_hash', inplace=True)\n",
    "\n",
    "\n",
    "    hover_text = pivot_df.applymap(lambda x: f\"Router: {x}\" if pd.notna(x) else \"Missing\").values\n",
    "\n",
    "    fig = go.Figure()\n",
    "\n",
    "    heatmap = go.Heatmap(\n",
    "        z=index_df.values,\n",
    "        x=index_df.columns,\n",
    "        y=index_df.index,\n",
    "        colorscale=color_list,\n",
    "        zmin=-1,\n",
    "        zmax=len(unique_routers) - 1,\n",
    "        text=hover_text,\n",
    "        hoverinfo='text',\n",
    "        showscale=False,\n",
    "        xgap=1,\n",
    "        ygap=1,\n",
    "    )\n",
    "\n",
    "    fig.add_trace(heatmap)\n",
    "\n",
    "    fig.update_layout(\n",
    "        title=f\"Path signature between {src_site} and {dest_site}\",\n",
    "        xaxis_title='TTL',\n",
    "        yaxis_title='Path Identifier (ttls-hops_hash)',\n",
    "    )\n",
    "\n",
    "    # second Y-axis as annotations for 'destination_reached'\n",
    "    annotations = []\n",
    "    for i, (path_id, reached) in enumerate(destination_reached.itertuples()):\n",
    "        annotations.append(dict(\n",
    "            xref='paper',\n",
    "            yref='y',\n",
    "            x=1.05,\n",
    "            y=i,\n",
    "            xanchor='left',\n",
    "            text=str(reached),\n",
    "            showarrow=False\n",
    "        ))\n",
    "\n",
    "    annotations.append(dict(\n",
    "        xref='x domain',\n",
    "        yref='paper',\n",
    "        x=1.02,\n",
    "        y=1.1,\n",
    "        xanchor='left',\n",
    "        text='Destination Reached',\n",
    "        showarrow=False,\n",
    "        font=dict(size=12, color='black')\n",
    "    ))\n",
    "\n",
    "    fig.update_layout(\n",
    "        annotations=annotations,\n",
    "        margin=dict(r=250),\n",
    "        height=600, width=1400\n",
    "    )\n",
    "\n",
    "    fig.show()\n"
   ]
  },
  {
   "cell_type": "code",
   "execution_count": 8,
   "id": "050c3769-f0d8-4c0d-b946-1a975fbbb8fd",
   "metadata": {},
   "outputs": [
    {
     "data": {
      "application/vnd.plotly.v1+json": {
       "config": {
        "plotlyServerURL": "https://plot.ly"
       },
       "data": [
        {
         "colorscale": [
          [
           0,
           "#FFFFFF"
          ],
          [
           0.07142857142857142,
           "rgba(255, 0, 0, 0.6)"
          ],
          [
           0.14285714285714285,
           "rgba(255, 107, 0, 0.6)"
          ],
          [
           0.21428571428571427,
           "rgba(255, 215, 0, 0.6)"
          ],
          [
           0.2857142857142857,
           "rgba(187, 255, 0, 0.6)"
          ],
          [
           0.35714285714285715,
           "rgba(79, 255, 0, 0.6)"
          ],
          [
           0.42857142857142855,
           "rgba(0, 255, 27, 0.6)"
          ],
          [
           0.5,
           "rgba(0, 255, 135, 0.6)"
          ],
          [
           0.5714285714285714,
           "rgba(0, 255, 243, 0.6)"
          ],
          [
           0.6428571428571429,
           "rgba(0, 159, 255, 0.6)"
          ],
          [
           0.7142857142857143,
           "rgba(0, 51, 255, 0.6)"
          ],
          [
           0.7857142857142857,
           "rgba(55, 0, 255, 0.6)"
          ],
          [
           0.8571428571428571,
           "rgba(163, 0, 255, 0.6)"
          ],
          [
           0.9285714285714286,
           "rgba(0, 0, 0, 1)"
          ],
          [
           1,
           "rgba(255, 0, 131, 0.6)"
          ]
         ],
         "hoverinfo": "text",
         "showscale": false,
         "text": [
          [
           "Router: 69.16.44.1",
           "Router: 198.124.81.4",
           "Router: 134.55.56.120",
           "Router: 134.55.57.40",
           "Router: 134.55.57.35",
           "Router: 134.55.56.96",
           "Router: 134.55.57.203",
           "Router: 134.55.57.22",
           "Router: 198.124.80.37",
           "Router: 198.124.80.38",
           "Router: 205.189.32.122",
           "Router: 205.189.32.123",
           "Router: unknown",
           "Router: 206.12.9.1",
           "Missing",
           "Missing",
           "Missing",
           "Missing",
           "Missing",
           "Missing"
          ],
          [
           "Router: 69.16.44.1",
           "Router: 198.124.81.4",
           "Router: unknown",
           "Router: 134.55.57.40",
           "Router: 134.55.57.35",
           "Router: 134.55.56.96",
           "Router: 134.55.57.203",
           "Router: 134.55.57.22",
           "Router: 198.124.80.37",
           "Router: 198.124.80.38",
           "Router: 205.189.32.122",
           "Router: 205.189.32.123",
           "Router: 206.12.9.1",
           "Missing",
           "Missing",
           "Missing",
           "Missing",
           "Missing",
           "Missing",
           "Missing"
          ],
          [
           "Router: 69.16.44.1",
           "Router: 198.124.81.4",
           "Router: 134.55.56.120",
           "Router: 134.55.57.40",
           "Router: 134.55.57.35",
           "Router: 134.55.56.96",
           "Router: 134.55.57.203",
           "Router: 134.55.57.22",
           "Router: 198.124.80.37",
           "Router: 198.124.80.38",
           "Router: 205.189.32.122",
           "Router: 205.189.32.123",
           "Router: unknown",
           "Router: unknown",
           "Router: unknown",
           "Router: 206.12.9.1",
           "Missing",
           "Missing",
           "Missing",
           "Missing"
          ],
          [
           "Router: 69.16.44.1",
           "Router: 198.124.81.4",
           "Router: 134.55.56.120",
           "Router: 134.55.57.40",
           "Router: 134.55.57.35",
           "Router: 134.55.56.96",
           "Router: 134.55.57.203",
           "Router: 134.55.57.22",
           "Router: 198.124.80.37",
           "Router: 198.124.80.38",
           "Router: unknown",
           "Router: 205.189.32.123",
           "Missing",
           "Missing",
           "Missing",
           "Missing",
           "Missing",
           "Missing",
           "Missing",
           "Missing"
          ],
          [
           "Router: 69.16.44.1",
           "Router: 198.124.81.4",
           "Router: 134.55.56.120",
           "Router: 134.55.57.40",
           "Router: 134.55.57.35",
           "Router: 134.55.56.96",
           "Router: 134.55.57.203",
           "Router: 134.55.57.22",
           "Router: 198.124.80.37",
           "Router: 198.124.80.38",
           "Router: 205.189.32.122",
           "Router: 205.189.32.123",
           "Router: 206.12.9.1",
           "Missing",
           "Missing",
           "Missing",
           "Missing",
           "Missing",
           "Missing",
           "Missing"
          ],
          [
           "Router: 69.16.44.1",
           "Router: 198.124.81.4",
           "Router: 134.55.56.120",
           "Router: 134.55.57.40",
           "Router: 134.55.57.35",
           "Router: 134.55.56.96",
           "Router: 134.55.57.203",
           "Router: 134.55.57.22",
           "Router: 198.124.80.37",
           "Router: 198.124.80.38",
           "Router: 205.189.32.122",
           "Router: 205.189.32.123",
           "Router: unknown",
           "Router: unknown",
           "Router: unknown",
           "Router: unknown",
           "Router: unknown",
           "Router: unknown",
           "Router: unknown",
           "Router: 206.12.9.1"
          ]
         ],
         "type": "heatmap",
         "x": [
          1,
          2,
          3,
          4,
          5,
          6,
          7,
          8,
          9,
          10,
          11,
          12,
          13,
          14,
          15,
          16,
          17,
          18,
          19,
          20
         ],
         "xgap": 1,
         "y": [
          "12307ad6f1222a2ab1b39800247496ed7fd40dcc",
          "12f0ac4b85cb9a7f781ccdb753e94c8f72497ee6",
          "1f41a5e28ed1a196e52c8b2e582a0f9c1ccae646",
          "64e05ecb137bfcd8be22efe26392cf2654a0aedb",
          "65cf3aaee69bfd9e309842b7bd99c26ff4b7d979",
          "7ff85ff0a8daea3104c0215a9f75b1c400623e21"
         ],
         "ygap": 1,
         "z": [
          [
           0,
           1,
           2,
           3,
           4,
           5,
           6,
           7,
           8,
           9,
           10,
           11,
           12,
           13,
           -1,
           -1,
           -1,
           -1,
           -1,
           -1
          ],
          [
           0,
           1,
           12,
           3,
           4,
           5,
           6,
           7,
           8,
           9,
           10,
           11,
           13,
           -1,
           -1,
           -1,
           -1,
           -1,
           -1,
           -1
          ],
          [
           0,
           1,
           2,
           3,
           4,
           5,
           6,
           7,
           8,
           9,
           10,
           11,
           12,
           12,
           12,
           13,
           -1,
           -1,
           -1,
           -1
          ],
          [
           0,
           1,
           2,
           3,
           4,
           5,
           6,
           7,
           8,
           9,
           12,
           11,
           -1,
           -1,
           -1,
           -1,
           -1,
           -1,
           -1,
           -1
          ],
          [
           0,
           1,
           2,
           3,
           4,
           5,
           6,
           7,
           8,
           9,
           10,
           11,
           13,
           -1,
           -1,
           -1,
           -1,
           -1,
           -1,
           -1
          ],
          [
           0,
           1,
           2,
           3,
           4,
           5,
           6,
           7,
           8,
           9,
           10,
           11,
           12,
           12,
           12,
           12,
           12,
           12,
           12,
           13
          ]
         ],
         "zmax": 13,
         "zmin": -1
        }
       ],
       "layout": {
        "annotations": [
         {
          "showarrow": false,
          "text": "True",
          "x": 1.05,
          "xanchor": "left",
          "xref": "paper",
          "y": 0,
          "yref": "y"
         },
         {
          "showarrow": false,
          "text": "True",
          "x": 1.05,
          "xanchor": "left",
          "xref": "paper",
          "y": 1,
          "yref": "y"
         },
         {
          "showarrow": false,
          "text": "True",
          "x": 1.05,
          "xanchor": "left",
          "xref": "paper",
          "y": 2,
          "yref": "y"
         },
         {
          "showarrow": false,
          "text": "True",
          "x": 1.05,
          "xanchor": "left",
          "xref": "paper",
          "y": 3,
          "yref": "y"
         },
         {
          "showarrow": false,
          "text": "False",
          "x": 1.05,
          "xanchor": "left",
          "xref": "paper",
          "y": 4,
          "yref": "y"
         },
         {
          "showarrow": false,
          "text": "True",
          "x": 1.05,
          "xanchor": "left",
          "xref": "paper",
          "y": 5,
          "yref": "y"
         },
         {
          "font": {
           "color": "black",
           "size": 12
          },
          "showarrow": false,
          "text": "Destination Reached",
          "x": 1.02,
          "xanchor": "left",
          "xref": "x domain",
          "y": 1.1,
          "yref": "paper"
         }
        ],
        "height": 600,
        "margin": {
         "r": 250
        },
        "template": {
         "data": {
          "bar": [
           {
            "error_x": {
             "color": "#2a3f5f"
            },
            "error_y": {
             "color": "#2a3f5f"
            },
            "marker": {
             "line": {
              "color": "#E5ECF6",
              "width": 0.5
             },
             "pattern": {
              "fillmode": "overlay",
              "size": 10,
              "solidity": 0.2
             }
            },
            "type": "bar"
           }
          ],
          "barpolar": [
           {
            "marker": {
             "line": {
              "color": "#E5ECF6",
              "width": 0.5
             },
             "pattern": {
              "fillmode": "overlay",
              "size": 10,
              "solidity": 0.2
             }
            },
            "type": "barpolar"
           }
          ],
          "carpet": [
           {
            "aaxis": {
             "endlinecolor": "#2a3f5f",
             "gridcolor": "white",
             "linecolor": "white",
             "minorgridcolor": "white",
             "startlinecolor": "#2a3f5f"
            },
            "baxis": {
             "endlinecolor": "#2a3f5f",
             "gridcolor": "white",
             "linecolor": "white",
             "minorgridcolor": "white",
             "startlinecolor": "#2a3f5f"
            },
            "type": "carpet"
           }
          ],
          "choropleth": [
           {
            "colorbar": {
             "outlinewidth": 0,
             "ticks": ""
            },
            "type": "choropleth"
           }
          ],
          "contour": [
           {
            "colorbar": {
             "outlinewidth": 0,
             "ticks": ""
            },
            "colorscale": [
             [
              0,
              "#0d0887"
             ],
             [
              0.1111111111111111,
              "#46039f"
             ],
             [
              0.2222222222222222,
              "#7201a8"
             ],
             [
              0.3333333333333333,
              "#9c179e"
             ],
             [
              0.4444444444444444,
              "#bd3786"
             ],
             [
              0.5555555555555556,
              "#d8576b"
             ],
             [
              0.6666666666666666,
              "#ed7953"
             ],
             [
              0.7777777777777778,
              "#fb9f3a"
             ],
             [
              0.8888888888888888,
              "#fdca26"
             ],
             [
              1,
              "#f0f921"
             ]
            ],
            "type": "contour"
           }
          ],
          "contourcarpet": [
           {
            "colorbar": {
             "outlinewidth": 0,
             "ticks": ""
            },
            "type": "contourcarpet"
           }
          ],
          "heatmap": [
           {
            "colorbar": {
             "outlinewidth": 0,
             "ticks": ""
            },
            "colorscale": [
             [
              0,
              "#0d0887"
             ],
             [
              0.1111111111111111,
              "#46039f"
             ],
             [
              0.2222222222222222,
              "#7201a8"
             ],
             [
              0.3333333333333333,
              "#9c179e"
             ],
             [
              0.4444444444444444,
              "#bd3786"
             ],
             [
              0.5555555555555556,
              "#d8576b"
             ],
             [
              0.6666666666666666,
              "#ed7953"
             ],
             [
              0.7777777777777778,
              "#fb9f3a"
             ],
             [
              0.8888888888888888,
              "#fdca26"
             ],
             [
              1,
              "#f0f921"
             ]
            ],
            "type": "heatmap"
           }
          ],
          "heatmapgl": [
           {
            "colorbar": {
             "outlinewidth": 0,
             "ticks": ""
            },
            "colorscale": [
             [
              0,
              "#0d0887"
             ],
             [
              0.1111111111111111,
              "#46039f"
             ],
             [
              0.2222222222222222,
              "#7201a8"
             ],
             [
              0.3333333333333333,
              "#9c179e"
             ],
             [
              0.4444444444444444,
              "#bd3786"
             ],
             [
              0.5555555555555556,
              "#d8576b"
             ],
             [
              0.6666666666666666,
              "#ed7953"
             ],
             [
              0.7777777777777778,
              "#fb9f3a"
             ],
             [
              0.8888888888888888,
              "#fdca26"
             ],
             [
              1,
              "#f0f921"
             ]
            ],
            "type": "heatmapgl"
           }
          ],
          "histogram": [
           {
            "marker": {
             "pattern": {
              "fillmode": "overlay",
              "size": 10,
              "solidity": 0.2
             }
            },
            "type": "histogram"
           }
          ],
          "histogram2d": [
           {
            "colorbar": {
             "outlinewidth": 0,
             "ticks": ""
            },
            "colorscale": [
             [
              0,
              "#0d0887"
             ],
             [
              0.1111111111111111,
              "#46039f"
             ],
             [
              0.2222222222222222,
              "#7201a8"
             ],
             [
              0.3333333333333333,
              "#9c179e"
             ],
             [
              0.4444444444444444,
              "#bd3786"
             ],
             [
              0.5555555555555556,
              "#d8576b"
             ],
             [
              0.6666666666666666,
              "#ed7953"
             ],
             [
              0.7777777777777778,
              "#fb9f3a"
             ],
             [
              0.8888888888888888,
              "#fdca26"
             ],
             [
              1,
              "#f0f921"
             ]
            ],
            "type": "histogram2d"
           }
          ],
          "histogram2dcontour": [
           {
            "colorbar": {
             "outlinewidth": 0,
             "ticks": ""
            },
            "colorscale": [
             [
              0,
              "#0d0887"
             ],
             [
              0.1111111111111111,
              "#46039f"
             ],
             [
              0.2222222222222222,
              "#7201a8"
             ],
             [
              0.3333333333333333,
              "#9c179e"
             ],
             [
              0.4444444444444444,
              "#bd3786"
             ],
             [
              0.5555555555555556,
              "#d8576b"
             ],
             [
              0.6666666666666666,
              "#ed7953"
             ],
             [
              0.7777777777777778,
              "#fb9f3a"
             ],
             [
              0.8888888888888888,
              "#fdca26"
             ],
             [
              1,
              "#f0f921"
             ]
            ],
            "type": "histogram2dcontour"
           }
          ],
          "mesh3d": [
           {
            "colorbar": {
             "outlinewidth": 0,
             "ticks": ""
            },
            "type": "mesh3d"
           }
          ],
          "parcoords": [
           {
            "line": {
             "colorbar": {
              "outlinewidth": 0,
              "ticks": ""
             }
            },
            "type": "parcoords"
           }
          ],
          "pie": [
           {
            "automargin": true,
            "type": "pie"
           }
          ],
          "scatter": [
           {
            "fillpattern": {
             "fillmode": "overlay",
             "size": 10,
             "solidity": 0.2
            },
            "type": "scatter"
           }
          ],
          "scatter3d": [
           {
            "line": {
             "colorbar": {
              "outlinewidth": 0,
              "ticks": ""
             }
            },
            "marker": {
             "colorbar": {
              "outlinewidth": 0,
              "ticks": ""
             }
            },
            "type": "scatter3d"
           }
          ],
          "scattercarpet": [
           {
            "marker": {
             "colorbar": {
              "outlinewidth": 0,
              "ticks": ""
             }
            },
            "type": "scattercarpet"
           }
          ],
          "scattergeo": [
           {
            "marker": {
             "colorbar": {
              "outlinewidth": 0,
              "ticks": ""
             }
            },
            "type": "scattergeo"
           }
          ],
          "scattergl": [
           {
            "marker": {
             "colorbar": {
              "outlinewidth": 0,
              "ticks": ""
             }
            },
            "type": "scattergl"
           }
          ],
          "scattermapbox": [
           {
            "marker": {
             "colorbar": {
              "outlinewidth": 0,
              "ticks": ""
             }
            },
            "type": "scattermapbox"
           }
          ],
          "scatterpolar": [
           {
            "marker": {
             "colorbar": {
              "outlinewidth": 0,
              "ticks": ""
             }
            },
            "type": "scatterpolar"
           }
          ],
          "scatterpolargl": [
           {
            "marker": {
             "colorbar": {
              "outlinewidth": 0,
              "ticks": ""
             }
            },
            "type": "scatterpolargl"
           }
          ],
          "scatterternary": [
           {
            "marker": {
             "colorbar": {
              "outlinewidth": 0,
              "ticks": ""
             }
            },
            "type": "scatterternary"
           }
          ],
          "surface": [
           {
            "colorbar": {
             "outlinewidth": 0,
             "ticks": ""
            },
            "colorscale": [
             [
              0,
              "#0d0887"
             ],
             [
              0.1111111111111111,
              "#46039f"
             ],
             [
              0.2222222222222222,
              "#7201a8"
             ],
             [
              0.3333333333333333,
              "#9c179e"
             ],
             [
              0.4444444444444444,
              "#bd3786"
             ],
             [
              0.5555555555555556,
              "#d8576b"
             ],
             [
              0.6666666666666666,
              "#ed7953"
             ],
             [
              0.7777777777777778,
              "#fb9f3a"
             ],
             [
              0.8888888888888888,
              "#fdca26"
             ],
             [
              1,
              "#f0f921"
             ]
            ],
            "type": "surface"
           }
          ],
          "table": [
           {
            "cells": {
             "fill": {
              "color": "#EBF0F8"
             },
             "line": {
              "color": "white"
             }
            },
            "header": {
             "fill": {
              "color": "#C8D4E3"
             },
             "line": {
              "color": "white"
             }
            },
            "type": "table"
           }
          ]
         },
         "layout": {
          "annotationdefaults": {
           "arrowcolor": "#2a3f5f",
           "arrowhead": 0,
           "arrowwidth": 1
          },
          "autotypenumbers": "strict",
          "coloraxis": {
           "colorbar": {
            "outlinewidth": 0,
            "ticks": ""
           }
          },
          "colorscale": {
           "diverging": [
            [
             0,
             "#8e0152"
            ],
            [
             0.1,
             "#c51b7d"
            ],
            [
             0.2,
             "#de77ae"
            ],
            [
             0.3,
             "#f1b6da"
            ],
            [
             0.4,
             "#fde0ef"
            ],
            [
             0.5,
             "#f7f7f7"
            ],
            [
             0.6,
             "#e6f5d0"
            ],
            [
             0.7,
             "#b8e186"
            ],
            [
             0.8,
             "#7fbc41"
            ],
            [
             0.9,
             "#4d9221"
            ],
            [
             1,
             "#276419"
            ]
           ],
           "sequential": [
            [
             0,
             "#0d0887"
            ],
            [
             0.1111111111111111,
             "#46039f"
            ],
            [
             0.2222222222222222,
             "#7201a8"
            ],
            [
             0.3333333333333333,
             "#9c179e"
            ],
            [
             0.4444444444444444,
             "#bd3786"
            ],
            [
             0.5555555555555556,
             "#d8576b"
            ],
            [
             0.6666666666666666,
             "#ed7953"
            ],
            [
             0.7777777777777778,
             "#fb9f3a"
            ],
            [
             0.8888888888888888,
             "#fdca26"
            ],
            [
             1,
             "#f0f921"
            ]
           ],
           "sequentialminus": [
            [
             0,
             "#0d0887"
            ],
            [
             0.1111111111111111,
             "#46039f"
            ],
            [
             0.2222222222222222,
             "#7201a8"
            ],
            [
             0.3333333333333333,
             "#9c179e"
            ],
            [
             0.4444444444444444,
             "#bd3786"
            ],
            [
             0.5555555555555556,
             "#d8576b"
            ],
            [
             0.6666666666666666,
             "#ed7953"
            ],
            [
             0.7777777777777778,
             "#fb9f3a"
            ],
            [
             0.8888888888888888,
             "#fdca26"
            ],
            [
             1,
             "#f0f921"
            ]
           ]
          },
          "colorway": [
           "#636efa",
           "#EF553B",
           "#00cc96",
           "#ab63fa",
           "#FFA15A",
           "#19d3f3",
           "#FF6692",
           "#B6E880",
           "#FF97FF",
           "#FECB52"
          ],
          "font": {
           "color": "#2a3f5f"
          },
          "geo": {
           "bgcolor": "white",
           "lakecolor": "white",
           "landcolor": "#E5ECF6",
           "showlakes": true,
           "showland": true,
           "subunitcolor": "white"
          },
          "hoverlabel": {
           "align": "left"
          },
          "hovermode": "closest",
          "mapbox": {
           "style": "light"
          },
          "paper_bgcolor": "white",
          "plot_bgcolor": "#E5ECF6",
          "polar": {
           "angularaxis": {
            "gridcolor": "white",
            "linecolor": "white",
            "ticks": ""
           },
           "bgcolor": "#E5ECF6",
           "radialaxis": {
            "gridcolor": "white",
            "linecolor": "white",
            "ticks": ""
           }
          },
          "scene": {
           "xaxis": {
            "backgroundcolor": "#E5ECF6",
            "gridcolor": "white",
            "gridwidth": 2,
            "linecolor": "white",
            "showbackground": true,
            "ticks": "",
            "zerolinecolor": "white"
           },
           "yaxis": {
            "backgroundcolor": "#E5ECF6",
            "gridcolor": "white",
            "gridwidth": 2,
            "linecolor": "white",
            "showbackground": true,
            "ticks": "",
            "zerolinecolor": "white"
           },
           "zaxis": {
            "backgroundcolor": "#E5ECF6",
            "gridcolor": "white",
            "gridwidth": 2,
            "linecolor": "white",
            "showbackground": true,
            "ticks": "",
            "zerolinecolor": "white"
           }
          },
          "shapedefaults": {
           "line": {
            "color": "#2a3f5f"
           }
          },
          "ternary": {
           "aaxis": {
            "gridcolor": "white",
            "linecolor": "white",
            "ticks": ""
           },
           "baxis": {
            "gridcolor": "white",
            "linecolor": "white",
            "ticks": ""
           },
           "bgcolor": "#E5ECF6",
           "caxis": {
            "gridcolor": "white",
            "linecolor": "white",
            "ticks": ""
           }
          },
          "title": {
           "x": 0.05
          },
          "xaxis": {
           "automargin": true,
           "gridcolor": "white",
           "linecolor": "white",
           "ticks": "",
           "title": {
            "standoff": 15
           },
           "zerolinecolor": "white",
           "zerolinewidth": 2
          },
          "yaxis": {
           "automargin": true,
           "gridcolor": "white",
           "linecolor": "white",
           "ticks": "",
           "title": {
            "standoff": 15
           },
           "zerolinecolor": "white",
           "zerolinewidth": 2
          }
         }
        },
        "title": {
         "text": "Path signature between NET2 and TRIUMF-LCG2"
        },
        "width": 1400,
        "xaxis": {
         "autorange": true,
         "range": [
          0.5,
          20.5
         ],
         "title": {
          "text": "TTL"
         },
         "type": "linear"
        },
        "yaxis": {
         "autorange": true,
         "range": [
          -0.5,
          5.5
         ],
         "title": {
          "text": "Path Identifier (ttls-hops_hash)"
         },
         "type": "category"
        }
       }
      },
      "image/png": "[encoded data removed]",
      "text/html": [
       "<div>                            <div id=\"32aedfb2-52d4-4659-8e2d-541d139f193d\" class=\"plotly-graph-div\" style=\"height:600px; width:1400px;\"></div>            <script type=\"text/javascript\">                require([\"plotly\"], function(Plotly) {                    window.PLOTLYENV=window.PLOTLYENV || {};                                    if (document.getElementById(\"32aedfb2-52d4-4659-8e2d-541d139f193d\")) {                    Plotly.newPlot(                        \"32aedfb2-52d4-4659-8e2d-541d139f193d\",                        [{\"colorscale\":[[0.0,\"#FFFFFF\"],[0.07142857142857142,\"rgba(255, 0, 0, 0.6)\"],[0.14285714285714285,\"rgba(255, 107, 0, 0.6)\"],[0.21428571428571427,\"rgba(255, 215, 0, 0.6)\"],[0.2857142857142857,\"rgba(187, 255, 0, 0.6)\"],[0.35714285714285715,\"rgba(79, 255, 0, 0.6)\"],[0.42857142857142855,\"rgba(0, 255, 27, 0.6)\"],[0.5,\"rgba(0, 255, 135, 0.6)\"],[0.5714285714285714,\"rgba(0, 255, 243, 0.6)\"],[0.6428571428571429,\"rgba(0, 159, 255, 0.6)\"],[0.7142857142857143,\"rgba(0, 51, 255, 0.6)\"],[0.7857142857142857,\"rgba(55, 0, 255, 0.6)\"],[0.8571428571428571,\"rgba(163, 0, 255, 0.6)\"],[0.9285714285714286,\"rgba(0, 0, 0, 1)\"],[1.0,\"rgba(255, 0, 131, 0.6)\"]],\"hoverinfo\":\"text\",\"showscale\":false,\"text\":[[\"Router: 69.16.44.1\",\"Router: 198.124.81.4\",\"Router: 134.55.56.120\",\"Router: 134.55.57.40\",\"Router: 134.55.57.35\",\"Router: 134.55.56.96\",\"Router: 134.55.57.203\",\"Router: 134.55.57.22\",\"Router: 198.124.80.37\",\"Router: 198.124.80.38\",\"Router: 205.189.32.122\",\"Router: 205.189.32.123\",\"Router: unknown\",\"Router: 206.12.9.1\",\"Missing\",\"Missing\",\"Missing\",\"Missing\",\"Missing\",\"Missing\"],[\"Router: 69.16.44.1\",\"Router: 198.124.81.4\",\"Router: unknown\",\"Router: 134.55.57.40\",\"Router: 134.55.57.35\",\"Router: 134.55.56.96\",\"Router: 134.55.57.203\",\"Router: 134.55.57.22\",\"Router: 198.124.80.37\",\"Router: 198.124.80.38\",\"Router: 205.189.32.122\",\"Router: 205.189.32.123\",\"Router: 206.12.9.1\",\"Missing\",\"Missing\",\"Missing\",\"Missing\",\"Missing\",\"Missing\",\"Missing\"],[\"Router: 69.16.44.1\",\"Router: 198.124.81.4\",\"Router: 134.55.56.120\",\"Router: 134.55.57.40\",\"Router: 134.55.57.35\",\"Router: 134.55.56.96\",\"Router: 134.55.57.203\",\"Router: 134.55.57.22\",\"Router: 198.124.80.37\",\"Router: 198.124.80.38\",\"Router: 205.189.32.122\",\"Router: 205.189.32.123\",\"Router: unknown\",\"Router: unknown\",\"Router: unknown\",\"Router: 206.12.9.1\",\"Missing\",\"Missing\",\"Missing\",\"Missing\"],[\"Router: 69.16.44.1\",\"Router: 198.124.81.4\",\"Router: 134.55.56.120\",\"Router: 134.55.57.40\",\"Router: 134.55.57.35\",\"Router: 134.55.56.96\",\"Router: 134.55.57.203\",\"Router: 134.55.57.22\",\"Router: 198.124.80.37\",\"Router: 198.124.80.38\",\"Router: unknown\",\"Router: 205.189.32.123\",\"Missing\",\"Missing\",\"Missing\",\"Missing\",\"Missing\",\"Missing\",\"Missing\",\"Missing\"],[\"Router: 69.16.44.1\",\"Router: 198.124.81.4\",\"Router: 134.55.56.120\",\"Router: 134.55.57.40\",\"Router: 134.55.57.35\",\"Router: 134.55.56.96\",\"Router: 134.55.57.203\",\"Router: 134.55.57.22\",\"Router: 198.124.80.37\",\"Router: 198.124.80.38\",\"Router: 205.189.32.122\",\"Router: 205.189.32.123\",\"Router: 206.12.9.1\",\"Missing\",\"Missing\",\"Missing\",\"Missing\",\"Missing\",\"Missing\",\"Missing\"],[\"Router: 69.16.44.1\",\"Router: 198.124.81.4\",\"Router: 134.55.56.120\",\"Router: 134.55.57.40\",\"Router: 134.55.57.35\",\"Router: 134.55.56.96\",\"Router: 134.55.57.203\",\"Router: 134.55.57.22\",\"Router: 198.124.80.37\",\"Router: 198.124.80.38\",\"Router: 205.189.32.122\",\"Router: 205.189.32.123\",\"Router: unknown\",\"Router: unknown\",\"Router: unknown\",\"Router: unknown\",\"Router: unknown\",\"Router: unknown\",\"Router: unknown\",\"Router: 206.12.9.1\"]],\"x\":[1,2,3,4,5,6,7,8,9,10,11,12,13,14,15,16,17,18,19,20],\"xgap\":1,\"y\":[\"12307ad6f1222a2ab1b39800247496ed7fd40dcc\",\"12f0ac4b85cb9a7f781ccdb753e94c8f72497ee6\",\"1f41a5e28ed1a196e52c8b2e582a0f9c1ccae646\",\"64e05ecb137bfcd8be22efe26392cf2654a0aedb\",\"65cf3aaee69bfd9e309842b7bd99c26ff4b7d979\",\"7ff85ff0a8daea3104c0215a9f75b1c400623e21\"],\"ygap\":1,\"z\":[[0,1,2,3,4,5,6,7,8,9,10,11,12,13,-1,-1,-1,-1,-1,-1],[0,1,12,3,4,5,6,7,8,9,10,11,13,-1,-1,-1,-1,-1,-1,-1],[0,1,2,3,4,5,6,7,8,9,10,11,12,12,12,13,-1,-1,-1,-1],[0,1,2,3,4,5,6,7,8,9,12,11,-1,-1,-1,-1,-1,-1,-1,-1],[0,1,2,3,4,5,6,7,8,9,10,11,13,-1,-1,-1,-1,-1,-1,-1],[0,1,2,3,4,5,6,7,8,9,10,11,12,12,12,12,12,12,12,13]],\"zmax\":13,\"zmin\":-1,\"type\":\"heatmap\"}],                        {\"template\":{\"data\":{\"histogram2dcontour\":[{\"type\":\"histogram2dcontour\",\"colorbar\":{\"outlinewidth\":0,\"ticks\":\"\"},\"colorscale\":[[0.0,\"#0d0887\"],[0.1111111111111111,\"#46039f\"],[0.2222222222222222,\"#7201a8\"],[0.3333333333333333,\"#9c179e\"],[0.4444444444444444,\"#bd3786\"],[0.5555555555555556,\"#d8576b\"],[0.6666666666666666,\"#ed7953\"],[0.7777777777777778,\"#fb9f3a\"],[0.8888888888888888,\"#fdca26\"],[1.0,\"#f0f921\"]]}],\"choropleth\":[{\"type\":\"choropleth\",\"colorbar\":{\"outlinewidth\":0,\"ticks\":\"\"}}],\"histogram2d\":[{\"type\":\"histogram2d\",\"colorbar\":{\"outlinewidth\":0,\"ticks\":\"\"},\"colorscale\":[[0.0,\"#0d0887\"],[0.1111111111111111,\"#46039f\"],[0.2222222222222222,\"#7201a8\"],[0.3333333333333333,\"#9c179e\"],[0.4444444444444444,\"#bd3786\"],[0.5555555555555556,\"#d8576b\"],[0.6666666666666666,\"#ed7953\"],[0.7777777777777778,\"#fb9f3a\"],[0.8888888888888888,\"#fdca26\"],[1.0,\"#f0f921\"]]}],\"heatmap\":[{\"type\":\"heatmap\",\"colorbar\":{\"outlinewidth\":0,\"ticks\":\"\"},\"colorscale\":[[0.0,\"#0d0887\"],[0.1111111111111111,\"#46039f\"],[0.2222222222222222,\"#7201a8\"],[0.3333333333333333,\"#9c179e\"],[0.4444444444444444,\"#bd3786\"],[0.5555555555555556,\"#d8576b\"],[0.6666666666666666,\"#ed7953\"],[0.7777777777777778,\"#fb9f3a\"],[0.8888888888888888,\"#fdca26\"],[1.0,\"#f0f921\"]]}],\"heatmapgl\":[{\"type\":\"heatmapgl\",\"colorbar\":{\"outlinewidth\":0,\"ticks\":\"\"},\"colorscale\":[[0.0,\"#0d0887\"],[0.1111111111111111,\"#46039f\"],[0.2222222222222222,\"#7201a8\"],[0.3333333333333333,\"#9c179e\"],[0.4444444444444444,\"#bd3786\"],[0.5555555555555556,\"#d8576b\"],[0.6666666666666666,\"#ed7953\"],[0.7777777777777778,\"#fb9f3a\"],[0.8888888888888888,\"#fdca26\"],[1.0,\"#f0f921\"]]}],\"contourcarpet\":[{\"type\":\"contourcarpet\",\"colorbar\":{\"outlinewidth\":0,\"ticks\":\"\"}}],\"contour\":[{\"type\":\"contour\",\"colorbar\":{\"outlinewidth\":0,\"ticks\":\"\"},\"colorscale\":[[0.0,\"#0d0887\"],[0.1111111111111111,\"#46039f\"],[0.2222222222222222,\"#7201a8\"],[0.3333333333333333,\"#9c179e\"],[0.4444444444444444,\"#bd3786\"],[0.5555555555555556,\"#d8576b\"],[0.6666666666666666,\"#ed7953\"],[0.7777777777777778,\"#fb9f3a\"],[0.8888888888888888,\"#fdca26\"],[1.0,\"#f0f921\"]]}],\"surface\":[{\"type\":\"surface\",\"colorbar\":{\"outlinewidth\":0,\"ticks\":\"\"},\"colorscale\":[[0.0,\"#0d0887\"],[0.1111111111111111,\"#46039f\"],[0.2222222222222222,\"#7201a8\"],[0.3333333333333333,\"#9c179e\"],[0.4444444444444444,\"#bd3786\"],[0.5555555555555556,\"#d8576b\"],[0.6666666666666666,\"#ed7953\"],[0.7777777777777778,\"#fb9f3a\"],[0.8888888888888888,\"#fdca26\"],[1.0,\"#f0f921\"]]}],\"mesh3d\":[{\"type\":\"mesh3d\",\"colorbar\":{\"outlinewidth\":0,\"ticks\":\"\"}}],\"scatter\":[{\"fillpattern\":{\"fillmode\":\"overlay\",\"size\":10,\"solidity\":0.2},\"type\":\"scatter\"}],\"parcoords\":[{\"type\":\"parcoords\",\"line\":{\"colorbar\":{\"outlinewidth\":0,\"ticks\":\"\"}}}],\"scatterpolargl\":[{\"type\":\"scatterpolargl\",\"marker\":{\"colorbar\":{\"outlinewidth\":0,\"ticks\":\"\"}}}],\"bar\":[{\"error_x\":{\"color\":\"#2a3f5f\"},\"error_y\":{\"color\":\"#2a3f5f\"},\"marker\":{\"line\":{\"color\":\"#E5ECF6\",\"width\":0.5},\"pattern\":{\"fillmode\":\"overlay\",\"size\":10,\"solidity\":0.2}},\"type\":\"bar\"}],\"scattergeo\":[{\"type\":\"scattergeo\",\"marker\":{\"colorbar\":{\"outlinewidth\":0,\"ticks\":\"\"}}}],\"scatterpolar\":[{\"type\":\"scatterpolar\",\"marker\":{\"colorbar\":{\"outlinewidth\":0,\"ticks\":\"\"}}}],\"histogram\":[{\"marker\":{\"pattern\":{\"fillmode\":\"overlay\",\"size\":10,\"solidity\":0.2}},\"type\":\"histogram\"}],\"scattergl\":[{\"type\":\"scattergl\",\"marker\":{\"colorbar\":{\"outlinewidth\":0,\"ticks\":\"\"}}}],\"scatter3d\":[{\"type\":\"scatter3d\",\"line\":{\"colorbar\":{\"outlinewidth\":0,\"ticks\":\"\"}},\"marker\":{\"colorbar\":{\"outlinewidth\":0,\"ticks\":\"\"}}}],\"scattermapbox\":[{\"type\":\"scattermapbox\",\"marker\":{\"colorbar\":{\"outlinewidth\":0,\"ticks\":\"\"}}}],\"scatterternary\":[{\"type\":\"scatterternary\",\"marker\":{\"colorbar\":{\"outlinewidth\":0,\"ticks\":\"\"}}}],\"scattercarpet\":[{\"type\":\"scattercarpet\",\"marker\":{\"colorbar\":{\"outlinewidth\":0,\"ticks\":\"\"}}}],\"carpet\":[{\"aaxis\":{\"endlinecolor\":\"#2a3f5f\",\"gridcolor\":\"white\",\"linecolor\":\"white\",\"minorgridcolor\":\"white\",\"startlinecolor\":\"#2a3f5f\"},\"baxis\":{\"endlinecolor\":\"#2a3f5f\",\"gridcolor\":\"white\",\"linecolor\":\"white\",\"minorgridcolor\":\"white\",\"startlinecolor\":\"#2a3f5f\"},\"type\":\"carpet\"}],\"table\":[{\"cells\":{\"fill\":{\"color\":\"#EBF0F8\"},\"line\":{\"color\":\"white\"}},\"header\":{\"fill\":{\"color\":\"#C8D4E3\"},\"line\":{\"color\":\"white\"}},\"type\":\"table\"}],\"barpolar\":[{\"marker\":{\"line\":{\"color\":\"#E5ECF6\",\"width\":0.5},\"pattern\":{\"fillmode\":\"overlay\",\"size\":10,\"solidity\":0.2}},\"type\":\"barpolar\"}],\"pie\":[{\"automargin\":true,\"type\":\"pie\"}]},\"layout\":{\"autotypenumbers\":\"strict\",\"colorway\":[\"#636efa\",\"#EF553B\",\"#00cc96\",\"#ab63fa\",\"#FFA15A\",\"#19d3f3\",\"#FF6692\",\"#B6E880\",\"#FF97FF\",\"#FECB52\"],\"font\":{\"color\":\"#2a3f5f\"},\"hovermode\":\"closest\",\"hoverlabel\":{\"align\":\"left\"},\"paper_bgcolor\":\"white\",\"plot_bgcolor\":\"#E5ECF6\",\"polar\":{\"bgcolor\":\"#E5ECF6\",\"angularaxis\":{\"gridcolor\":\"white\",\"linecolor\":\"white\",\"ticks\":\"\"},\"radialaxis\":{\"gridcolor\":\"white\",\"linecolor\":\"white\",\"ticks\":\"\"}},\"ternary\":{\"bgcolor\":\"#E5ECF6\",\"aaxis\":{\"gridcolor\":\"white\",\"linecolor\":\"white\",\"ticks\":\"\"},\"baxis\":{\"gridcolor\":\"white\",\"linecolor\":\"white\",\"ticks\":\"\"},\"caxis\":{\"gridcolor\":\"white\",\"linecolor\":\"white\",\"ticks\":\"\"}},\"coloraxis\":{\"colorbar\":{\"outlinewidth\":0,\"ticks\":\"\"}},\"colorscale\":{\"sequential\":[[0.0,\"#0d0887\"],[0.1111111111111111,\"#46039f\"],[0.2222222222222222,\"#7201a8\"],[0.3333333333333333,\"#9c179e\"],[0.4444444444444444,\"#bd3786\"],[0.5555555555555556,\"#d8576b\"],[0.6666666666666666,\"#ed7953\"],[0.7777777777777778,\"#fb9f3a\"],[0.8888888888888888,\"#fdca26\"],[1.0,\"#f0f921\"]],\"sequentialminus\":[[0.0,\"#0d0887\"],[0.1111111111111111,\"#46039f\"],[0.2222222222222222,\"#7201a8\"],[0.3333333333333333,\"#9c179e\"],[0.4444444444444444,\"#bd3786\"],[0.5555555555555556,\"#d8576b\"],[0.6666666666666666,\"#ed7953\"],[0.7777777777777778,\"#fb9f3a\"],[0.8888888888888888,\"#fdca26\"],[1.0,\"#f0f921\"]],\"diverging\":[[0,\"#8e0152\"],[0.1,\"#c51b7d\"],[0.2,\"#de77ae\"],[0.3,\"#f1b6da\"],[0.4,\"#fde0ef\"],[0.5,\"#f7f7f7\"],[0.6,\"#e6f5d0\"],[0.7,\"#b8e186\"],[0.8,\"#7fbc41\"],[0.9,\"#4d9221\"],[1,\"#276419\"]]},\"xaxis\":{\"gridcolor\":\"white\",\"linecolor\":\"white\",\"ticks\":\"\",\"title\":{\"standoff\":15},\"zerolinecolor\":\"white\",\"automargin\":true,\"zerolinewidth\":2},\"yaxis\":{\"gridcolor\":\"white\",\"linecolor\":\"white\",\"ticks\":\"\",\"title\":{\"standoff\":15},\"zerolinecolor\":\"white\",\"automargin\":true,\"zerolinewidth\":2},\"scene\":{\"xaxis\":{\"backgroundcolor\":\"#E5ECF6\",\"gridcolor\":\"white\",\"linecolor\":\"white\",\"showbackground\":true,\"ticks\":\"\",\"zerolinecolor\":\"white\",\"gridwidth\":2},\"yaxis\":{\"backgroundcolor\":\"#E5ECF6\",\"gridcolor\":\"white\",\"linecolor\":\"white\",\"showbackground\":true,\"ticks\":\"\",\"zerolinecolor\":\"white\",\"gridwidth\":2},\"zaxis\":{\"backgroundcolor\":\"#E5ECF6\",\"gridcolor\":\"white\",\"linecolor\":\"white\",\"showbackground\":true,\"ticks\":\"\",\"zerolinecolor\":\"white\",\"gridwidth\":2}},\"shapedefaults\":{\"line\":{\"color\":\"#2a3f5f\"}},\"annotationdefaults\":{\"arrowcolor\":\"#2a3f5f\",\"arrowhead\":0,\"arrowwidth\":1},\"geo\":{\"bgcolor\":\"white\",\"landcolor\":\"#E5ECF6\",\"subunitcolor\":\"white\",\"showland\":true,\"showlakes\":true,\"lakecolor\":\"white\"},\"title\":{\"x\":0.05},\"mapbox\":{\"style\":\"light\"}}},\"title\":{\"text\":\"Path signature between NET2 and TRIUMF-LCG2\"},\"xaxis\":{\"title\":{\"text\":\"TTL\"}},\"yaxis\":{\"title\":{\"text\":\"Path Identifier (ttls-hops_hash)\"}},\"margin\":{\"r\":250},\"annotations\":[{\"showarrow\":false,\"text\":\"True\",\"x\":1.05,\"xanchor\":\"left\",\"xref\":\"paper\",\"y\":0,\"yref\":\"y\"},{\"showarrow\":false,\"text\":\"True\",\"x\":1.05,\"xanchor\":\"left\",\"xref\":\"paper\",\"y\":1,\"yref\":\"y\"},{\"showarrow\":false,\"text\":\"True\",\"x\":1.05,\"xanchor\":\"left\",\"xref\":\"paper\",\"y\":2,\"yref\":\"y\"},{\"showarrow\":false,\"text\":\"True\",\"x\":1.05,\"xanchor\":\"left\",\"xref\":\"paper\",\"y\":3,\"yref\":\"y\"},{\"showarrow\":false,\"text\":\"False\",\"x\":1.05,\"xanchor\":\"left\",\"xref\":\"paper\",\"y\":4,\"yref\":\"y\"},{\"showarrow\":false,\"text\":\"True\",\"x\":1.05,\"xanchor\":\"left\",\"xref\":\"paper\",\"y\":5,\"yref\":\"y\"},{\"font\":{\"color\":\"black\",\"size\":12},\"showarrow\":false,\"text\":\"Destination Reached\",\"x\":1.02,\"xanchor\":\"left\",\"xref\":\"x domain\",\"y\":1.1,\"yref\":\"paper\"}],\"height\":600,\"width\":1400},                        {\"responsive\": true}                    ).then(function(){\n",
       "                            \n",
       "var gd = document.getElementById('32aedfb2-52d4-4659-8e2d-541d139f193d');\n",
       "var x = new MutationObserver(function (mutations, observer) {{\n",
       "        var display = window.getComputedStyle(gd).display;\n",
       "        if (!display || display === 'none') {{\n",
       "            console.log([gd, 'removed!']);\n",
       "            Plotly.purge(gd);\n",
       "            observer.disconnect();\n",
       "        }}\n",
       "}});\n",
       "\n",
       "// Listen for the removal of the full notebook cells\n",
       "var notebookContainer = gd.closest('#notebook-container');\n",
       "if (notebookContainer) {{\n",
       "    x.observe(notebookContainer, {childList: true});\n",
       "}}\n",
       "\n",
       "// Listen for the clearing of the current output cell\n",
       "var outputEl = gd.closest('.output');\n",
       "if (outputEl) {{\n",
       "    x.observe(outputEl, {childList: true});\n",
       "}}\n",
       "\n",
       "                        })                };                });            </script>        </div>"
      ]
     },
     "metadata": {},
     "output_type": "display_data"
    }
   ],
   "source": [
    "src, dest = filled_ipv4[filled_ipv4['router']=='unknown'][['src_site','dest_site']].drop_duplicates().sample(1).values.tolist()[0]\n",
    "generate_plotly_heatmap_with_hover(filled_ipv4,  src, dest)"
   ]
  },
  {
   "cell_type": "code",
   "execution_count": null,
   "id": "db8c1526-9fef-4509-856b-982d129b328a",
   "metadata": {},
   "outputs": [],
   "source": []
  }
 ],
 "metadata": {
  "kernelspec": {
   "display_name": "Python 3 (ipykernel)",
   "language": "python",
   "name": "python3"
  },
  "language_info": {
   "codemirror_mode": {
    "name": "ipython",
    "version": 3
   },
   "file_extension": ".py",
   "mimetype": "text/x-python",
   "name": "python",
   "nbconvert_exporter": "python",
   "pygments_lexer": "ipython3",
   "version": "3.8.10"
  }
 },
 "nbformat": 4,
 "nbformat_minor": 5
}
