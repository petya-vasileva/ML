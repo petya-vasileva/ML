{
 "cells": [
  {
   "cell_type": "markdown",
   "id": "29661e70-daa2-4dec-b033-6cdb00f9db53",
   "metadata": {},
   "source": [
    "## Sequence Prediction and Topology Imputation using Transformer Models\n",
    "\n",
    "This notebook presents a comprehensive approach to building, training, and evaluating a Transformer-based model designed to predict the next node in a sequence of network nodes. The sequences represent paths in a network, and the nodes are routers (from a traceroute path) identified by unique IDs.\n",
    "\n",
    "The primary goal is to reconstruct the network topology by imputing missing or unknown nodes based on the model's predictions. By accurately predicting these nodes, we aim to enhance the representation of the network's structure, leading to improved understanding and builing the foundations for more complex models and in-depth analysis of other network metrics.\n",
    "\n",
    "The first version of the model does not let UNK nodes to be set as target values. Such aaproach works generally, but does not cover corner cases such as constantly missing nodes and a sequence of missing nodes. Next version will attempt to include those as well.\n",
    "\n",
    "\n",
    "\n",
    "\n",
    "\n",
    "\n",
    "\n",
    "\n"
   ]
  },
  {
   "cell_type": "markdown",
   "id": "1fed0560-67d2-46b7-8d11-d384362461d4",
   "metadata": {},
   "source": [
    " "
   ]
  },
  {
   "cell_type": "markdown",
   "id": "fd9ef78e-23cf-490b-b612-7e623a917859",
   "metadata": {},
   "source": [
    " "
   ]
  },
  {
   "cell_type": "markdown",
   "id": "f70ac87c-2a0d-4432-a264-bd551880d16c",
   "metadata": {},
   "source": [
    "First - load the dataset"
   ]
  },
  {
   "cell_type": "code",
   "execution_count": 1,
   "id": "e80e014a-9515-42b7-9c9f-992932230533",
   "metadata": {},
   "outputs": [
    {
     "name": "stdout",
     "output_type": "stream",
     "text": [
      "Success\n"
     ]
    },
    {
     "data": {
      "text/html": [
       "<div>\n",
       "<style scoped>\n",
       "    .dataframe tbody tr th:only-of-type {\n",
       "        vertical-align: middle;\n",
       "    }\n",
       "\n",
       "    .dataframe tbody tr th {\n",
       "        vertical-align: top;\n",
       "    }\n",
       "\n",
       "    .dataframe thead th {\n",
       "        text-align: right;\n",
       "    }\n",
       "</style>\n",
       "<table border=\"1\" class=\"dataframe\">\n",
       "  <thead>\n",
       "    <tr style=\"text-align: right;\">\n",
       "      <th></th>\n",
       "      <th>traceroute_ts</th>\n",
       "      <th>throughput_ts</th>\n",
       "      <th>ttls-hops_hash</th>\n",
       "      <th>src</th>\n",
       "      <th>dest</th>\n",
       "      <th>throughput_Mb</th>\n",
       "      <th>path_complete</th>\n",
       "      <th>destination_reached</th>\n",
       "      <th>route-sha1</th>\n",
       "      <th>ipv6</th>\n",
       "      <th>...</th>\n",
       "      <th>ttl</th>\n",
       "      <th>asn</th>\n",
       "      <th>rtt</th>\n",
       "      <th>src_site</th>\n",
       "      <th>dest_site</th>\n",
       "      <th>similarity_score</th>\n",
       "      <th>stable</th>\n",
       "      <th>timestamp</th>\n",
       "      <th>private</th>\n",
       "      <th>rounded_throughput_ts</th>\n",
       "    </tr>\n",
       "  </thead>\n",
       "  <tbody>\n",
       "    <tr>\n",
       "      <th>0</th>\n",
       "      <td>2024-09-08T22:29:11.000Z</td>\n",
       "      <td>2024-09-08 22:36:31+00:00</td>\n",
       "      <td>8fa97eff1018acdbc0e60d479d6ae13ddc8682a0</td>\n",
       "      <td>159.93.229.150</td>\n",
       "      <td>109.105.124.88</td>\n",
       "      <td>3420</td>\n",
       "      <td>1</td>\n",
       "      <td>1</td>\n",
       "      <td>be0962b8fcd2f6a3f7a741e0d66847509baf6aaf</td>\n",
       "      <td>False</td>\n",
       "      <td>...</td>\n",
       "      <td>1</td>\n",
       "      <td>2875</td>\n",
       "      <td>0.5</td>\n",
       "      <td>JINR-T1-LHCOPNE</td>\n",
       "      <td>NDGF-T1</td>\n",
       "      <td>1.0</td>\n",
       "      <td>1</td>\n",
       "      <td>1725834991</td>\n",
       "      <td>0</td>\n",
       "      <td>2024-09-08 22:00:00+00:00</td>\n",
       "    </tr>\n",
       "    <tr>\n",
       "      <th>1</th>\n",
       "      <td>2024-09-08T22:29:11.000Z</td>\n",
       "      <td>2024-09-08 22:36:31+00:00</td>\n",
       "      <td>8fa97eff1018acdbc0e60d479d6ae13ddc8682a0</td>\n",
       "      <td>159.93.229.150</td>\n",
       "      <td>109.105.124.88</td>\n",
       "      <td>3420</td>\n",
       "      <td>1</td>\n",
       "      <td>1</td>\n",
       "      <td>be0962b8fcd2f6a3f7a741e0d66847509baf6aaf</td>\n",
       "      <td>False</td>\n",
       "      <td>...</td>\n",
       "      <td>2</td>\n",
       "      <td>0</td>\n",
       "      <td>0.7</td>\n",
       "      <td>JINR-T1-LHCOPNE</td>\n",
       "      <td>NDGF-T1</td>\n",
       "      <td>1.0</td>\n",
       "      <td>1</td>\n",
       "      <td>1725834991</td>\n",
       "      <td>1</td>\n",
       "      <td>2024-09-08 22:00:00+00:00</td>\n",
       "    </tr>\n",
       "    <tr>\n",
       "      <th>2</th>\n",
       "      <td>2024-09-08T22:29:11.000Z</td>\n",
       "      <td>2024-09-08 22:36:31+00:00</td>\n",
       "      <td>8fa97eff1018acdbc0e60d479d6ae13ddc8682a0</td>\n",
       "      <td>159.93.229.150</td>\n",
       "      <td>109.105.124.88</td>\n",
       "      <td>3420</td>\n",
       "      <td>1</td>\n",
       "      <td>1</td>\n",
       "      <td>be0962b8fcd2f6a3f7a741e0d66847509baf6aaf</td>\n",
       "      <td>False</td>\n",
       "      <td>...</td>\n",
       "      <td>3</td>\n",
       "      <td>513</td>\n",
       "      <td>0.2</td>\n",
       "      <td>JINR-T1-LHCOPNE</td>\n",
       "      <td>NDGF-T1</td>\n",
       "      <td>1.0</td>\n",
       "      <td>1</td>\n",
       "      <td>1725834991</td>\n",
       "      <td>0</td>\n",
       "      <td>2024-09-08 22:00:00+00:00</td>\n",
       "    </tr>\n",
       "    <tr>\n",
       "      <th>3</th>\n",
       "      <td>2024-09-08T22:29:11.000Z</td>\n",
       "      <td>2024-09-08 22:36:31+00:00</td>\n",
       "      <td>8fa97eff1018acdbc0e60d479d6ae13ddc8682a0</td>\n",
       "      <td>159.93.229.150</td>\n",
       "      <td>109.105.124.88</td>\n",
       "      <td>3420</td>\n",
       "      <td>1</td>\n",
       "      <td>1</td>\n",
       "      <td>be0962b8fcd2f6a3f7a741e0d66847509baf6aaf</td>\n",
       "      <td>False</td>\n",
       "      <td>...</td>\n",
       "      <td>4</td>\n",
       "      <td>513</td>\n",
       "      <td>46.6</td>\n",
       "      <td>JINR-T1-LHCOPNE</td>\n",
       "      <td>NDGF-T1</td>\n",
       "      <td>1.0</td>\n",
       "      <td>1</td>\n",
       "      <td>1725834991</td>\n",
       "      <td>0</td>\n",
       "      <td>2024-09-08 22:00:00+00:00</td>\n",
       "    </tr>\n",
       "    <tr>\n",
       "      <th>4</th>\n",
       "      <td>2024-09-08T22:29:11.000Z</td>\n",
       "      <td>2024-09-08 22:36:31+00:00</td>\n",
       "      <td>8fa97eff1018acdbc0e60d479d6ae13ddc8682a0</td>\n",
       "      <td>159.93.229.150</td>\n",
       "      <td>109.105.124.88</td>\n",
       "      <td>3420</td>\n",
       "      <td>1</td>\n",
       "      <td>1</td>\n",
       "      <td>be0962b8fcd2f6a3f7a741e0d66847509baf6aaf</td>\n",
       "      <td>False</td>\n",
       "      <td>...</td>\n",
       "      <td>5</td>\n",
       "      <td>513</td>\n",
       "      <td>46.7</td>\n",
       "      <td>JINR-T1-LHCOPNE</td>\n",
       "      <td>NDGF-T1</td>\n",
       "      <td>1.0</td>\n",
       "      <td>1</td>\n",
       "      <td>1725834991</td>\n",
       "      <td>0</td>\n",
       "      <td>2024-09-08 22:00:00+00:00</td>\n",
       "    </tr>\n",
       "  </tbody>\n",
       "</table>\n",
       "<p>5 rows × 23 columns</p>\n",
       "</div>"
      ],
      "text/plain": [
       "              traceroute_ts             throughput_ts  \\\n",
       "0  2024-09-08T22:29:11.000Z 2024-09-08 22:36:31+00:00   \n",
       "1  2024-09-08T22:29:11.000Z 2024-09-08 22:36:31+00:00   \n",
       "2  2024-09-08T22:29:11.000Z 2024-09-08 22:36:31+00:00   \n",
       "3  2024-09-08T22:29:11.000Z 2024-09-08 22:36:31+00:00   \n",
       "4  2024-09-08T22:29:11.000Z 2024-09-08 22:36:31+00:00   \n",
       "\n",
       "                             ttls-hops_hash             src            dest  \\\n",
       "0  8fa97eff1018acdbc0e60d479d6ae13ddc8682a0  159.93.229.150  109.105.124.88   \n",
       "1  8fa97eff1018acdbc0e60d479d6ae13ddc8682a0  159.93.229.150  109.105.124.88   \n",
       "2  8fa97eff1018acdbc0e60d479d6ae13ddc8682a0  159.93.229.150  109.105.124.88   \n",
       "3  8fa97eff1018acdbc0e60d479d6ae13ddc8682a0  159.93.229.150  109.105.124.88   \n",
       "4  8fa97eff1018acdbc0e60d479d6ae13ddc8682a0  159.93.229.150  109.105.124.88   \n",
       "\n",
       "   throughput_Mb  path_complete  destination_reached  \\\n",
       "0           3420              1                    1   \n",
       "1           3420              1                    1   \n",
       "2           3420              1                    1   \n",
       "3           3420              1                    1   \n",
       "4           3420              1                    1   \n",
       "\n",
       "                                 route-sha1   ipv6  ... ttl   asn   rtt  \\\n",
       "0  be0962b8fcd2f6a3f7a741e0d66847509baf6aaf  False  ...   1  2875   0.5   \n",
       "1  be0962b8fcd2f6a3f7a741e0d66847509baf6aaf  False  ...   2     0   0.7   \n",
       "2  be0962b8fcd2f6a3f7a741e0d66847509baf6aaf  False  ...   3   513   0.2   \n",
       "3  be0962b8fcd2f6a3f7a741e0d66847509baf6aaf  False  ...   4   513  46.6   \n",
       "4  be0962b8fcd2f6a3f7a741e0d66847509baf6aaf  False  ...   5   513  46.7   \n",
       "\n",
       "          src_site  dest_site  similarity_score stable   timestamp  private  \\\n",
       "0  JINR-T1-LHCOPNE    NDGF-T1               1.0      1  1725834991        0   \n",
       "1  JINR-T1-LHCOPNE    NDGF-T1               1.0      1  1725834991        1   \n",
       "2  JINR-T1-LHCOPNE    NDGF-T1               1.0      1  1725834991        0   \n",
       "3  JINR-T1-LHCOPNE    NDGF-T1               1.0      1  1725834991        0   \n",
       "4  JINR-T1-LHCOPNE    NDGF-T1               1.0      1  1725834991        0   \n",
       "\n",
       "      rounded_throughput_ts  \n",
       "0 2024-09-08 22:00:00+00:00  \n",
       "1 2024-09-08 22:00:00+00:00  \n",
       "2 2024-09-08 22:00:00+00:00  \n",
       "3 2024-09-08 22:00:00+00:00  \n",
       "4 2024-09-08 22:00:00+00:00  \n",
       "\n",
       "[5 rows x 23 columns]"
      ]
     },
     "execution_count": 1,
     "metadata": {},
     "output_type": "execute_result"
    }
   ],
   "source": [
    "from collector import DataCollector\n",
    "\n",
    "# save the dataset to a file\n",
    "# period = ['2024-09-07T06:22:19.000Z', '2024-09-30T06:22:19.000Z']\n",
    "# collector = DataCollector(period=period, ip_version='ipv4', save_to_file=True)\n",
    "# collector.run()\n",
    "\n",
    "# оr read from а saved file\n",
    "sample_ipv4 = DataCollector(ip_version='ipv4').run()\n",
    "sample_ipv4.head()"
   ]
  },
  {
   "cell_type": "markdown",
   "id": "6aa636da-8b7d-403d-bc7d-a47727acee57",
   "metadata": {},
   "source": [
    " "
   ]
  },
  {
   "cell_type": "code",
   "execution_count": 2,
   "id": "88fdf78f-77e4-4bbf-81db-9bf001ba327b",
   "metadata": {},
   "outputs": [
    {
     "name": "stdout",
     "output_type": "stream",
     "text": [
      "CUDA is available. GPU count: 1\n",
      "Current GPU device: NVIDIA GeForce GTX 1080 Ti\n"
     ]
    }
   ],
   "source": [
    "import torch\n",
    "\n",
    "if torch.cuda.is_available():\n",
    "    print(f\"CUDA is available. GPU count: {torch.cuda.device_count()}\")\n",
    "    print(f\"Current GPU device: {torch.cuda.get_device_name(0)}\")\n",
    "else:\n",
    "    print(\"CUDA is not available. No GPU detected.\")\n"
   ]
  },
  {
   "cell_type": "code",
   "execution_count": 3,
   "id": "ede7691b-9967-4301-844e-c848cae7ddfa",
   "metadata": {},
   "outputs": [
    {
     "data": {
      "text/plain": [
       "(Timestamp('2024-09-07 06:27:10+0000', tz='UTC'),\n",
       " Timestamp('2024-09-29 22:59:33+0000', tz='UTC'))"
      ]
     },
     "execution_count": 3,
     "metadata": {},
     "output_type": "execute_result"
    }
   ],
   "source": [
    "sample_ipv4.throughput_ts.min(), sample_ipv4.throughput_ts.max()"
   ]
  },
  {
   "cell_type": "markdown",
   "id": "eae86563-6162-4d21-8c62-7ab8cf0482da",
   "metadata": {},
   "source": [
    "Use Dask to insert the missing positions by finding the omitted TTLs"
   ]
  },
  {
   "cell_type": "code",
   "execution_count": 4,
   "id": "a6478eb4-dda7-43ff-965b-88a86124240d",
   "metadata": {},
   "outputs": [
    {
     "name": "stderr",
     "output_type": "stream",
     "text": [
      "/usr/local/lib/python3.8/dist-packages/distributed/client.py:3108: UserWarning: Sending large graph of size 58.73 MiB.\n",
      "This may cause some slowdown.\n",
      "Consider scattering data ahead of time and using futures.\n",
      "  warnings.warn(\n"
     ]
    }
   ],
   "source": [
    "import pandas as pd\n",
    "import dask.dataframe as dd\n",
    "from dask.distributed import Client\n",
    "\n",
    "# Connect to the running Dask cluster using the scheduler address\n",
    "client = Client('tcp://127.0.0.1:40473')\n",
    "\n",
    "df = sample_ipv4.copy()\n",
    "df.sort_values(by=['traceroute_ts', 'ttls-hops_hash', 'ttl'], inplace=True)\n",
    "df['anonymous'] = 0\n",
    "df['max_ttl'] = df.groupby('ttls-hops_hash')['ttl'].transform(max)\n",
    "ddf = dd.from_pandas(df, npartitions=8)\n",
    "\n",
    "\n",
    "# Define the function to fill missing TTLs\n",
    "def fill_missing_ttl(group):\n",
    "    group = group.sort_values(by='ttl')\n",
    "    complete_range = pd.RangeIndex(start=group['ttl'].min(), stop=group['ttl'].max() + 1)\n",
    "\n",
    "    missing_ttl = complete_range.difference(group['ttl'])\n",
    "\n",
    "    rows_to_add = []\n",
    "    for ttl in missing_ttl:\n",
    "        previous_row = group.iloc[0]\n",
    "        new_row = previous_row.copy()\n",
    "        new_row['ttl'] = ttl\n",
    "        new_row['anonymous'] = 1\n",
    "        new_row['router'] = 'unknown'\n",
    "        rows_to_add.append(new_row)\n",
    "\n",
    "    return pd.concat([group, pd.DataFrame(rows_to_add)], ignore_index=True).sort_values(by='ttl')\n",
    "\n",
    "\n",
    "\n",
    "# Grouping and applying the function using Dask's map_partitions\n",
    "# Convert the grouped Dask DataFrame back to pandas for processing\n",
    "def process_partition(partition):\n",
    "    # Group by traceroute_ts and ttls-hops_hash within each partition\n",
    "    return partition.groupby(['traceroute_ts', 'ttls-hops_hash']).apply(fill_missing_ttl)\n",
    "\n",
    "# Use map_partitions to parallelize the function across partitions\n",
    "filled_dask = ddf.map_partitions(process_partition, meta=df)\n",
    "\n",
    "# Convert back to pandas DataFrame if needed\n",
    "filled_ipv4 = filled_dask.compute()\n",
    "filled_ipv4.drop(columns=['traceroute_ts', 'ttls-hops_hash'], inplace=True)\n",
    "filled_ipv4.reset_index(inplace=True)"
   ]
  },
  {
   "cell_type": "markdown",
   "id": "9df0d128-ec7f-4d15-9d74-b9cb9e404946",
   "metadata": {},
   "source": [
    " "
   ]
  },
  {
   "cell_type": "markdown",
   "id": "3bbea6ea-1721-439b-aee1-a20fa53d1029",
   "metadata": {},
   "source": [
    "Next code puts each node into context by taking previous and next node. In the end all nodes have a unique ID depending on where they appear on the network. This is done primarily in order to analyse the unknown nodes"
   ]
  },
  {
   "cell_type": "code",
   "execution_count": 5,
   "id": "4b7ea58b-4c7c-4994-9d3a-43fd226a03c8",
   "metadata": {},
   "outputs": [],
   "source": [
    "# give the routers short IDs for simplicity and easy visualization\n",
    "unique_routers = list(set(list(sample_ipv4['router'].unique()) + list(sample_ipv4['src'].unique()) + list(sample_ipv4['dest'].unique())))\n",
    "router_map = {router: f'r{i+1}' for i, router in enumerate(unique_routers)}\n",
    "filled_ipv4['rid'] = filled_ipv4['router'].map(lambda x: router_map.get(x))\n",
    "\n",
    "\n",
    "filled_ipv4.sort_values(by=['traceroute_ts', 'ttls-hops_hash', 'ttl'], inplace=True)\n",
    "filled_ipv4['prev_router'] = filled_ipv4.groupby(['traceroute_ts', 'ttls-hops_hash'])['rid'].shift(1)\n",
    "filled_ipv4['next_router'] = filled_ipv4.groupby(['traceroute_ts', 'ttls-hops_hash'])['rid'].shift(-1)\n",
    "\n",
    "# # Define a function to apply the conditional logic for setting 'next_router'\n",
    "def set_next_router(row):\n",
    "    if row['ttl'] == row['max_ttl'] and row['destination_reached'] == 1:\n",
    "        return router_map.get(row['dest'])\n",
    "    return row.get('next_router', 'unknown')  # Return existing 'next_router' or 'unknown' if not present\n",
    "\n",
    "filled_ipv4['next_router'] = filled_ipv4.apply(set_next_router, axis=1)\n",
    "\n",
    "filled_ipv4['prev_router'].fillna('unknown', inplace=True)\n",
    "filled_ipv4['rid'].fillna('unknown', inplace=True)\n",
    "filled_ipv4['next_router'].fillna('unknown', inplace=True)\n",
    "filled_ipv4['prev_router'] = filled_ipv4['prev_router'].astype(str)\n",
    "filled_ipv4['next_router'] = filled_ipv4['next_router'].astype(str)\n",
    "\n",
    "filled_ipv4['unique_id'] = filled_ipv4['prev_router'] + '-' + filled_ipv4['rid'] + '-' + filled_ipv4['next_router']\n",
    "\n",
    "filled_ipv4['next'] = filled_ipv4.groupby(['traceroute_ts', 'ttls-hops_hash'])['unique_id'].shift(-1)\n",
    "filled_ipv4['curr'] = filled_ipv4['rid']\n",
    "\n",
    "filled_ipv4.loc[filled_ipv4['anonymous']==1, 'curr'] = filled_ipv4[filled_ipv4['anonymous']==1]['unique_id']\n",
    "\n",
    "# unknown IPs should be considered in a context\n",
    "filled_ipv4['next'] = filled_ipv4.groupby(['traceroute_ts', 'ttls-hops_hash'])['curr'].shift(-1)\n",
    "\n",
    "def set_next_router(row):\n",
    "    # if the last node was reached and the destination was reached, set the next = destination\n",
    "    if row['ttl'] == row['max_ttl'] and row['destination_reached'] == 1:\n",
    "        return router_map.get(row['dest'])\n",
    "    return row.get('next')  # Return existing 'next_router' or 'unknown' if not present\n",
    "\n",
    "filled_ipv4['next'] = filled_ipv4.apply(set_next_router, axis=1)\n",
    "\n",
    "ddf = filled_ipv4[(filled_ipv4['curr'] != 'unknown-unknown-unknown')].copy()\n",
    "\n",
    "# prepare to build the trasition datatset by removing the unknowns and the loops\n",
    "ddf = ddf[(ddf['rid'] != 'unknown') & (ddf['next_router'] != 'unknown')]\n",
    "ddf = ddf[(ddf['rid'] != 'next_router')]\n",
    "\n",
    "\n",
    "# Count occurrences of each transition pair\n",
    "transition_counts = ddf.groupby(['rid', 'next_router']).size().reset_index(name='count')\n",
    "\n",
    "# Calculate the total number of transitions from each router\n",
    "total_transitions = transition_counts.groupby('rid')['count'].sum().reset_index(name='total')\n",
    "\n",
    "# Merge back to calculate probabilities\n",
    "transition_counts = transition_counts.merge(total_transitions, on='rid')\n",
    "transition_counts['probability'] = transition_counts['count'] / transition_counts['total']\n",
    "\n",
    "# Restructure data for easy access (optional)\n",
    "transition_probabilities = transition_counts.pivot(index='rid', columns='next_router', values='probability').fillna(0)"
   ]
  },
  {
   "cell_type": "markdown",
   "id": "e9be8d0d-16da-4633-bd3f-3fba1784307d",
   "metadata": {},
   "source": [
    "Create the sequences by grouping the nodes "
   ]
  },
  {
   "cell_type": "code",
   "execution_count": 6,
   "id": "68bdc11d-69f7-45b5-981f-3d10de5db734",
   "metadata": {},
   "outputs": [
    {
     "name": "stdout",
     "output_type": "stream",
     "text": [
      "Length before: 26993\n"
     ]
    },
    {
     "data": {
      "text/html": [
       "<div>\n",
       "<style scoped>\n",
       "    .dataframe tbody tr th:only-of-type {\n",
       "        vertical-align: middle;\n",
       "    }\n",
       "\n",
       "    .dataframe tbody tr th {\n",
       "        vertical-align: top;\n",
       "    }\n",
       "\n",
       "    .dataframe thead th {\n",
       "        text-align: right;\n",
       "    }\n",
       "</style>\n",
       "<table border=\"1\" class=\"dataframe\">\n",
       "  <thead>\n",
       "    <tr style=\"text-align: right;\">\n",
       "      <th></th>\n",
       "      <th>src_site</th>\n",
       "      <th>dest_site</th>\n",
       "      <th>throughput_ts</th>\n",
       "      <th>ttls-hops_hash</th>\n",
       "      <th>similarity_score</th>\n",
       "      <th>path_complete</th>\n",
       "      <th>curr</th>\n",
       "      <th>ttl</th>\n",
       "      <th>private</th>\n",
       "      <th>anonymous</th>\n",
       "      <th>node_confidence</th>\n",
       "    </tr>\n",
       "  </thead>\n",
       "  <tbody>\n",
       "    <tr>\n",
       "      <th>0</th>\n",
       "      <td>BEIJING-LCG2</td>\n",
       "      <td>BEGRID-ULB-VUB</td>\n",
       "      <td>2024-09-08 02:36:38+00:00</td>\n",
       "      <td>849778294042c57fbc6928e6aa565d534798bd09</td>\n",
       "      <td>1.0</td>\n",
       "      <td>0</td>\n",
       "      <td>[r644, r704, r441, r483, r208, r835, r640, r98...</td>\n",
       "      <td>[1, 2, 3, 4, 5, 6, 7, 8, 9, 10, 11, 12, 13, 14...</td>\n",
       "      <td>[0, 1, 0, 0, 0, 0, 0, 0, 0, 0, 0, 0, 0, 0, 0]</td>\n",
       "      <td>[0, 0, 0, 0, 0, 0, 0, 0, 0, 0, 0, 1, 0, 1, 0]</td>\n",
       "      <td>[1, 1, 1, 1, 1, 1, 1, 1, 1, 1, 1, 0.01, 1, 0.0...</td>\n",
       "    </tr>\n",
       "    <tr>\n",
       "      <th>1</th>\n",
       "      <td>BEIJING-LCG2</td>\n",
       "      <td>BEGRID-ULB-VUB</td>\n",
       "      <td>2024-09-09 20:14:12+00:00</td>\n",
       "      <td>849778294042c57fbc6928e6aa565d534798bd09</td>\n",
       "      <td>1.0</td>\n",
       "      <td>0</td>\n",
       "      <td>[r644, r704, r441, r483, r208, r835, r640, r98...</td>\n",
       "      <td>[1, 2, 3, 4, 5, 6, 7, 8, 9, 10, 11, 12, 13, 14...</td>\n",
       "      <td>[0, 1, 0, 0, 0, 0, 0, 0, 0, 0, 0, 0, 0, 0, 0]</td>\n",
       "      <td>[0, 0, 0, 0, 0, 0, 0, 0, 0, 0, 0, 1, 0, 1, 0]</td>\n",
       "      <td>[1, 1, 1, 1, 1, 1, 1, 1, 1, 1, 1, 0.01, 1, 0.0...</td>\n",
       "    </tr>\n",
       "  </tbody>\n",
       "</table>\n",
       "</div>"
      ],
      "text/plain": [
       "       src_site       dest_site             throughput_ts  \\\n",
       "0  BEIJING-LCG2  BEGRID-ULB-VUB 2024-09-08 02:36:38+00:00   \n",
       "1  BEIJING-LCG2  BEGRID-ULB-VUB 2024-09-09 20:14:12+00:00   \n",
       "\n",
       "                             ttls-hops_hash  similarity_score  path_complete  \\\n",
       "0  849778294042c57fbc6928e6aa565d534798bd09               1.0              0   \n",
       "1  849778294042c57fbc6928e6aa565d534798bd09               1.0              0   \n",
       "\n",
       "                                                curr  \\\n",
       "0  [r644, r704, r441, r483, r208, r835, r640, r98...   \n",
       "1  [r644, r704, r441, r483, r208, r835, r640, r98...   \n",
       "\n",
       "                                                 ttl  \\\n",
       "0  [1, 2, 3, 4, 5, 6, 7, 8, 9, 10, 11, 12, 13, 14...   \n",
       "1  [1, 2, 3, 4, 5, 6, 7, 8, 9, 10, 11, 12, 13, 14...   \n",
       "\n",
       "                                         private  \\\n",
       "0  [0, 1, 0, 0, 0, 0, 0, 0, 0, 0, 0, 0, 0, 0, 0]   \n",
       "1  [0, 1, 0, 0, 0, 0, 0, 0, 0, 0, 0, 0, 0, 0, 0]   \n",
       "\n",
       "                                       anonymous  \\\n",
       "0  [0, 0, 0, 0, 0, 0, 0, 0, 0, 0, 0, 1, 0, 1, 0]   \n",
       "1  [0, 0, 0, 0, 0, 0, 0, 0, 0, 0, 0, 1, 0, 1, 0]   \n",
       "\n",
       "                                     node_confidence  \n",
       "0  [1, 1, 1, 1, 1, 1, 1, 1, 1, 1, 1, 0.01, 1, 0.0...  \n",
       "1  [1, 1, 1, 1, 1, 1, 1, 1, 1, 1, 1, 0.01, 1, 0.0...  "
      ]
     },
     "metadata": {},
     "output_type": "display_data"
    }
   ],
   "source": [
    "filled_ipv4.sort_values(['src', 'dest', 'traceroute_ts', 'ttls-hops_hash', 'ttl'], inplace=True)\n",
    "grouped_paths = filled_ipv4[['src_site', 'dest_site', 'throughput_ts','ttls-hops_hash', 'curr', 'ttl',\n",
    "                             'private', 'anonymous', 'similarity_score', 'path_complete']]\\\n",
    "                            .drop_duplicates()\\\n",
    "                            .groupby(['src_site', 'dest_site', 'throughput_ts','ttls-hops_hash', 'similarity_score', 'path_complete'])[['curr', 'ttl', 'private', 'anonymous']]\\\n",
    "                            .agg(list)\\\n",
    "                            .reset_index()\n",
    "\n",
    "print(f'Length before: {len(grouped_paths)}')\n",
    "grouped_paths['node_confidence']  = grouped_paths['anonymous'].apply(lambda l: [0.01 if a == 1 else 1 for a in l])\n",
    "display(grouped_paths.head(2))\n",
    "df = grouped_paths.copy()\n",
    "# df = grouped_paths.drop_duplicates(subset=['ttls-hops_hash']).copy()"
   ]
  },
  {
   "cell_type": "markdown",
   "id": "bcaabd7f-6fb4-46cb-b9e7-f661d88d81bf",
   "metadata": {},
   "source": [
    " "
   ]
  },
  {
   "cell_type": "code",
   "execution_count": 7,
   "id": "a384ead3-de4a-4176-9d70-16f8a3015ad1",
   "metadata": {},
   "outputs": [
    {
     "data": {
      "text/html": [
       "<div>\n",
       "<style scoped>\n",
       "    .dataframe tbody tr th:only-of-type {\n",
       "        vertical-align: middle;\n",
       "    }\n",
       "\n",
       "    .dataframe tbody tr th {\n",
       "        vertical-align: top;\n",
       "    }\n",
       "\n",
       "    .dataframe thead th {\n",
       "        text-align: right;\n",
       "    }\n",
       "</style>\n",
       "<table border=\"1\" class=\"dataframe\">\n",
       "  <thead>\n",
       "    <tr style=\"text-align: right;\">\n",
       "      <th></th>\n",
       "      <th>curr</th>\n",
       "      <th>tokenized_curr</th>\n",
       "    </tr>\n",
       "  </thead>\n",
       "  <tbody>\n",
       "    <tr>\n",
       "      <th>0</th>\n",
       "      <td>[r644, r704, r441, r483, r208, r835, r640, r98...</td>\n",
       "      <td>[1512, 1611, 1158, 1233, 731, 1831, 1505, 2106...</td>\n",
       "    </tr>\n",
       "    <tr>\n",
       "      <th>1</th>\n",
       "      <td>[r644, r704, r441, r483, r208, r835, r640, r98...</td>\n",
       "      <td>[1512, 1611, 1158, 1233, 731, 1831, 1505, 2106...</td>\n",
       "    </tr>\n",
       "    <tr>\n",
       "      <th>2</th>\n",
       "      <td>[r644, r704, r441, r483, r208, r835, r640, r98...</td>\n",
       "      <td>[1512, 1611, 1158, 1233, 731, 1831, 1505, 2106...</td>\n",
       "    </tr>\n",
       "    <tr>\n",
       "      <th>3</th>\n",
       "      <td>[r644, r704, r441, r483, r208, r835, r640, r98...</td>\n",
       "      <td>[1512, 1611, 1158, 1233, 731, 1831, 1505, 2106...</td>\n",
       "    </tr>\n",
       "    <tr>\n",
       "      <th>4</th>\n",
       "      <td>[r644, r644-unknown-r441, r441, r483, r208, r8...</td>\n",
       "      <td>[1512, 1514, 1158, 1233, 731, 1831, 1505, 2106...</td>\n",
       "    </tr>\n",
       "  </tbody>\n",
       "</table>\n",
       "</div>"
      ],
      "text/plain": [
       "                                                curr  \\\n",
       "0  [r644, r704, r441, r483, r208, r835, r640, r98...   \n",
       "1  [r644, r704, r441, r483, r208, r835, r640, r98...   \n",
       "2  [r644, r704, r441, r483, r208, r835, r640, r98...   \n",
       "3  [r644, r704, r441, r483, r208, r835, r640, r98...   \n",
       "4  [r644, r644-unknown-r441, r441, r483, r208, r8...   \n",
       "\n",
       "                                      tokenized_curr  \n",
       "0  [1512, 1611, 1158, 1233, 731, 1831, 1505, 2106...  \n",
       "1  [1512, 1611, 1158, 1233, 731, 1831, 1505, 2106...  \n",
       "2  [1512, 1611, 1158, 1233, 731, 1831, 1505, 2106...  \n",
       "3  [1512, 1611, 1158, 1233, 731, 1831, 1505, 2106...  \n",
       "4  [1512, 1514, 1158, 1233, 731, 1831, 1505, 2106...  "
      ]
     },
     "execution_count": 7,
     "metadata": {},
     "output_type": "execute_result"
    }
   ],
   "source": [
    "from sklearn.preprocessing import LabelEncoder\n",
    "\n",
    "def tokenize_nodes(df):\n",
    "    # Flatten the node list to create a vocabulary\n",
    "    all_nodes = [node for sublist in df['curr'] for node in sublist]\n",
    "\n",
    "    le = LabelEncoder()\n",
    "\n",
    "    # Fit the LabelEncoder on all nodes and transform them into tokens\n",
    "    le.fit(all_nodes)\n",
    "    df['tokenized_curr'] = df['curr'].apply(lambda x: le.transform(x))\n",
    "\n",
    "    # Add a padding token at index 0 (optional, LabelEncoder starts at 0 by default)\n",
    "    token_to_node = {index: node for index, node in enumerate(le.classes_)}\n",
    "\n",
    "    return df, le, token_to_node\n",
    "\n",
    "# Tokenize the nodes\n",
    "df, le, token_to_node = tokenize_nodes(df)\n",
    "df[['curr', 'tokenized_curr']].head()\n"
   ]
  },
  {
   "cell_type": "markdown",
   "id": "5e8b2495-96b9-448f-a502-730b88957031",
   "metadata": {},
   "source": [
    " "
   ]
  },
  {
   "cell_type": "code",
   "execution_count": 8,
   "id": "383bd93f-8422-4f51-90b6-60d17ab20842",
   "metadata": {},
   "outputs": [
    {
     "name": "stderr",
     "output_type": "stream",
     "text": [
      "2024-10-02 18:35:16.923181: I tensorflow/core/platform/cpu_feature_guard.cc:182] This TensorFlow binary is optimized to use available CPU instructions in performance-critical operations.\n",
      "To enable the following instructions: AVX2 AVX512F FMA, in other operations, rebuild TensorFlow with the appropriate compiler flags.\n",
      "2024-10-02 18:35:17.706261: W tensorflow/compiler/tf2tensorrt/utils/py_utils.cc:38] TF-TRT Warning: Could not find TensorRT\n"
     ]
    },
    {
     "name": "stdout",
     "output_type": "stream",
     "text": [
      "[{'tokenized_curr': array([1512, 1611, 1158, 1233,  731, 1831, 1505, 2106, 1522, 1843, 1765,\n",
      "       1766,  327,  328,  829]), 'padded_curr': [1512, 1611, 1158, 1233, 731, 1831, 1505, 2106, 1522, 1843, 1765, 1766, 327, 328, 829, 0, 0, 0, 0, 0, 0, 0, 0, 0, 0, 0, 0, 0, 0, 0]}]\n"
     ]
    },
    {
     "data": {
      "text/html": [
       "<div>\n",
       "<style scoped>\n",
       "    .dataframe tbody tr th:only-of-type {\n",
       "        vertical-align: middle;\n",
       "    }\n",
       "\n",
       "    .dataframe tbody tr th {\n",
       "        vertical-align: top;\n",
       "    }\n",
       "\n",
       "    .dataframe thead th {\n",
       "        text-align: right;\n",
       "    }\n",
       "</style>\n",
       "<table border=\"1\" class=\"dataframe\">\n",
       "  <thead>\n",
       "    <tr style=\"text-align: right;\">\n",
       "      <th></th>\n",
       "      <th>tokenized_curr</th>\n",
       "      <th>padded_curr</th>\n",
       "    </tr>\n",
       "  </thead>\n",
       "  <tbody>\n",
       "    <tr>\n",
       "      <th>0</th>\n",
       "      <td>[1512, 1611, 1158, 1233, 731, 1831, 1505, 2106...</td>\n",
       "      <td>[1512, 1611, 1158, 1233, 731, 1831, 1505, 2106...</td>\n",
       "    </tr>\n",
       "    <tr>\n",
       "      <th>1</th>\n",
       "      <td>[1512, 1611, 1158, 1233, 731, 1831, 1505, 2106...</td>\n",
       "      <td>[1512, 1611, 1158, 1233, 731, 1831, 1505, 2106...</td>\n",
       "    </tr>\n",
       "    <tr>\n",
       "      <th>2</th>\n",
       "      <td>[1512, 1611, 1158, 1233, 731, 1831, 1505, 2106...</td>\n",
       "      <td>[1512, 1611, 1158, 1233, 731, 1831, 1505, 2106...</td>\n",
       "    </tr>\n",
       "    <tr>\n",
       "      <th>3</th>\n",
       "      <td>[1512, 1611, 1158, 1233, 731, 1831, 1505, 2106...</td>\n",
       "      <td>[1512, 1611, 1158, 1233, 731, 1831, 1505, 2106...</td>\n",
       "    </tr>\n",
       "    <tr>\n",
       "      <th>4</th>\n",
       "      <td>[1512, 1514, 1158, 1233, 731, 1831, 1505, 2106...</td>\n",
       "      <td>[1512, 1514, 1158, 1233, 731, 1831, 1505, 2106...</td>\n",
       "    </tr>\n",
       "  </tbody>\n",
       "</table>\n",
       "</div>"
      ],
      "text/plain": [
       "                                      tokenized_curr  \\\n",
       "0  [1512, 1611, 1158, 1233, 731, 1831, 1505, 2106...   \n",
       "1  [1512, 1611, 1158, 1233, 731, 1831, 1505, 2106...   \n",
       "2  [1512, 1611, 1158, 1233, 731, 1831, 1505, 2106...   \n",
       "3  [1512, 1611, 1158, 1233, 731, 1831, 1505, 2106...   \n",
       "4  [1512, 1514, 1158, 1233, 731, 1831, 1505, 2106...   \n",
       "\n",
       "                                         padded_curr  \n",
       "0  [1512, 1611, 1158, 1233, 731, 1831, 1505, 2106...  \n",
       "1  [1512, 1611, 1158, 1233, 731, 1831, 1505, 2106...  \n",
       "2  [1512, 1611, 1158, 1233, 731, 1831, 1505, 2106...  \n",
       "3  [1512, 1611, 1158, 1233, 731, 1831, 1505, 2106...  \n",
       "4  [1512, 1514, 1158, 1233, 731, 1831, 1505, 2106...  "
      ]
     },
     "execution_count": 8,
     "metadata": {},
     "output_type": "execute_result"
    }
   ],
   "source": [
    "from tensorflow.keras.preprocessing.sequence import pad_sequences\n",
    "\n",
    "def pad_sequences_fn(df):\n",
    "    # Pad sequences so that they are of equal length\n",
    "    df['padded_curr'] = pad_sequences(df['tokenized_curr'], padding='post', value=0).tolist()\n",
    "    max_len = max(df['padded_curr'].apply(len))\n",
    "\n",
    "    return df, max_len\n",
    "\n",
    "# Pad the tokenized sequences\n",
    "df, max_len = pad_sequences_fn(df)\n",
    "print(df[['tokenized_curr', 'padded_curr']].head(1).to_dict('records'))\n",
    "df[['tokenized_curr', 'padded_curr']].head()\n"
   ]
  },
  {
   "cell_type": "markdown",
   "id": "ad1643fa-367d-4000-879d-2149df62f9b4",
   "metadata": {},
   "source": [
    " "
   ]
  },
  {
   "cell_type": "code",
   "execution_count": 9,
   "id": "9870537a-c0c0-4c50-9446-7ebfea6aa4b6",
   "metadata": {},
   "outputs": [
    {
     "data": {
      "text/html": [
       "<div>\n",
       "<style scoped>\n",
       "    .dataframe tbody tr th:only-of-type {\n",
       "        vertical-align: middle;\n",
       "    }\n",
       "\n",
       "    .dataframe tbody tr th {\n",
       "        vertical-align: top;\n",
       "    }\n",
       "\n",
       "    .dataframe thead th {\n",
       "        text-align: right;\n",
       "    }\n",
       "</style>\n",
       "<table border=\"1\" class=\"dataframe\">\n",
       "  <thead>\n",
       "    <tr style=\"text-align: right;\">\n",
       "      <th></th>\n",
       "      <th>padded_curr</th>\n",
       "      <th>attention_mask</th>\n",
       "    </tr>\n",
       "  </thead>\n",
       "  <tbody>\n",
       "    <tr>\n",
       "      <th>0</th>\n",
       "      <td>[1512, 1611, 1158, 1233, 731, 1831, 1505, 2106...</td>\n",
       "      <td>[1, 1, 1, 1, 1, 1, 1, 1, 1, 1, 1, 1, 1, 1, 1, ...</td>\n",
       "    </tr>\n",
       "    <tr>\n",
       "      <th>1</th>\n",
       "      <td>[1512, 1611, 1158, 1233, 731, 1831, 1505, 2106...</td>\n",
       "      <td>[1, 1, 1, 1, 1, 1, 1, 1, 1, 1, 1, 1, 1, 1, 1, ...</td>\n",
       "    </tr>\n",
       "    <tr>\n",
       "      <th>2</th>\n",
       "      <td>[1512, 1611, 1158, 1233, 731, 1831, 1505, 2106...</td>\n",
       "      <td>[1, 1, 1, 1, 1, 1, 1, 1, 1, 1, 1, 1, 1, 1, 1, ...</td>\n",
       "    </tr>\n",
       "    <tr>\n",
       "      <th>3</th>\n",
       "      <td>[1512, 1611, 1158, 1233, 731, 1831, 1505, 2106...</td>\n",
       "      <td>[1, 1, 1, 1, 1, 1, 1, 1, 1, 1, 1, 1, 1, 1, 1, ...</td>\n",
       "    </tr>\n",
       "    <tr>\n",
       "      <th>4</th>\n",
       "      <td>[1512, 1514, 1158, 1233, 731, 1831, 1505, 2106...</td>\n",
       "      <td>[1, 1, 1, 1, 1, 1, 1, 1, 1, 1, 1, 1, 1, 1, 1, ...</td>\n",
       "    </tr>\n",
       "  </tbody>\n",
       "</table>\n",
       "</div>"
      ],
      "text/plain": [
       "                                         padded_curr  \\\n",
       "0  [1512, 1611, 1158, 1233, 731, 1831, 1505, 2106...   \n",
       "1  [1512, 1611, 1158, 1233, 731, 1831, 1505, 2106...   \n",
       "2  [1512, 1611, 1158, 1233, 731, 1831, 1505, 2106...   \n",
       "3  [1512, 1611, 1158, 1233, 731, 1831, 1505, 2106...   \n",
       "4  [1512, 1514, 1158, 1233, 731, 1831, 1505, 2106...   \n",
       "\n",
       "                                      attention_mask  \n",
       "0  [1, 1, 1, 1, 1, 1, 1, 1, 1, 1, 1, 1, 1, 1, 1, ...  \n",
       "1  [1, 1, 1, 1, 1, 1, 1, 1, 1, 1, 1, 1, 1, 1, 1, ...  \n",
       "2  [1, 1, 1, 1, 1, 1, 1, 1, 1, 1, 1, 1, 1, 1, 1, ...  \n",
       "3  [1, 1, 1, 1, 1, 1, 1, 1, 1, 1, 1, 1, 1, 1, 1, ...  \n",
       "4  [1, 1, 1, 1, 1, 1, 1, 1, 1, 1, 1, 1, 1, 1, 1, ...  "
      ]
     },
     "execution_count": 9,
     "metadata": {},
     "output_type": "execute_result"
    }
   ],
   "source": [
    "def generate_attention_masks(df, max_len):\n",
    "    # Create attention masks where 1 indicates actual data and 0 indicates padding\n",
    "    df['attention_mask'] = df['padded_curr'].apply(lambda x: [1 if i != 0 else 0 for i in x])\n",
    "    return df\n",
    "\n",
    "# Generate attention masks\n",
    "df = generate_attention_masks(df, max_len)\n",
    "df[['padded_curr', 'attention_mask']].head()\n"
   ]
  },
  {
   "cell_type": "markdown",
   "id": "9c7846c0-e24e-4ea7-a37c-9ca1d39b243e",
   "metadata": {},
   "source": [
    " "
   ]
  },
  {
   "cell_type": "code",
   "execution_count": 10,
   "id": "163fb005-3e40-4858-92a9-ab5cb96ec2c0",
   "metadata": {},
   "outputs": [],
   "source": [
    "import numpy as np\n",
    "from tensorflow.keras.preprocessing.sequence import pad_sequences\n",
    "\n",
    "def prepare_input_target_data(df):\n",
    "    input_data = []\n",
    "    target_data = []\n",
    "    confidence_data = []\n",
    "\n",
    "    for index, row in df.iterrows():\n",
    "\n",
    "        for i in range(1, len(row['tokenized_curr'])):\n",
    "            input_seq = row['tokenized_curr'][:i]\n",
    "            target_node = row['tokenized_curr'][i]\n",
    "            input_confidence = row['node_confidence'][:i]\n",
    "            is_anonymous = row['anonymous'][i]\n",
    "\n",
    "            # do not let the padded values or the anonymous nodes to be set as target values\n",
    "            if target_node!= 0 and is_anonymous==0:\n",
    "                input_data.append(input_seq)\n",
    "                # print(input_seq)\n",
    "                target_data.append(target_node)\n",
    "                # print('target:', target_node,'\\n')\n",
    "                confidence_data.append(input_confidence)\n",
    "\n",
    "    # Ensure confidence data is a list of floats before padding\n",
    "    confidence_data = [np.array(conf).astype(np.float32) for conf in confidence_data]\n",
    "\n",
    "    # Pad input sequences again to ensure uniform length\n",
    "    input_data_padded = pad_sequences(input_data, maxlen=max_len, padding='post', value=0)\n",
    "    confidence_data_padded = pad_sequences(confidence_data, maxlen=max_len, padding='post', value=0, dtype='float32')\n",
    "\n",
    "    return input_data_padded, target_data, confidence_data_padded\n",
    "\n",
    "# Prepare input, target, and confidence data\n",
    "input_data_padded, target_data, confidence_data_padded = prepare_input_target_data(df)"
   ]
  },
  {
   "cell_type": "markdown",
   "id": "8fadecb1-1001-48e5-be73-32964449b1d2",
   "metadata": {},
   "source": [
    " "
   ]
  },
  {
   "cell_type": "code",
   "execution_count": 11,
   "id": "55f2270e-4eeb-4d4c-82b8-106d5fe939c8",
   "metadata": {},
   "outputs": [
    {
     "name": "stdout",
     "output_type": "stream",
     "text": [
      "Input Data Shape: (294253, 30)\n",
      "Target Data Shape: 294253\n"
     ]
    }
   ],
   "source": [
    "def generate_attention_masks_for_segments(input_data_padded, max_len):\n",
    "    attention_masks = []\n",
    "\n",
    "    for sequence in input_data_padded:\n",
    "        mask = [1 if token != 0 else 0 for token in sequence]\n",
    "        attention_masks.append(mask)\n",
    "\n",
    "    return attention_masks\n",
    "\n",
    "masks = generate_attention_masks_for_segments(input_data_padded, max_len)\n",
    "\n",
    "print(f\"Input Data Shape: {input_data_padded.shape}\")\n",
    "print(f\"Target Data Shape: {len(target_data)}\")"
   ]
  },
  {
   "cell_type": "markdown",
   "id": "f3e6e8e4-c1b0-4fda-88f0-044b1a63b0a9",
   "metadata": {},
   "source": [
    " "
   ]
  },
  {
   "cell_type": "code",
   "execution_count": 12,
   "id": "56eaf348-b494-41df-9c2e-e94339ee7468",
   "metadata": {},
   "outputs": [],
   "source": [
    "import logging\n",
    "\n",
    "# Configure logging\n",
    "logging.basicConfig(\n",
    "    filename='training_debug.log',\n",
    "    filemode='w',                     # Overwrite the file on each run; use 'a' to append\n",
    "    format='%(asctime)s - %(message)s',\n",
    "    level=logging.DEBUG\n",
    ")\n"
   ]
  },
  {
   "cell_type": "code",
   "execution_count": null,
   "id": "583de986-5c68-4e8d-a2a4-9e59fad2348a",
   "metadata": {},
   "outputs": [],
   "source": []
  },
  {
   "cell_type": "code",
   "execution_count": null,
   "id": "c35b25f4-41a9-4416-a3d9-ccf2e69ed68f",
   "metadata": {},
   "outputs": [],
   "source": []
  },
  {
   "cell_type": "code",
   "execution_count": 13,
   "id": "6819a628-79bb-4f3c-8c51-dd6efabaaf7c",
   "metadata": {},
   "outputs": [
    {
     "name": "stdout",
     "output_type": "stream",
     "text": [
      "Using 1 threads for PyTorch operations\n"
     ]
    }
   ],
   "source": [
    "import torch\n",
    "from torch.utils.data import TensorDataset, DataLoader\n",
    "import torch.nn as nn\n",
    "\n",
    "def custom_loss_function(outputs, target_batch, confidence_batch):\n",
    "    # Get the logits for the last non-padded token\n",
    "    # First, find the length of each sequence (excluding padding)\n",
    "    input_lengths = (input_batch != 0).sum(dim=1)  # Shape: (batch_size,)\n",
    "    # Get the logits at the last non-padded positions\n",
    "    last_outputs = outputs[range(outputs.size(0)), input_lengths - 1]  # Shape: (batch_size, vocab_size)\n",
    "    # Compute loss\n",
    "    loss_fn = nn.CrossEntropyLoss()\n",
    "    loss = loss_fn(last_outputs, target_batch)\n",
    "    return loss\n",
    "\n",
    "\n",
    "# Set the number of threads PyTorch should use\n",
    "torch.set_num_threads(30)\n",
    "torch.set_num_interop_threads(30)\n",
    "print(f\"Using {torch.get_num_threads()} threads for PyTorch operations\")\n",
    "\n",
    "# Convert to tensors\n",
    "input_tensor = torch.tensor(input_data_padded, dtype=torch.long)\n",
    "target_tensor = torch.tensor(target_data, dtype=torch.long)\n",
    "confidence_tensor = torch.tensor(confidence_data_padded, dtype=torch.float32)\n",
    "attention_masks_tensor = (input_tensor != 0).long()\n",
    "\n",
    "\n",
    "\n",
    "# Create a TensorDataset, replace the attention mask with the confidence (the confidence is not in use currently)\n",
    "dataset = TensorDataset(input_tensor, attention_masks_tensor, target_tensor, confidence_tensor)\n",
    "\n",
    "# Prepare DataLoader with multiple workers\n",
    "dataloader = DataLoader(dataset, batch_size=32, shuffle=True, num_workers=16)\n",
    "\n",
    "# Define the Transformer model (from your previous steps)\n",
    "class TransformerModel(nn.Module):\n",
    "    def __init__(self, vocab_size, embed_size, num_heads, num_layers, max_len, dropout=0.1):\n",
    "        super(TransformerModel, self).__init__()\n",
    "        self.embedding = nn.Embedding(vocab_size, embed_size, padding_idx=0)\n",
    "        self.pos_embedding = nn.Embedding(max_len, embed_size)\n",
    "        self.transformer_encoder = nn.TransformerEncoder(\n",
    "            nn.TransformerEncoderLayer(embed_size, num_heads, dim_feedforward=embed_size * 4, dropout=dropout),\n",
    "            num_layers\n",
    "        )\n",
    "        self.fc = nn.Linear(embed_size, vocab_size)\n",
    "\n",
    "    def forward(self, src, src_mask):\n",
    "        batch_size, seq_len = src.size()\n",
    "        pos = torch.arange(0, seq_len, device=src.device).unsqueeze(0).repeat(batch_size, 1)\n",
    "        src = self.embedding(src) + self.pos_embedding(pos)\n",
    "        src = src.permute(1, 0, 2)  # Transformer expects input as (seq_len, batch_size, embed_size)\n",
    "        output = self.transformer_encoder(src, src_key_padding_mask=src_mask)\n",
    "        output = output.permute(1, 0, 2)  # Change back to (batch_size, seq_len, embed_size)\n",
    "        output = self.fc(output)  # Final layer to get vocab_size logits per position\n",
    "        return output\n",
    "\n",
    "\n",
    "class TransformerModel(nn.Module):\n",
    "    def __init__(self, vocab_size, embed_size, num_heads, num_layers, max_len, dropout=0.1):\n",
    "        super(TransformerModel, self).__init__()\n",
    "        self.embedding = nn.Embedding(vocab_size, embed_size, padding_idx=0)\n",
    "        self.pos_embedding = nn.Embedding(max_len, embed_size)\n",
    "        self.transformer_encoder = nn.TransformerEncoder(\n",
    "            nn.TransformerEncoderLayer(embed_size, num_heads, dim_feedforward=embed_size * 4, dropout=dropout),\n",
    "            num_layers\n",
    "        )\n",
    "        self.fc = nn.Linear(embed_size, vocab_size)\n",
    "\n",
    "    def forward(self, src, src_mask):\n",
    "        batch_size, seq_len = src.size()\n",
    "        pos = torch.arange(0, seq_len, device=src.device).unsqueeze(0).repeat(batch_size, 1)\n",
    "        src = self.embedding(src) + self.pos_embedding(pos)\n",
    "        src = src.permute(1, 0, 2)  # Transformer expects input as (seq_len, batch_size, embed_size)\n",
    "        output = self.transformer_encoder(src, src_key_padding_mask=src_mask)\n",
    "        output = output.permute(1, 0, 2)  # Change back to (batch_size, seq_len, embed_size)\n",
    "        output = self.fc(output)  # Final layer to get vocab_size logits per position\n",
    "        return output\n",
    "\n"
   ]
  },
  {
   "cell_type": "code",
   "execution_count": 14,
   "id": "b1367790-f322-4692-b42a-fae89effe01a",
   "metadata": {},
   "outputs": [
    {
     "data": {
      "text/plain": [
       "(206472,\n",
       " array([1., 1., 1., 1., 0., 0., 0., 0., 0., 0., 0., 0., 0., 0., 0., 0., 0.,\n",
       "        0., 0., 0., 0., 0., 0., 0., 0., 0., 0., 0., 0., 0.], dtype=float32),\n",
       " array([1143, 1711,    5, 1026,    0,    0,    0,    0,    0,    0,    0,\n",
       "           0,    0,    0,    0,    0,    0,    0,    0,    0,    0,    0,\n",
       "           0,    0,    0,    0,    0,    0,    0,    0], dtype=int32),\n",
       " 1329,\n",
       " tensor([1, 1, 1, 1, 0, 0, 0, 0, 0, 0, 0, 0, 0, 0, 0, 0, 0, 0, 0, 0, 0, 0, 0, 0,\n",
       "         0, 0, 0, 0, 0, 0]))"
      ]
     },
     "execution_count": 14,
     "metadata": {},
     "output_type": "execute_result"
    }
   ],
   "source": [
    "i = np.random.randint(len(target_data))\n",
    "i, confidence_data_padded[i], input_data_padded[i], target_data[i], attention_masks_tensor[i]"
   ]
  },
  {
   "cell_type": "code",
   "execution_count": null,
   "id": "4eb9dd61-8d25-4257-b563-a0d6353030d4",
   "metadata": {},
   "outputs": [],
   "source": []
  },
  {
   "cell_type": "markdown",
   "id": "7ee1ee52-9a49-42ec-9937-947e0967c590",
   "metadata": {},
   "source": [
    " "
   ]
  },
  {
   "cell_type": "code",
   "execution_count": null,
   "id": "5887221d-0bdd-47b1-8ab7-4b1092226586",
   "metadata": {},
   "outputs": [
    {
     "name": "stderr",
     "output_type": "stream",
     "text": [
      "/home/petya/.local/lib/python3.8/site-packages/torch/nn/modules/transformer.py:306: UserWarning: enable_nested_tensor is True, but self.use_nested_tensor is False because encoder_layer.self_attn.batch_first was not True(use batch_first for better inference performance)\n",
      "  warnings.warn(f\"enable_nested_tensor is True, but self.use_nested_tensor is False because {why_not_sparsity_fast_path}\")\n"
     ]
    },
    {
     "name": "stdout",
     "output_type": "stream",
     "text": [
      "Epoch 1/100, Train Loss: 2.263458831723138, Validation Loss: 0.9656401294728983\n",
      "Validation loss improved. Saving best model at Epoch 1\n",
      "Epoch 2/100, Train Loss: 0.8458227057410466, Validation Loss: 0.7553146349023218\n",
      "Validation loss improved. Saving best model at Epoch 2\n",
      "Epoch 3/100, Train Loss: 0.7269413172104963, Validation Loss: 0.7057962920273776\n",
      "Validation loss improved. Saving best model at Epoch 3\n",
      "Epoch 4/100, Train Loss: 0.6862917659993857, Validation Loss: 0.6851684544397437\n",
      "Validation loss improved. Saving best model at Epoch 4\n",
      "Epoch 5/100, Train Loss: 0.6644806417313642, Validation Loss: 0.6736593150817182\n",
      "Validation loss improved. Saving best model at Epoch 5\n",
      "Epoch 17/100, Train Loss: 0.6033701376716809, Validation Loss: 0.6365245310184748\n",
      "Validation loss improved. Saving best model at Epoch 17\n",
      "Epoch 18/100, Train Loss: 0.6021061032743125, Validation Loss: 0.6344747508025688\n",
      "Validation loss improved. Saving best model at Epoch 18\n",
      "Epoch 28/100, Train Loss: 0.5931389422476316, Validation Loss: 0.6308240922977743\n",
      "No improvement in validation loss. Patience counter: 1\n",
      "Epoch 29/100, Train Loss: 0.5924129965789166, Validation Loss: 0.6316855728383297\n",
      "No improvement in validation loss. Patience counter: 2\n",
      "Epoch 37/100, Train Loss: 0.5894782512598231, Validation Loss: 0.6299336675392545\n",
      "No improvement in validation loss. Patience counter: 3\n"
     ]
    }
   ],
   "source": [
    "from sklearn.model_selection import train_test_split\n",
    "import matplotlib.pyplot as plt\n",
    "\n",
    "# Hyperparameters\n",
    "vocab_size = input_tensor.max().item() + 1\n",
    "embed_size = 128\n",
    "num_heads = 8\n",
    "num_layers = 4\n",
    "max_len = input_tensor.shape[1]\n",
    "dropout = 0.1\n",
    "learning_rate = 0.0001\n",
    "epochs = 100\n",
    "\n",
    "# Initialize model, optimizer\n",
    "model = TransformerModel(vocab_size=vocab_size, embed_size=embed_size, num_heads=num_heads, num_layers=num_layers, max_len=max_len, dropout=dropout)\n",
    "optimizer = torch.optim.Adam(model.parameters(), lr=learning_rate)\n",
    "\n",
    "\n",
    "# attention_masks_tensor = confidence_tensor\n",
    "# Split the data into training and validation sets\n",
    "train_inputs, val_inputs, train_masks, val_masks, train_targets, val_targets, train_confidences, val_confidences = train_test_split(\n",
    "    input_tensor, attention_masks_tensor, target_tensor, confidence_tensor, test_size=0.2, random_state=42)\n",
    "\n",
    "# Create TensorDatasets for training and validation sets\n",
    "train_dataset = TensorDataset(train_inputs, train_masks, train_targets, train_confidences)\n",
    "val_dataset = TensorDataset(val_inputs, val_masks, val_targets, val_confidences)\n",
    "\n",
    "# Create DataLoaders\n",
    "train_loader = DataLoader(train_dataset, batch_size=32, shuffle=True, num_workers=16)\n",
    "val_loader = DataLoader(val_dataset, batch_size=32, shuffle=False, num_workers=16)\n",
    "\n",
    "\n",
    "\n",
    "\n",
    "train_losses = []\n",
    "val_losses = []\n",
    "\n",
    "# Early stopping parameters\n",
    "patience = 5  # Number of epochs to wait for improvement\n",
    "min_val_loss = float('inf')  # Initialize to a very large value\n",
    "patience_counter = 0  # To keep track of how many epochs without improvement\n",
    "best_model_state = None  # To store the best model state\n",
    "\n",
    "model.train()\n",
    "for epoch in range(epochs):\n",
    "    total_train_loss = 0\n",
    "    total_val_loss = 0\n",
    "\n",
    "    # Training phase\n",
    "    for input_batch, mask_batch, target_batch, confidence_batch in train_loader:\n",
    "        optimizer.zero_grad()\n",
    "        mask_batch = mask_batch.bool()\n",
    "\n",
    "        # Forward pass\n",
    "        outputs = model(input_batch, src_mask=mask_batch)\n",
    "\n",
    "        # Compute loss\n",
    "        loss = custom_loss_function(outputs, target_batch, confidence_batch)\n",
    "        loss.backward()\n",
    "        optimizer.step()\n",
    "\n",
    "        total_train_loss += loss.item()\n",
    "\n",
    "    # Validation phase\n",
    "    model.eval()  # Switch to evaluation mode\n",
    "    with torch.no_grad():\n",
    "        for input_batch, mask_batch, target_batch, confidence_batch in val_loader:\n",
    "            mask_batch = mask_batch.bool()\n",
    "\n",
    "            # Forward pass\n",
    "            outputs = model(input_batch, src_mask=mask_batch)\n",
    "\n",
    "            # Compute loss\n",
    "            loss = custom_loss_function(outputs, target_batch, confidence_batch)\n",
    "            total_val_loss += loss.item()\n",
    "\n",
    "    # Calculate average losses\n",
    "    avg_train_loss = total_train_loss / len(train_loader)\n",
    "    avg_val_loss = total_val_loss / len(val_loader)\n",
    "    train_losses.append(avg_train_loss)\n",
    "    val_losses.append(avg_val_loss)\n",
    "\n",
    "    print(f\"Epoch {epoch + 1}/{epochs}, Train Loss: {avg_train_loss}, Validation Loss: {avg_val_loss}\")\n",
    "\n",
    "    # Early stopping check\n",
    "    if avg_val_loss < min_val_loss:\n",
    "        min_val_loss = avg_val_loss\n",
    "        patience_counter = 0\n",
    "        best_model_state = model.state_dict()  # Save the best model's state\n",
    "        print(f\"Validation loss improved. Saving best model at Epoch {epoch + 1}\")\n",
    "    else:\n",
    "        patience_counter += 1\n",
    "        print(f\"No improvement in validation loss. Patience counter: {patience_counter}\")\n",
    "\n",
    "    # Check if patience has run out\n",
    "    if patience_counter >= patience:\n",
    "        print(f\"Early stopping at epoch {epoch + 1}. Restoring the best model.\")\n",
    "        model.load_state_dict(best_model_state)  # Restore the best model's weights\n",
    "        break\n",
    "\n",
    "    model.train()  # Switch back to training mode for the next epoch"
   ]
  },
  {
   "cell_type": "markdown",
   "id": "64187e3d-7ead-4c08-beb5-bcc988e4db72",
   "metadata": {},
   "source": [
    "Plot the training and validation losses"
   ]
  },
  {
   "cell_type": "code",
   "execution_count": 18,
   "id": "0c3ec7fb-8925-469b-aa2e-6e99893e2572",
   "metadata": {},
   "outputs": [
    {
     "data": {
      "image/png": "[encoded data removed]",
      "text/plain": [
       "<Figure size 640x480 with 1 Axes>"
      ]
     },
     "metadata": {},
     "output_type": "display_data"
    }
   ],
   "source": [
    "plt.plot(range(1, len(train_losses) + 1), train_losses, label='Train Loss')\n",
    "plt.plot(range(1, len(val_losses) + 1), val_losses, label='Validation Loss')\n",
    "plt.xlabel('Epochs')\n",
    "plt.ylabel('Loss')\n",
    "plt.legend()\n",
    "plt.show()\n"
   ]
  },
  {
   "cell_type": "markdown",
   "id": "a05c309d-75bc-4cbb-bc31-cd832b157f84",
   "metadata": {},
   "source": [
    " "
   ]
  },
  {
   "cell_type": "markdown",
   "id": "a0cf87f8-b4e8-4b9b-bb8e-656beef20e78",
   "metadata": {},
   "source": [
    "Check how much of the data is hard to impute due to too big gaps"
   ]
  },
  {
   "cell_type": "code",
   "execution_count": 19,
   "id": "0037b4a4-660e-44cc-9359-0668265764fe",
   "metadata": {},
   "outputs": [
    {
     "name": "stdout",
     "output_type": "stream",
     "text": [
      "13% of the paths contain gaps >2 hops\n"
     ]
    }
   ],
   "source": [
    "# Function to check if a list contains >2 consecutive ones\n",
    "def has_consecutive_ones(anonymous_list):\n",
    "    count = 0\n",
    "    for value in anonymous_list:\n",
    "        if value == 1:\n",
    "            count += 1\n",
    "            if count > 2:\n",
    "                return True\n",
    "        else:\n",
    "            count = 0\n",
    "    return False\n",
    "\n",
    "df['has_big_gap'] = df['anonymous'].apply(has_consecutive_ones)\n",
    "\n",
    "print(f\"{int(round(len(df[df['has_big_gap']==1])/len(df),2)*100)}% of the paths contain gaps >2 hops\")"
   ]
  },
  {
   "cell_type": "markdown",
   "id": "e88a41d8-55ce-43c6-afd4-11b4c7491705",
   "metadata": {},
   "source": [
    "Check a the paths between two sites. Find a trivial case to predict a missing node"
   ]
  },
  {
   "cell_type": "code",
   "execution_count": 24,
   "id": "d571c50e-446d-4221-9c47-a8ea1a1c8bb0",
   "metadata": {},
   "outputs": [
    {
     "data": {
      "application/vnd.plotly.v1+json": {
       "config": {
        "plotlyServerURL": "https://plot.ly"
       },
       "data": [
        {
         "colorscale": [
          [
           0,
           "#FFFFFF"
          ],
          [
           0.05263157894736842,
           "rgba(31, 119, 180, 1)"
          ],
          [
           0.10526315789473684,
           "rgba(174, 199, 232, 1)"
          ],
          [
           0.15789473684210525,
           "rgba(255, 127, 14, 1)"
          ],
          [
           0.21052631578947367,
           "rgba(255, 187, 120, 1)"
          ],
          [
           0.2631578947368421,
           "rgba(44, 160, 44, 1)"
          ],
          [
           0.3157894736842105,
           "rgba(152, 223, 138, 1)"
          ],
          [
           0.3684210526315789,
           "rgba(214, 39, 40, 1)"
          ],
          [
           0.42105263157894735,
           "rgba(255, 152, 150, 1)"
          ],
          [
           0.47368421052631576,
           "rgba(148, 103, 189, 1)"
          ],
          [
           0.5263157894736842,
           "rgba(140, 86, 75, 1)"
          ],
          [
           0.5789473684210527,
           "black"
          ],
          [
           0.631578947368421,
           "rgba(227, 119, 194, 1)"
          ],
          [
           0.6842105263157895,
           "rgba(247, 182, 210, 1)"
          ],
          [
           0.7368421052631579,
           "rgba(127, 127, 127, 1)"
          ],
          [
           0.7894736842105263,
           "rgba(199, 199, 199, 1)"
          ],
          [
           0.8421052631578947,
           "rgba(188, 189, 34, 1)"
          ],
          [
           0.8947368421052632,
           "rgba(219, 219, 141, 1)"
          ],
          [
           0.9473684210526315,
           "rgba(23, 190, 207, 1)"
          ],
          [
           1,
           "rgba(158, 218, 229, 1)"
          ]
         ],
         "hoverinfo": "text",
         "showscale": false,
         "text": [
          [
           "RID: r795<br>ttls-hops_hash: 044f251680152add441d268f0edff622c9d74c35<br>Router: 159.93.224.1",
           "RID: r145<br>ttls-hops_hash: 044f251680152add441d268f0edff622c9d74c35<br>Router: 10.4.8.139",
           "RID: r419<br>ttls-hops_hash: 044f251680152add441d268f0edff622c9d74c35<br>Router: 10.4.8.138",
           "RID: r821<br>ttls-hops_hash: 044f251680152add441d268f0edff622c9d74c35<br>Router: 144.206.254.34",
           "RID: r135<br>ttls-hops_hash: 044f251680152add441d268f0edff622c9d74c35<br>Router: 144.206.254.33",
           "RID: r677<br>ttls-hops_hash: 044f251680152add441d268f0edff622c9d74c35<br>Router: 62.40.125.121",
           "RID: r13<br>ttls-hops_hash: 044f251680152add441d268f0edff622c9d74c35<br>Router: 62.40.98.39",
           "RID: r219<br>ttls-hops_hash: 044f251680152add441d268f0edff622c9d74c35<br>Router: 62.40.98.21",
           "RID: r159<br>ttls-hops_hash: 044f251680152add441d268f0edff622c9d74c35<br>Router: 62.40.98.159",
           "RID: r363<br>ttls-hops_hash: 044f251680152add441d268f0edff622c9d74c35<br>Router: 62.40.124.30",
           "RID: unknown<br>ttls-hops_hash: 044f251680152add441d268f0edff622c9d74c35<br>Router: unknown",
           "RID: r984<br>ttls-hops_hash: 044f251680152add441d268f0edff622c9d74c35<br>Router: 195.113.69.53",
           "RID: r471<br>ttls-hops_hash: 044f251680152add441d268f0edff622c9d74c35<br>Router: 147.231.18.214",
           "RID: r138<br>ttls-hops_hash: 044f251680152add441d268f0edff622c9d74c35<br>Router: 147.231.25.191",
           "Missing"
          ],
          [
           "RID: r795<br>ttls-hops_hash: 0a620223a51039738151ff76d429c046f4538261<br>Router: 159.93.224.1",
           "RID: r672<br>ttls-hops_hash: 0a620223a51039738151ff76d429c046f4538261<br>Router: 10.4.7.137",
           "RID: r1122<br>ttls-hops_hash: 0a620223a51039738151ff76d429c046f4538261<br>Router: 10.4.7.136",
           "RID: r163<br>ttls-hops_hash: 0a620223a51039738151ff76d429c046f4538261<br>Router: 144.206.254.151",
           "Missing",
           "Missing",
           "Missing",
           "Missing",
           "Missing",
           "Missing",
           "Missing",
           "Missing",
           "Missing",
           "Missing",
           "Missing"
          ],
          [
           "RID: r795<br>ttls-hops_hash: 0aefd78477ff6dbfe1d97aa5485fceda76decb82<br>Router: 159.93.224.1",
           "RID: r672<br>ttls-hops_hash: 0aefd78477ff6dbfe1d97aa5485fceda76decb82<br>Router: 10.4.7.137",
           "RID: r419<br>ttls-hops_hash: 0aefd78477ff6dbfe1d97aa5485fceda76decb82<br>Router: 10.4.8.138",
           "RID: r821<br>ttls-hops_hash: 0aefd78477ff6dbfe1d97aa5485fceda76decb82<br>Router: 144.206.254.34",
           "RID: r135<br>ttls-hops_hash: 0aefd78477ff6dbfe1d97aa5485fceda76decb82<br>Router: 144.206.254.33",
           "RID: r677<br>ttls-hops_hash: 0aefd78477ff6dbfe1d97aa5485fceda76decb82<br>Router: 62.40.125.121",
           "RID: r13<br>ttls-hops_hash: 0aefd78477ff6dbfe1d97aa5485fceda76decb82<br>Router: 62.40.98.39",
           "RID: r219<br>ttls-hops_hash: 0aefd78477ff6dbfe1d97aa5485fceda76decb82<br>Router: 62.40.98.21",
           "RID: r159<br>ttls-hops_hash: 0aefd78477ff6dbfe1d97aa5485fceda76decb82<br>Router: 62.40.98.159",
           "RID: r363<br>ttls-hops_hash: 0aefd78477ff6dbfe1d97aa5485fceda76decb82<br>Router: 62.40.124.30",
           "RID: unknown<br>ttls-hops_hash: 0aefd78477ff6dbfe1d97aa5485fceda76decb82<br>Router: unknown",
           "RID: r984<br>ttls-hops_hash: 0aefd78477ff6dbfe1d97aa5485fceda76decb82<br>Router: 195.113.69.53",
           "RID: r471<br>ttls-hops_hash: 0aefd78477ff6dbfe1d97aa5485fceda76decb82<br>Router: 147.231.18.214",
           "RID: r138<br>ttls-hops_hash: 0aefd78477ff6dbfe1d97aa5485fceda76decb82<br>Router: 147.231.25.191",
           "Missing"
          ],
          [
           "RID: r795<br>ttls-hops_hash: 2da6010c1fd8f7f3c56b72b569e77a173706eee2<br>Router: 159.93.224.1",
           "RID: r145<br>ttls-hops_hash: 2da6010c1fd8f7f3c56b72b569e77a173706eee2<br>Router: 10.4.8.139",
           "RID: r419<br>ttls-hops_hash: 2da6010c1fd8f7f3c56b72b569e77a173706eee2<br>Router: 10.4.8.138",
           "RID: r163<br>ttls-hops_hash: 2da6010c1fd8f7f3c56b72b569e77a173706eee2<br>Router: 144.206.254.151",
           "RID: r1048<br>ttls-hops_hash: 2da6010c1fd8f7f3c56b72b569e77a173706eee2<br>Router: 144.206.254.150",
           "RID: r677<br>ttls-hops_hash: 2da6010c1fd8f7f3c56b72b569e77a173706eee2<br>Router: 62.40.125.121",
           "RID: r13<br>ttls-hops_hash: 2da6010c1fd8f7f3c56b72b569e77a173706eee2<br>Router: 62.40.98.39",
           "RID: r219<br>ttls-hops_hash: 2da6010c1fd8f7f3c56b72b569e77a173706eee2<br>Router: 62.40.98.21",
           "RID: r159<br>ttls-hops_hash: 2da6010c1fd8f7f3c56b72b569e77a173706eee2<br>Router: 62.40.98.159",
           "RID: r363<br>ttls-hops_hash: 2da6010c1fd8f7f3c56b72b569e77a173706eee2<br>Router: 62.40.124.30",
           "RID: unknown<br>ttls-hops_hash: 2da6010c1fd8f7f3c56b72b569e77a173706eee2<br>Router: unknown",
           "RID: r984<br>ttls-hops_hash: 2da6010c1fd8f7f3c56b72b569e77a173706eee2<br>Router: 195.113.69.53",
           "RID: r471<br>ttls-hops_hash: 2da6010c1fd8f7f3c56b72b569e77a173706eee2<br>Router: 147.231.18.214",
           "RID: r1213<br>ttls-hops_hash: 2da6010c1fd8f7f3c56b72b569e77a173706eee2<br>Router: 147.231.25.192",
           "Missing"
          ],
          [
           "RID: r795<br>ttls-hops_hash: 2ff5e2a5507348ab6e9fcec4a148a96db840680d<br>Router: 159.93.224.1",
           "RID: r672<br>ttls-hops_hash: 2ff5e2a5507348ab6e9fcec4a148a96db840680d<br>Router: 10.4.7.137",
           "RID: r419<br>ttls-hops_hash: 2ff5e2a5507348ab6e9fcec4a148a96db840680d<br>Router: 10.4.8.138",
           "RID: r821<br>ttls-hops_hash: 2ff5e2a5507348ab6e9fcec4a148a96db840680d<br>Router: 144.206.254.34",
           "RID: r135<br>ttls-hops_hash: 2ff5e2a5507348ab6e9fcec4a148a96db840680d<br>Router: 144.206.254.33",
           "RID: r677<br>ttls-hops_hash: 2ff5e2a5507348ab6e9fcec4a148a96db840680d<br>Router: 62.40.125.121",
           "RID: r13<br>ttls-hops_hash: 2ff5e2a5507348ab6e9fcec4a148a96db840680d<br>Router: 62.40.98.39",
           "RID: r219<br>ttls-hops_hash: 2ff5e2a5507348ab6e9fcec4a148a96db840680d<br>Router: 62.40.98.21",
           "RID: r159<br>ttls-hops_hash: 2ff5e2a5507348ab6e9fcec4a148a96db840680d<br>Router: 62.40.98.159",
           "RID: r363<br>ttls-hops_hash: 2ff5e2a5507348ab6e9fcec4a148a96db840680d<br>Router: 62.40.124.30",
           "RID: unknown<br>ttls-hops_hash: 2ff5e2a5507348ab6e9fcec4a148a96db840680d<br>Router: unknown",
           "RID: r984<br>ttls-hops_hash: 2ff5e2a5507348ab6e9fcec4a148a96db840680d<br>Router: 195.113.69.53",
           "RID: r471<br>ttls-hops_hash: 2ff5e2a5507348ab6e9fcec4a148a96db840680d<br>Router: 147.231.18.214",
           "RID: r1213<br>ttls-hops_hash: 2ff5e2a5507348ab6e9fcec4a148a96db840680d<br>Router: 147.231.25.192",
           "Missing"
          ],
          [
           "RID: r795<br>ttls-hops_hash: 3abe2566b32c4cbf4673cd3f2cf08bcac60f0b4c<br>Router: 159.93.224.1",
           "RID: r672<br>ttls-hops_hash: 3abe2566b32c4cbf4673cd3f2cf08bcac60f0b4c<br>Router: 10.4.7.137",
           "RID: r419<br>ttls-hops_hash: 3abe2566b32c4cbf4673cd3f2cf08bcac60f0b4c<br>Router: 10.4.8.138",
           "RID: r163<br>ttls-hops_hash: 3abe2566b32c4cbf4673cd3f2cf08bcac60f0b4c<br>Router: 144.206.254.151",
           "RID: r1048<br>ttls-hops_hash: 3abe2566b32c4cbf4673cd3f2cf08bcac60f0b4c<br>Router: 144.206.254.150",
           "RID: r677<br>ttls-hops_hash: 3abe2566b32c4cbf4673cd3f2cf08bcac60f0b4c<br>Router: 62.40.125.121",
           "RID: r13<br>ttls-hops_hash: 3abe2566b32c4cbf4673cd3f2cf08bcac60f0b4c<br>Router: 62.40.98.39",
           "RID: r219<br>ttls-hops_hash: 3abe2566b32c4cbf4673cd3f2cf08bcac60f0b4c<br>Router: 62.40.98.21",
           "RID: r159<br>ttls-hops_hash: 3abe2566b32c4cbf4673cd3f2cf08bcac60f0b4c<br>Router: 62.40.98.159",
           "RID: r363<br>ttls-hops_hash: 3abe2566b32c4cbf4673cd3f2cf08bcac60f0b4c<br>Router: 62.40.124.30",
           "RID: unknown<br>ttls-hops_hash: 3abe2566b32c4cbf4673cd3f2cf08bcac60f0b4c<br>Router: unknown",
           "RID: r984<br>ttls-hops_hash: 3abe2566b32c4cbf4673cd3f2cf08bcac60f0b4c<br>Router: 195.113.69.53",
           "RID: r471<br>ttls-hops_hash: 3abe2566b32c4cbf4673cd3f2cf08bcac60f0b4c<br>Router: 147.231.18.214",
           "RID: r1213<br>ttls-hops_hash: 3abe2566b32c4cbf4673cd3f2cf08bcac60f0b4c<br>Router: 147.231.25.192",
           "Missing"
          ],
          [
           "RID: r795<br>ttls-hops_hash: 55dc5adb40c9f9d3c774055a92e8fcce33955a2f<br>Router: 159.93.224.1",
           "RID: r145<br>ttls-hops_hash: 55dc5adb40c9f9d3c774055a92e8fcce33955a2f<br>Router: 10.4.8.139",
           "RID: r1122<br>ttls-hops_hash: 55dc5adb40c9f9d3c774055a92e8fcce33955a2f<br>Router: 10.4.7.136",
           "RID: r163<br>ttls-hops_hash: 55dc5adb40c9f9d3c774055a92e8fcce33955a2f<br>Router: 144.206.254.151",
           "RID: r1048<br>ttls-hops_hash: 55dc5adb40c9f9d3c774055a92e8fcce33955a2f<br>Router: 144.206.254.150",
           "RID: r677<br>ttls-hops_hash: 55dc5adb40c9f9d3c774055a92e8fcce33955a2f<br>Router: 62.40.125.121",
           "RID: r13<br>ttls-hops_hash: 55dc5adb40c9f9d3c774055a92e8fcce33955a2f<br>Router: 62.40.98.39",
           "RID: r219<br>ttls-hops_hash: 55dc5adb40c9f9d3c774055a92e8fcce33955a2f<br>Router: 62.40.98.21",
           "RID: r159<br>ttls-hops_hash: 55dc5adb40c9f9d3c774055a92e8fcce33955a2f<br>Router: 62.40.98.159",
           "RID: r363<br>ttls-hops_hash: 55dc5adb40c9f9d3c774055a92e8fcce33955a2f<br>Router: 62.40.124.30",
           "RID: unknown<br>ttls-hops_hash: 55dc5adb40c9f9d3c774055a92e8fcce33955a2f<br>Router: unknown",
           "RID: r984<br>ttls-hops_hash: 55dc5adb40c9f9d3c774055a92e8fcce33955a2f<br>Router: 195.113.69.53",
           "RID: r471<br>ttls-hops_hash: 55dc5adb40c9f9d3c774055a92e8fcce33955a2f<br>Router: 147.231.18.214",
           "RID: r1213<br>ttls-hops_hash: 55dc5adb40c9f9d3c774055a92e8fcce33955a2f<br>Router: 147.231.25.192",
           "Missing"
          ],
          [
           "RID: r795<br>ttls-hops_hash: 60a76b09e68c3d87d063c3cecac2980340b30abf<br>Router: 159.93.224.1",
           "RID: r145<br>ttls-hops_hash: 60a76b09e68c3d87d063c3cecac2980340b30abf<br>Router: 10.4.8.139",
           "RID: r419<br>ttls-hops_hash: 60a76b09e68c3d87d063c3cecac2980340b30abf<br>Router: 10.4.8.138",
           "RID: r821<br>ttls-hops_hash: 60a76b09e68c3d87d063c3cecac2980340b30abf<br>Router: 144.206.254.34",
           "RID: r135<br>ttls-hops_hash: 60a76b09e68c3d87d063c3cecac2980340b30abf<br>Router: 144.206.254.33",
           "RID: r677<br>ttls-hops_hash: 60a76b09e68c3d87d063c3cecac2980340b30abf<br>Router: 62.40.125.121",
           "RID: r13<br>ttls-hops_hash: 60a76b09e68c3d87d063c3cecac2980340b30abf<br>Router: 62.40.98.39",
           "RID: r219<br>ttls-hops_hash: 60a76b09e68c3d87d063c3cecac2980340b30abf<br>Router: 62.40.98.21",
           "RID: r159<br>ttls-hops_hash: 60a76b09e68c3d87d063c3cecac2980340b30abf<br>Router: 62.40.98.159",
           "RID: r363<br>ttls-hops_hash: 60a76b09e68c3d87d063c3cecac2980340b30abf<br>Router: 62.40.124.30",
           "RID: unknown<br>ttls-hops_hash: 60a76b09e68c3d87d063c3cecac2980340b30abf<br>Router: unknown",
           "RID: r984<br>ttls-hops_hash: 60a76b09e68c3d87d063c3cecac2980340b30abf<br>Router: 195.113.69.53",
           "RID: r471<br>ttls-hops_hash: 60a76b09e68c3d87d063c3cecac2980340b30abf<br>Router: 147.231.18.214",
           "RID: r1213<br>ttls-hops_hash: 60a76b09e68c3d87d063c3cecac2980340b30abf<br>Router: 147.231.25.192",
           "Missing"
          ],
          [
           "RID: r795<br>ttls-hops_hash: 6999e89eacd0c0f153727aaa922da4b58fa9c0fd<br>Router: 159.93.224.1",
           "RID: r145<br>ttls-hops_hash: 6999e89eacd0c0f153727aaa922da4b58fa9c0fd<br>Router: 10.4.8.139",
           "RID: r1122<br>ttls-hops_hash: 6999e89eacd0c0f153727aaa922da4b58fa9c0fd<br>Router: 10.4.7.136",
           "RID: r163<br>ttls-hops_hash: 6999e89eacd0c0f153727aaa922da4b58fa9c0fd<br>Router: 144.206.254.151",
           "RID: r1048<br>ttls-hops_hash: 6999e89eacd0c0f153727aaa922da4b58fa9c0fd<br>Router: 144.206.254.150",
           "RID: r677<br>ttls-hops_hash: 6999e89eacd0c0f153727aaa922da4b58fa9c0fd<br>Router: 62.40.125.121",
           "RID: r13<br>ttls-hops_hash: 6999e89eacd0c0f153727aaa922da4b58fa9c0fd<br>Router: 62.40.98.39",
           "RID: r219<br>ttls-hops_hash: 6999e89eacd0c0f153727aaa922da4b58fa9c0fd<br>Router: 62.40.98.21",
           "RID: r159<br>ttls-hops_hash: 6999e89eacd0c0f153727aaa922da4b58fa9c0fd<br>Router: 62.40.98.159",
           "RID: r363<br>ttls-hops_hash: 6999e89eacd0c0f153727aaa922da4b58fa9c0fd<br>Router: 62.40.124.30",
           "RID: unknown<br>ttls-hops_hash: 6999e89eacd0c0f153727aaa922da4b58fa9c0fd<br>Router: unknown",
           "RID: r984<br>ttls-hops_hash: 6999e89eacd0c0f153727aaa922da4b58fa9c0fd<br>Router: 195.113.69.53",
           "RID: r471<br>ttls-hops_hash: 6999e89eacd0c0f153727aaa922da4b58fa9c0fd<br>Router: 147.231.18.214",
           "RID: r138<br>ttls-hops_hash: 6999e89eacd0c0f153727aaa922da4b58fa9c0fd<br>Router: 147.231.25.191",
           "Missing"
          ],
          [
           "RID: r795<br>ttls-hops_hash: 6af3fa277bc7e04f11003cdfa8c98b6180401bb2<br>Router: 159.93.224.1",
           "RID: r672<br>ttls-hops_hash: 6af3fa277bc7e04f11003cdfa8c98b6180401bb2<br>Router: 10.4.7.137",
           "RID: r1122<br>ttls-hops_hash: 6af3fa277bc7e04f11003cdfa8c98b6180401bb2<br>Router: 10.4.7.136",
           "RID: r163<br>ttls-hops_hash: 6af3fa277bc7e04f11003cdfa8c98b6180401bb2<br>Router: 144.206.254.151",
           "RID: r1048<br>ttls-hops_hash: 6af3fa277bc7e04f11003cdfa8c98b6180401bb2<br>Router: 144.206.254.150",
           "RID: r677<br>ttls-hops_hash: 6af3fa277bc7e04f11003cdfa8c98b6180401bb2<br>Router: 62.40.125.121",
           "RID: r13<br>ttls-hops_hash: 6af3fa277bc7e04f11003cdfa8c98b6180401bb2<br>Router: 62.40.98.39",
           "RID: r219<br>ttls-hops_hash: 6af3fa277bc7e04f11003cdfa8c98b6180401bb2<br>Router: 62.40.98.21",
           "RID: r159<br>ttls-hops_hash: 6af3fa277bc7e04f11003cdfa8c98b6180401bb2<br>Router: 62.40.98.159",
           "RID: r363<br>ttls-hops_hash: 6af3fa277bc7e04f11003cdfa8c98b6180401bb2<br>Router: 62.40.124.30",
           "RID: unknown<br>ttls-hops_hash: 6af3fa277bc7e04f11003cdfa8c98b6180401bb2<br>Router: unknown",
           "RID: r984<br>ttls-hops_hash: 6af3fa277bc7e04f11003cdfa8c98b6180401bb2<br>Router: 195.113.69.53",
           "RID: r471<br>ttls-hops_hash: 6af3fa277bc7e04f11003cdfa8c98b6180401bb2<br>Router: 147.231.18.214",
           "RID: r138<br>ttls-hops_hash: 6af3fa277bc7e04f11003cdfa8c98b6180401bb2<br>Router: 147.231.25.191",
           "Missing"
          ],
          [
           "RID: r795<br>ttls-hops_hash: 6e63256a08e848566a5c8f03d148b8deb7ef5f5b<br>Router: 159.93.224.1",
           "RID: r672<br>ttls-hops_hash: 6e63256a08e848566a5c8f03d148b8deb7ef5f5b<br>Router: 10.4.7.137",
           "RID: r1122<br>ttls-hops_hash: 6e63256a08e848566a5c8f03d148b8deb7ef5f5b<br>Router: 10.4.7.136",
           "RID: r163<br>ttls-hops_hash: 6e63256a08e848566a5c8f03d148b8deb7ef5f5b<br>Router: 144.206.254.151",
           "RID: r1048<br>ttls-hops_hash: 6e63256a08e848566a5c8f03d148b8deb7ef5f5b<br>Router: 144.206.254.150",
           "RID: r677<br>ttls-hops_hash: 6e63256a08e848566a5c8f03d148b8deb7ef5f5b<br>Router: 62.40.125.121",
           "RID: r13<br>ttls-hops_hash: 6e63256a08e848566a5c8f03d148b8deb7ef5f5b<br>Router: 62.40.98.39",
           "RID: r219<br>ttls-hops_hash: 6e63256a08e848566a5c8f03d148b8deb7ef5f5b<br>Router: 62.40.98.21",
           "RID: r159<br>ttls-hops_hash: 6e63256a08e848566a5c8f03d148b8deb7ef5f5b<br>Router: 62.40.98.159",
           "RID: r363<br>ttls-hops_hash: 6e63256a08e848566a5c8f03d148b8deb7ef5f5b<br>Router: 62.40.124.30",
           "RID: unknown<br>ttls-hops_hash: 6e63256a08e848566a5c8f03d148b8deb7ef5f5b<br>Router: unknown",
           "RID: r984<br>ttls-hops_hash: 6e63256a08e848566a5c8f03d148b8deb7ef5f5b<br>Router: 195.113.69.53",
           "RID: r471<br>ttls-hops_hash: 6e63256a08e848566a5c8f03d148b8deb7ef5f5b<br>Router: 147.231.18.214",
           "RID: r1213<br>ttls-hops_hash: 6e63256a08e848566a5c8f03d148b8deb7ef5f5b<br>Router: 147.231.25.192",
           "Missing"
          ],
          [
           "RID: r795<br>ttls-hops_hash: 7542c4ee683fa5d6163166ef3ce3258d9401d38f<br>Router: 159.93.224.1",
           "RID: r672<br>ttls-hops_hash: 7542c4ee683fa5d6163166ef3ce3258d9401d38f<br>Router: 10.4.7.137",
           "RID: r1122<br>ttls-hops_hash: 7542c4ee683fa5d6163166ef3ce3258d9401d38f<br>Router: 10.4.7.136",
           "RID: r821<br>ttls-hops_hash: 7542c4ee683fa5d6163166ef3ce3258d9401d38f<br>Router: 144.206.254.34",
           "RID: r135<br>ttls-hops_hash: 7542c4ee683fa5d6163166ef3ce3258d9401d38f<br>Router: 144.206.254.33",
           "RID: r677<br>ttls-hops_hash: 7542c4ee683fa5d6163166ef3ce3258d9401d38f<br>Router: 62.40.125.121",
           "RID: r13<br>ttls-hops_hash: 7542c4ee683fa5d6163166ef3ce3258d9401d38f<br>Router: 62.40.98.39",
           "RID: r219<br>ttls-hops_hash: 7542c4ee683fa5d6163166ef3ce3258d9401d38f<br>Router: 62.40.98.21",
           "RID: r159<br>ttls-hops_hash: 7542c4ee683fa5d6163166ef3ce3258d9401d38f<br>Router: 62.40.98.159",
           "RID: r363<br>ttls-hops_hash: 7542c4ee683fa5d6163166ef3ce3258d9401d38f<br>Router: 62.40.124.30",
           "RID: unknown<br>ttls-hops_hash: 7542c4ee683fa5d6163166ef3ce3258d9401d38f<br>Router: unknown",
           "RID: r984<br>ttls-hops_hash: 7542c4ee683fa5d6163166ef3ce3258d9401d38f<br>Router: 195.113.69.53",
           "RID: r471<br>ttls-hops_hash: 7542c4ee683fa5d6163166ef3ce3258d9401d38f<br>Router: 147.231.18.214",
           "RID: r1213<br>ttls-hops_hash: 7542c4ee683fa5d6163166ef3ce3258d9401d38f<br>Router: 147.231.25.192",
           "Missing"
          ],
          [
           "RID: r795<br>ttls-hops_hash: 7759fbd3807bf30d74750c24dd6af8a02322cafa<br>Router: 159.93.224.1",
           "RID: r672<br>ttls-hops_hash: 7759fbd3807bf30d74750c24dd6af8a02322cafa<br>Router: 10.4.7.137",
           "RID: r1122<br>ttls-hops_hash: 7759fbd3807bf30d74750c24dd6af8a02322cafa<br>Router: 10.4.7.136",
           "RID: r821<br>ttls-hops_hash: 7759fbd3807bf30d74750c24dd6af8a02322cafa<br>Router: 144.206.254.34",
           "RID: r135<br>ttls-hops_hash: 7759fbd3807bf30d74750c24dd6af8a02322cafa<br>Router: 144.206.254.33",
           "RID: r677<br>ttls-hops_hash: 7759fbd3807bf30d74750c24dd6af8a02322cafa<br>Router: 62.40.125.121",
           "RID: r13<br>ttls-hops_hash: 7759fbd3807bf30d74750c24dd6af8a02322cafa<br>Router: 62.40.98.39",
           "RID: r219<br>ttls-hops_hash: 7759fbd3807bf30d74750c24dd6af8a02322cafa<br>Router: 62.40.98.21",
           "RID: r159<br>ttls-hops_hash: 7759fbd3807bf30d74750c24dd6af8a02322cafa<br>Router: 62.40.98.159",
           "RID: r363<br>ttls-hops_hash: 7759fbd3807bf30d74750c24dd6af8a02322cafa<br>Router: 62.40.124.30",
           "RID: unknown<br>ttls-hops_hash: 7759fbd3807bf30d74750c24dd6af8a02322cafa<br>Router: unknown",
           "RID: r984<br>ttls-hops_hash: 7759fbd3807bf30d74750c24dd6af8a02322cafa<br>Router: 195.113.69.53",
           "RID: r471<br>ttls-hops_hash: 7759fbd3807bf30d74750c24dd6af8a02322cafa<br>Router: 147.231.18.214",
           "RID: unknown<br>ttls-hops_hash: 7759fbd3807bf30d74750c24dd6af8a02322cafa<br>Router: unknown",
           "RID: r1213<br>ttls-hops_hash: 7759fbd3807bf30d74750c24dd6af8a02322cafa<br>Router: 147.231.25.192"
          ],
          [
           "RID: r795<br>ttls-hops_hash: 840f20b482ad1349c4cff243e16428538c826d97<br>Router: 159.93.224.1",
           "RID: r672<br>ttls-hops_hash: 840f20b482ad1349c4cff243e16428538c826d97<br>Router: 10.4.7.137",
           "RID: r1122<br>ttls-hops_hash: 840f20b482ad1349c4cff243e16428538c826d97<br>Router: 10.4.7.136",
           "RID: r821<br>ttls-hops_hash: 840f20b482ad1349c4cff243e16428538c826d97<br>Router: 144.206.254.34",
           "RID: r135<br>ttls-hops_hash: 840f20b482ad1349c4cff243e16428538c826d97<br>Router: 144.206.254.33",
           "RID: r677<br>ttls-hops_hash: 840f20b482ad1349c4cff243e16428538c826d97<br>Router: 62.40.125.121",
           "RID: r13<br>ttls-hops_hash: 840f20b482ad1349c4cff243e16428538c826d97<br>Router: 62.40.98.39",
           "RID: r219<br>ttls-hops_hash: 840f20b482ad1349c4cff243e16428538c826d97<br>Router: 62.40.98.21",
           "RID: r159<br>ttls-hops_hash: 840f20b482ad1349c4cff243e16428538c826d97<br>Router: 62.40.98.159",
           "RID: r363<br>ttls-hops_hash: 840f20b482ad1349c4cff243e16428538c826d97<br>Router: 62.40.124.30",
           "RID: unknown<br>ttls-hops_hash: 840f20b482ad1349c4cff243e16428538c826d97<br>Router: unknown",
           "RID: r984<br>ttls-hops_hash: 840f20b482ad1349c4cff243e16428538c826d97<br>Router: 195.113.69.53",
           "RID: r471<br>ttls-hops_hash: 840f20b482ad1349c4cff243e16428538c826d97<br>Router: 147.231.18.214",
           "Missing",
           "Missing"
          ],
          [
           "RID: r795<br>ttls-hops_hash: ca823ddace6d68d9cfe89332c67f4300e3ed0752<br>Router: 159.93.224.1",
           "RID: r145<br>ttls-hops_hash: ca823ddace6d68d9cfe89332c67f4300e3ed0752<br>Router: 10.4.8.139",
           "RID: r419<br>ttls-hops_hash: ca823ddace6d68d9cfe89332c67f4300e3ed0752<br>Router: 10.4.8.138",
           "RID: r163<br>ttls-hops_hash: ca823ddace6d68d9cfe89332c67f4300e3ed0752<br>Router: 144.206.254.151",
           "RID: r1048<br>ttls-hops_hash: ca823ddace6d68d9cfe89332c67f4300e3ed0752<br>Router: 144.206.254.150",
           "RID: r677<br>ttls-hops_hash: ca823ddace6d68d9cfe89332c67f4300e3ed0752<br>Router: 62.40.125.121",
           "RID: r13<br>ttls-hops_hash: ca823ddace6d68d9cfe89332c67f4300e3ed0752<br>Router: 62.40.98.39",
           "RID: r219<br>ttls-hops_hash: ca823ddace6d68d9cfe89332c67f4300e3ed0752<br>Router: 62.40.98.21",
           "RID: r159<br>ttls-hops_hash: ca823ddace6d68d9cfe89332c67f4300e3ed0752<br>Router: 62.40.98.159",
           "RID: r363<br>ttls-hops_hash: ca823ddace6d68d9cfe89332c67f4300e3ed0752<br>Router: 62.40.124.30",
           "RID: unknown<br>ttls-hops_hash: ca823ddace6d68d9cfe89332c67f4300e3ed0752<br>Router: unknown",
           "RID: r984<br>ttls-hops_hash: ca823ddace6d68d9cfe89332c67f4300e3ed0752<br>Router: 195.113.69.53",
           "RID: r471<br>ttls-hops_hash: ca823ddace6d68d9cfe89332c67f4300e3ed0752<br>Router: 147.231.18.214",
           "RID: r138<br>ttls-hops_hash: ca823ddace6d68d9cfe89332c67f4300e3ed0752<br>Router: 147.231.25.191",
           "Missing"
          ],
          [
           "RID: r795<br>ttls-hops_hash: d642d2d8010a8a0119b75f162fb4d4d754ec2805<br>Router: 159.93.224.1",
           "RID: r145<br>ttls-hops_hash: d642d2d8010a8a0119b75f162fb4d4d754ec2805<br>Router: 10.4.8.139",
           "RID: r1122<br>ttls-hops_hash: d642d2d8010a8a0119b75f162fb4d4d754ec2805<br>Router: 10.4.7.136",
           "RID: r821<br>ttls-hops_hash: d642d2d8010a8a0119b75f162fb4d4d754ec2805<br>Router: 144.206.254.34",
           "RID: r135<br>ttls-hops_hash: d642d2d8010a8a0119b75f162fb4d4d754ec2805<br>Router: 144.206.254.33",
           "RID: r677<br>ttls-hops_hash: d642d2d8010a8a0119b75f162fb4d4d754ec2805<br>Router: 62.40.125.121",
           "RID: r13<br>ttls-hops_hash: d642d2d8010a8a0119b75f162fb4d4d754ec2805<br>Router: 62.40.98.39",
           "RID: r219<br>ttls-hops_hash: d642d2d8010a8a0119b75f162fb4d4d754ec2805<br>Router: 62.40.98.21",
           "RID: r159<br>ttls-hops_hash: d642d2d8010a8a0119b75f162fb4d4d754ec2805<br>Router: 62.40.98.159",
           "RID: r363<br>ttls-hops_hash: d642d2d8010a8a0119b75f162fb4d4d754ec2805<br>Router: 62.40.124.30",
           "RID: unknown<br>ttls-hops_hash: d642d2d8010a8a0119b75f162fb4d4d754ec2805<br>Router: unknown",
           "RID: r984<br>ttls-hops_hash: d642d2d8010a8a0119b75f162fb4d4d754ec2805<br>Router: 195.113.69.53",
           "RID: r471<br>ttls-hops_hash: d642d2d8010a8a0119b75f162fb4d4d754ec2805<br>Router: 147.231.18.214",
           "RID: r1213<br>ttls-hops_hash: d642d2d8010a8a0119b75f162fb4d4d754ec2805<br>Router: 147.231.25.192",
           "Missing"
          ],
          [
           "RID: r795<br>ttls-hops_hash: d9236b6add16cd0e97853b8e7b6a869291a596ef<br>Router: 159.93.224.1",
           "RID: r145<br>ttls-hops_hash: d9236b6add16cd0e97853b8e7b6a869291a596ef<br>Router: 10.4.8.139",
           "RID: r419<br>ttls-hops_hash: d9236b6add16cd0e97853b8e7b6a869291a596ef<br>Router: 10.4.8.138",
           "RID: r163<br>ttls-hops_hash: d9236b6add16cd0e97853b8e7b6a869291a596ef<br>Router: 144.206.254.151",
           "RID: r1048<br>ttls-hops_hash: d9236b6add16cd0e97853b8e7b6a869291a596ef<br>Router: 144.206.254.150",
           "RID: r677<br>ttls-hops_hash: d9236b6add16cd0e97853b8e7b6a869291a596ef<br>Router: 62.40.125.121",
           "RID: unknown<br>ttls-hops_hash: d9236b6add16cd0e97853b8e7b6a869291a596ef<br>Router: unknown",
           "RID: r219<br>ttls-hops_hash: d9236b6add16cd0e97853b8e7b6a869291a596ef<br>Router: 62.40.98.21",
           "RID: r159<br>ttls-hops_hash: d9236b6add16cd0e97853b8e7b6a869291a596ef<br>Router: 62.40.98.159",
           "RID: r363<br>ttls-hops_hash: d9236b6add16cd0e97853b8e7b6a869291a596ef<br>Router: 62.40.124.30",
           "RID: unknown<br>ttls-hops_hash: d9236b6add16cd0e97853b8e7b6a869291a596ef<br>Router: unknown",
           "RID: r984<br>ttls-hops_hash: d9236b6add16cd0e97853b8e7b6a869291a596ef<br>Router: 195.113.69.53",
           "RID: r471<br>ttls-hops_hash: d9236b6add16cd0e97853b8e7b6a869291a596ef<br>Router: 147.231.18.214",
           "RID: r1213<br>ttls-hops_hash: d9236b6add16cd0e97853b8e7b6a869291a596ef<br>Router: 147.231.25.192",
           "Missing"
          ],
          [
           "RID: r795<br>ttls-hops_hash: ee1c1927e1e889dfdc8aab13bededdc105f98669<br>Router: 159.93.224.1",
           "RID: r672<br>ttls-hops_hash: ee1c1927e1e889dfdc8aab13bededdc105f98669<br>Router: 10.4.7.137",
           "RID: r419<br>ttls-hops_hash: ee1c1927e1e889dfdc8aab13bededdc105f98669<br>Router: 10.4.8.138",
           "RID: r163<br>ttls-hops_hash: ee1c1927e1e889dfdc8aab13bededdc105f98669<br>Router: 144.206.254.151",
           "RID: r1048<br>ttls-hops_hash: ee1c1927e1e889dfdc8aab13bededdc105f98669<br>Router: 144.206.254.150",
           "RID: r677<br>ttls-hops_hash: ee1c1927e1e889dfdc8aab13bededdc105f98669<br>Router: 62.40.125.121",
           "RID: r13<br>ttls-hops_hash: ee1c1927e1e889dfdc8aab13bededdc105f98669<br>Router: 62.40.98.39",
           "RID: r219<br>ttls-hops_hash: ee1c1927e1e889dfdc8aab13bededdc105f98669<br>Router: 62.40.98.21",
           "RID: r159<br>ttls-hops_hash: ee1c1927e1e889dfdc8aab13bededdc105f98669<br>Router: 62.40.98.159",
           "RID: r363<br>ttls-hops_hash: ee1c1927e1e889dfdc8aab13bededdc105f98669<br>Router: 62.40.124.30",
           "RID: unknown<br>ttls-hops_hash: ee1c1927e1e889dfdc8aab13bededdc105f98669<br>Router: unknown",
           "RID: r984<br>ttls-hops_hash: ee1c1927e1e889dfdc8aab13bededdc105f98669<br>Router: 195.113.69.53",
           "RID: r471<br>ttls-hops_hash: ee1c1927e1e889dfdc8aab13bededdc105f98669<br>Router: 147.231.18.214",
           "RID: r138<br>ttls-hops_hash: ee1c1927e1e889dfdc8aab13bededdc105f98669<br>Router: 147.231.25.191",
           "Missing"
          ],
          [
           "RID: r795<br>ttls-hops_hash: f3668e9e2459d3a7bf8e8070e7539ab148876193<br>Router: 159.93.224.1",
           "RID: r672<br>ttls-hops_hash: f3668e9e2459d3a7bf8e8070e7539ab148876193<br>Router: 10.4.7.137",
           "RID: r1122<br>ttls-hops_hash: f3668e9e2459d3a7bf8e8070e7539ab148876193<br>Router: 10.4.7.136",
           "RID: r821<br>ttls-hops_hash: f3668e9e2459d3a7bf8e8070e7539ab148876193<br>Router: 144.206.254.34",
           "RID: r135<br>ttls-hops_hash: f3668e9e2459d3a7bf8e8070e7539ab148876193<br>Router: 144.206.254.33",
           "RID: r677<br>ttls-hops_hash: f3668e9e2459d3a7bf8e8070e7539ab148876193<br>Router: 62.40.125.121",
           "RID: r13<br>ttls-hops_hash: f3668e9e2459d3a7bf8e8070e7539ab148876193<br>Router: 62.40.98.39",
           "RID: r219<br>ttls-hops_hash: f3668e9e2459d3a7bf8e8070e7539ab148876193<br>Router: 62.40.98.21",
           "RID: r159<br>ttls-hops_hash: f3668e9e2459d3a7bf8e8070e7539ab148876193<br>Router: 62.40.98.159",
           "RID: r363<br>ttls-hops_hash: f3668e9e2459d3a7bf8e8070e7539ab148876193<br>Router: 62.40.124.30",
           "RID: unknown<br>ttls-hops_hash: f3668e9e2459d3a7bf8e8070e7539ab148876193<br>Router: unknown",
           "RID: r984<br>ttls-hops_hash: f3668e9e2459d3a7bf8e8070e7539ab148876193<br>Router: 195.113.69.53",
           "RID: r471<br>ttls-hops_hash: f3668e9e2459d3a7bf8e8070e7539ab148876193<br>Router: 147.231.18.214",
           "RID: r138<br>ttls-hops_hash: f3668e9e2459d3a7bf8e8070e7539ab148876193<br>Router: 147.231.25.191",
           "Missing"
          ]
         ],
         "type": "heatmap",
         "x": [
          1,
          2,
          3,
          4,
          5,
          6,
          7,
          8,
          9,
          10,
          11,
          12,
          13,
          14,
          15
         ],
         "xgap": 1,
         "y": [
          "044f251680152add441d268f0edff622c9d74c35",
          "0a620223a51039738151ff76d429c046f4538261",
          "0aefd78477ff6dbfe1d97aa5485fceda76decb82",
          "2da6010c1fd8f7f3c56b72b569e77a173706eee2",
          "2ff5e2a5507348ab6e9fcec4a148a96db840680d",
          "3abe2566b32c4cbf4673cd3f2cf08bcac60f0b4c",
          "55dc5adb40c9f9d3c774055a92e8fcce33955a2f",
          "60a76b09e68c3d87d063c3cecac2980340b30abf",
          "6999e89eacd0c0f153727aaa922da4b58fa9c0fd",
          "6af3fa277bc7e04f11003cdfa8c98b6180401bb2",
          "6e63256a08e848566a5c8f03d148b8deb7ef5f5b",
          "7542c4ee683fa5d6163166ef3ce3258d9401d38f",
          "7759fbd3807bf30d74750c24dd6af8a02322cafa",
          "840f20b482ad1349c4cff243e16428538c826d97",
          "ca823ddace6d68d9cfe89332c67f4300e3ed0752",
          "d642d2d8010a8a0119b75f162fb4d4d754ec2805",
          "d9236b6add16cd0e97853b8e7b6a869291a596ef",
          "ee1c1927e1e889dfdc8aab13bededdc105f98669",
          "f3668e9e2459d3a7bf8e8070e7539ab148876193"
         ],
         "ygap": 1,
         "z": [
          [
           0,
           1,
           2,
           3,
           4,
           5,
           6,
           7,
           8,
           9,
           10,
           11,
           12,
           13,
           -1
          ],
          [
           0,
           14,
           15,
           16,
           -1,
           -1,
           -1,
           -1,
           -1,
           -1,
           -1,
           -1,
           -1,
           -1,
           -1
          ],
          [
           0,
           14,
           2,
           3,
           4,
           5,
           6,
           7,
           8,
           9,
           10,
           11,
           12,
           13,
           -1
          ],
          [
           0,
           1,
           2,
           16,
           17,
           5,
           6,
           7,
           8,
           9,
           10,
           11,
           12,
           18,
           -1
          ],
          [
           0,
           14,
           2,
           3,
           4,
           5,
           6,
           7,
           8,
           9,
           10,
           11,
           12,
           18,
           -1
          ],
          [
           0,
           14,
           2,
           16,
           17,
           5,
           6,
           7,
           8,
           9,
           10,
           11,
           12,
           18,
           -1
          ],
          [
           0,
           1,
           15,
           16,
           17,
           5,
           6,
           7,
           8,
           9,
           10,
           11,
           12,
           18,
           -1
          ],
          [
           0,
           1,
           2,
           3,
           4,
           5,
           6,
           7,
           8,
           9,
           10,
           11,
           12,
           18,
           -1
          ],
          [
           0,
           1,
           15,
           16,
           17,
           5,
           6,
           7,
           8,
           9,
           10,
           11,
           12,
           13,
           -1
          ],
          [
           0,
           14,
           15,
           16,
           17,
           5,
           6,
           7,
           8,
           9,
           10,
           11,
           12,
           13,
           -1
          ],
          [
           0,
           14,
           15,
           16,
           17,
           5,
           6,
           7,
           8,
           9,
           10,
           11,
           12,
           18,
           -1
          ],
          [
           0,
           14,
           15,
           3,
           4,
           5,
           6,
           7,
           8,
           9,
           10,
           11,
           12,
           18,
           -1
          ],
          [
           0,
           14,
           15,
           3,
           4,
           5,
           6,
           7,
           8,
           9,
           10,
           11,
           12,
           10,
           18
          ],
          [
           0,
           14,
           15,
           3,
           4,
           5,
           6,
           7,
           8,
           9,
           10,
           11,
           12,
           -1,
           -1
          ],
          [
           0,
           1,
           2,
           16,
           17,
           5,
           6,
           7,
           8,
           9,
           10,
           11,
           12,
           13,
           -1
          ],
          [
           0,
           1,
           15,
           3,
           4,
           5,
           6,
           7,
           8,
           9,
           10,
           11,
           12,
           18,
           -1
          ],
          [
           0,
           1,
           2,
           16,
           17,
           5,
           10,
           7,
           8,
           9,
           10,
           11,
           12,
           18,
           -1
          ],
          [
           0,
           14,
           2,
           16,
           17,
           5,
           6,
           7,
           8,
           9,
           10,
           11,
           12,
           13,
           -1
          ],
          [
           0,
           14,
           15,
           3,
           4,
           5,
           6,
           7,
           8,
           9,
           10,
           11,
           12,
           13,
           -1
          ]
         ],
         "zmax": 18,
         "zmin": -1
        }
       ],
       "layout": {
        "annotations": [
         {
          "showarrow": false,
          "text": "1",
          "x": 1.05,
          "xanchor": "left",
          "xref": "paper",
          "y": 0,
          "yref": "y"
         },
         {
          "showarrow": false,
          "text": "1",
          "x": 1.05,
          "xanchor": "left",
          "xref": "paper",
          "y": 1,
          "yref": "y"
         },
         {
          "showarrow": false,
          "text": "1",
          "x": 1.05,
          "xanchor": "left",
          "xref": "paper",
          "y": 2,
          "yref": "y"
         },
         {
          "showarrow": false,
          "text": "1",
          "x": 1.05,
          "xanchor": "left",
          "xref": "paper",
          "y": 3,
          "yref": "y"
         },
         {
          "showarrow": false,
          "text": "1",
          "x": 1.05,
          "xanchor": "left",
          "xref": "paper",
          "y": 4,
          "yref": "y"
         },
         {
          "showarrow": false,
          "text": "1",
          "x": 1.05,
          "xanchor": "left",
          "xref": "paper",
          "y": 5,
          "yref": "y"
         },
         {
          "showarrow": false,
          "text": "1",
          "x": 1.05,
          "xanchor": "left",
          "xref": "paper",
          "y": 6,
          "yref": "y"
         },
         {
          "showarrow": false,
          "text": "1",
          "x": 1.05,
          "xanchor": "left",
          "xref": "paper",
          "y": 7,
          "yref": "y"
         },
         {
          "showarrow": false,
          "text": "1",
          "x": 1.05,
          "xanchor": "left",
          "xref": "paper",
          "y": 8,
          "yref": "y"
         },
         {
          "showarrow": false,
          "text": "1",
          "x": 1.05,
          "xanchor": "left",
          "xref": "paper",
          "y": 9,
          "yref": "y"
         },
         {
          "showarrow": false,
          "text": "1",
          "x": 1.05,
          "xanchor": "left",
          "xref": "paper",
          "y": 10,
          "yref": "y"
         },
         {
          "showarrow": false,
          "text": "1",
          "x": 1.05,
          "xanchor": "left",
          "xref": "paper",
          "y": 11,
          "yref": "y"
         },
         {
          "showarrow": false,
          "text": "1",
          "x": 1.05,
          "xanchor": "left",
          "xref": "paper",
          "y": 12,
          "yref": "y"
         },
         {
          "showarrow": false,
          "text": "1",
          "x": 1.05,
          "xanchor": "left",
          "xref": "paper",
          "y": 13,
          "yref": "y"
         },
         {
          "showarrow": false,
          "text": "1",
          "x": 1.05,
          "xanchor": "left",
          "xref": "paper",
          "y": 14,
          "yref": "y"
         },
         {
          "showarrow": false,
          "text": "1",
          "x": 1.05,
          "xanchor": "left",
          "xref": "paper",
          "y": 15,
          "yref": "y"
         },
         {
          "showarrow": false,
          "text": "1",
          "x": 1.05,
          "xanchor": "left",
          "xref": "paper",
          "y": 16,
          "yref": "y"
         },
         {
          "showarrow": false,
          "text": "0",
          "x": 1.05,
          "xanchor": "left",
          "xref": "paper",
          "y": 17,
          "yref": "y"
         },
         {
          "showarrow": false,
          "text": "0",
          "x": 1.05,
          "xanchor": "left",
          "xref": "paper",
          "y": 18,
          "yref": "y"
         },
         {
          "font": {
           "color": "black",
           "size": 12
          },
          "showarrow": false,
          "text": "Destination Reached",
          "x": 1.02,
          "xanchor": "left",
          "xref": "x domain",
          "y": 1.1,
          "yref": "paper"
         }
        ],
        "autosize": true,
        "margin": {
         "r": 150
        },
        "template": {
         "data": {
          "bar": [
           {
            "error_x": {
             "color": "#2a3f5f"
            },
            "error_y": {
             "color": "#2a3f5f"
            },
            "marker": {
             "line": {
              "color": "#E5ECF6",
              "width": 0.5
             },
             "pattern": {
              "fillmode": "overlay",
              "size": 10,
              "solidity": 0.2
             }
            },
            "type": "bar"
           }
          ],
          "barpolar": [
           {
            "marker": {
             "line": {
              "color": "#E5ECF6",
              "width": 0.5
             },
             "pattern": {
              "fillmode": "overlay",
              "size": 10,
              "solidity": 0.2
             }
            },
            "type": "barpolar"
           }
          ],
          "carpet": [
           {
            "aaxis": {
             "endlinecolor": "#2a3f5f",
             "gridcolor": "white",
             "linecolor": "white",
             "minorgridcolor": "white",
             "startlinecolor": "#2a3f5f"
            },
            "baxis": {
             "endlinecolor": "#2a3f5f",
             "gridcolor": "white",
             "linecolor": "white",
             "minorgridcolor": "white",
             "startlinecolor": "#2a3f5f"
            },
            "type": "carpet"
           }
          ],
          "choropleth": [
           {
            "colorbar": {
             "outlinewidth": 0,
             "ticks": ""
            },
            "type": "choropleth"
           }
          ],
          "contour": [
           {
            "colorbar": {
             "outlinewidth": 0,
             "ticks": ""
            },
            "colorscale": [
             [
              0,
              "#0d0887"
             ],
             [
              0.1111111111111111,
              "#46039f"
             ],
             [
              0.2222222222222222,
              "#7201a8"
             ],
             [
              0.3333333333333333,
              "#9c179e"
             ],
             [
              0.4444444444444444,
              "#bd3786"
             ],
             [
              0.5555555555555556,
              "#d8576b"
             ],
             [
              0.6666666666666666,
              "#ed7953"
             ],
             [
              0.7777777777777778,
              "#fb9f3a"
             ],
             [
              0.8888888888888888,
              "#fdca26"
             ],
             [
              1,
              "#f0f921"
             ]
            ],
            "type": "contour"
           }
          ],
          "contourcarpet": [
           {
            "colorbar": {
             "outlinewidth": 0,
             "ticks": ""
            },
            "type": "contourcarpet"
           }
          ],
          "heatmap": [
           {
            "colorbar": {
             "outlinewidth": 0,
             "ticks": ""
            },
            "colorscale": [
             [
              0,
              "#0d0887"
             ],
             [
              0.1111111111111111,
              "#46039f"
             ],
             [
              0.2222222222222222,
              "#7201a8"
             ],
             [
              0.3333333333333333,
              "#9c179e"
             ],
             [
              0.4444444444444444,
              "#bd3786"
             ],
             [
              0.5555555555555556,
              "#d8576b"
             ],
             [
              0.6666666666666666,
              "#ed7953"
             ],
             [
              0.7777777777777778,
              "#fb9f3a"
             ],
             [
              0.8888888888888888,
              "#fdca26"
             ],
             [
              1,
              "#f0f921"
             ]
            ],
            "type": "heatmap"
           }
          ],
          "heatmapgl": [
           {
            "colorbar": {
             "outlinewidth": 0,
             "ticks": ""
            },
            "colorscale": [
             [
              0,
              "#0d0887"
             ],
             [
              0.1111111111111111,
              "#46039f"
             ],
             [
              0.2222222222222222,
              "#7201a8"
             ],
             [
              0.3333333333333333,
              "#9c179e"
             ],
             [
              0.4444444444444444,
              "#bd3786"
             ],
             [
              0.5555555555555556,
              "#d8576b"
             ],
             [
              0.6666666666666666,
              "#ed7953"
             ],
             [
              0.7777777777777778,
              "#fb9f3a"
             ],
             [
              0.8888888888888888,
              "#fdca26"
             ],
             [
              1,
              "#f0f921"
             ]
            ],
            "type": "heatmapgl"
           }
          ],
          "histogram": [
           {
            "marker": {
             "pattern": {
              "fillmode": "overlay",
              "size": 10,
              "solidity": 0.2
             }
            },
            "type": "histogram"
           }
          ],
          "histogram2d": [
           {
            "colorbar": {
             "outlinewidth": 0,
             "ticks": ""
            },
            "colorscale": [
             [
              0,
              "#0d0887"
             ],
             [
              0.1111111111111111,
              "#46039f"
             ],
             [
              0.2222222222222222,
              "#7201a8"
             ],
             [
              0.3333333333333333,
              "#9c179e"
             ],
             [
              0.4444444444444444,
              "#bd3786"
             ],
             [
              0.5555555555555556,
              "#d8576b"
             ],
             [
              0.6666666666666666,
              "#ed7953"
             ],
             [
              0.7777777777777778,
              "#fb9f3a"
             ],
             [
              0.8888888888888888,
              "#fdca26"
             ],
             [
              1,
              "#f0f921"
             ]
            ],
            "type": "histogram2d"
           }
          ],
          "histogram2dcontour": [
           {
            "colorbar": {
             "outlinewidth": 0,
             "ticks": ""
            },
            "colorscale": [
             [
              0,
              "#0d0887"
             ],
             [
              0.1111111111111111,
              "#46039f"
             ],
             [
              0.2222222222222222,
              "#7201a8"
             ],
             [
              0.3333333333333333,
              "#9c179e"
             ],
             [
              0.4444444444444444,
              "#bd3786"
             ],
             [
              0.5555555555555556,
              "#d8576b"
             ],
             [
              0.6666666666666666,
              "#ed7953"
             ],
             [
              0.7777777777777778,
              "#fb9f3a"
             ],
             [
              0.8888888888888888,
              "#fdca26"
             ],
             [
              1,
              "#f0f921"
             ]
            ],
            "type": "histogram2dcontour"
           }
          ],
          "mesh3d": [
           {
            "colorbar": {
             "outlinewidth": 0,
             "ticks": ""
            },
            "type": "mesh3d"
           }
          ],
          "parcoords": [
           {
            "line": {
             "colorbar": {
              "outlinewidth": 0,
              "ticks": ""
             }
            },
            "type": "parcoords"
           }
          ],
          "pie": [
           {
            "automargin": true,
            "type": "pie"
           }
          ],
          "scatter": [
           {
            "fillpattern": {
             "fillmode": "overlay",
             "size": 10,
             "solidity": 0.2
            },
            "type": "scatter"
           }
          ],
          "scatter3d": [
           {
            "line": {
             "colorbar": {
              "outlinewidth": 0,
              "ticks": ""
             }
            },
            "marker": {
             "colorbar": {
              "outlinewidth": 0,
              "ticks": ""
             }
            },
            "type": "scatter3d"
           }
          ],
          "scattercarpet": [
           {
            "marker": {
             "colorbar": {
              "outlinewidth": 0,
              "ticks": ""
             }
            },
            "type": "scattercarpet"
           }
          ],
          "scattergeo": [
           {
            "marker": {
             "colorbar": {
              "outlinewidth": 0,
              "ticks": ""
             }
            },
            "type": "scattergeo"
           }
          ],
          "scattergl": [
           {
            "marker": {
             "colorbar": {
              "outlinewidth": 0,
              "ticks": ""
             }
            },
            "type": "scattergl"
           }
          ],
          "scattermapbox": [
           {
            "marker": {
             "colorbar": {
              "outlinewidth": 0,
              "ticks": ""
             }
            },
            "type": "scattermapbox"
           }
          ],
          "scatterpolar": [
           {
            "marker": {
             "colorbar": {
              "outlinewidth": 0,
              "ticks": ""
             }
            },
            "type": "scatterpolar"
           }
          ],
          "scatterpolargl": [
           {
            "marker": {
             "colorbar": {
              "outlinewidth": 0,
              "ticks": ""
             }
            },
            "type": "scatterpolargl"
           }
          ],
          "scatterternary": [
           {
            "marker": {
             "colorbar": {
              "outlinewidth": 0,
              "ticks": ""
             }
            },
            "type": "scatterternary"
           }
          ],
          "surface": [
           {
            "colorbar": {
             "outlinewidth": 0,
             "ticks": ""
            },
            "colorscale": [
             [
              0,
              "#0d0887"
             ],
             [
              0.1111111111111111,
              "#46039f"
             ],
             [
              0.2222222222222222,
              "#7201a8"
             ],
             [
              0.3333333333333333,
              "#9c179e"
             ],
             [
              0.4444444444444444,
              "#bd3786"
             ],
             [
              0.5555555555555556,
              "#d8576b"
             ],
             [
              0.6666666666666666,
              "#ed7953"
             ],
             [
              0.7777777777777778,
              "#fb9f3a"
             ],
             [
              0.8888888888888888,
              "#fdca26"
             ],
             [
              1,
              "#f0f921"
             ]
            ],
            "type": "surface"
           }
          ],
          "table": [
           {
            "cells": {
             "fill": {
              "color": "#EBF0F8"
             },
             "line": {
              "color": "white"
             }
            },
            "header": {
             "fill": {
              "color": "#C8D4E3"
             },
             "line": {
              "color": "white"
             }
            },
            "type": "table"
           }
          ]
         },
         "layout": {
          "annotationdefaults": {
           "arrowcolor": "#2a3f5f",
           "arrowhead": 0,
           "arrowwidth": 1
          },
          "autotypenumbers": "strict",
          "coloraxis": {
           "colorbar": {
            "outlinewidth": 0,
            "ticks": ""
           }
          },
          "colorscale": {
           "diverging": [
            [
             0,
             "#8e0152"
            ],
            [
             0.1,
             "#c51b7d"
            ],
            [
             0.2,
             "#de77ae"
            ],
            [
             0.3,
             "#f1b6da"
            ],
            [
             0.4,
             "#fde0ef"
            ],
            [
             0.5,
             "#f7f7f7"
            ],
            [
             0.6,
             "#e6f5d0"
            ],
            [
             0.7,
             "#b8e186"
            ],
            [
             0.8,
             "#7fbc41"
            ],
            [
             0.9,
             "#4d9221"
            ],
            [
             1,
             "#276419"
            ]
           ],
           "sequential": [
            [
             0,
             "#0d0887"
            ],
            [
             0.1111111111111111,
             "#46039f"
            ],
            [
             0.2222222222222222,
             "#7201a8"
            ],
            [
             0.3333333333333333,
             "#9c179e"
            ],
            [
             0.4444444444444444,
             "#bd3786"
            ],
            [
             0.5555555555555556,
             "#d8576b"
            ],
            [
             0.6666666666666666,
             "#ed7953"
            ],
            [
             0.7777777777777778,
             "#fb9f3a"
            ],
            [
             0.8888888888888888,
             "#fdca26"
            ],
            [
             1,
             "#f0f921"
            ]
           ],
           "sequentialminus": [
            [
             0,
             "#0d0887"
            ],
            [
             0.1111111111111111,
             "#46039f"
            ],
            [
             0.2222222222222222,
             "#7201a8"
            ],
            [
             0.3333333333333333,
             "#9c179e"
            ],
            [
             0.4444444444444444,
             "#bd3786"
            ],
            [
             0.5555555555555556,
             "#d8576b"
            ],
            [
             0.6666666666666666,
             "#ed7953"
            ],
            [
             0.7777777777777778,
             "#fb9f3a"
            ],
            [
             0.8888888888888888,
             "#fdca26"
            ],
            [
             1,
             "#f0f921"
            ]
           ]
          },
          "colorway": [
           "#636efa",
           "#EF553B",
           "#00cc96",
           "#ab63fa",
           "#FFA15A",
           "#19d3f3",
           "#FF6692",
           "#B6E880",
           "#FF97FF",
           "#FECB52"
          ],
          "font": {
           "color": "#2a3f5f"
          },
          "geo": {
           "bgcolor": "white",
           "lakecolor": "white",
           "landcolor": "#E5ECF6",
           "showlakes": true,
           "showland": true,
           "subunitcolor": "white"
          },
          "hoverlabel": {
           "align": "left"
          },
          "hovermode": "closest",
          "mapbox": {
           "style": "light"
          },
          "paper_bgcolor": "white",
          "plot_bgcolor": "#E5ECF6",
          "polar": {
           "angularaxis": {
            "gridcolor": "white",
            "linecolor": "white",
            "ticks": ""
           },
           "bgcolor": "#E5ECF6",
           "radialaxis": {
            "gridcolor": "white",
            "linecolor": "white",
            "ticks": ""
           }
          },
          "scene": {
           "xaxis": {
            "backgroundcolor": "#E5ECF6",
            "gridcolor": "white",
            "gridwidth": 2,
            "linecolor": "white",
            "showbackground": true,
            "ticks": "",
            "zerolinecolor": "white"
           },
           "yaxis": {
            "backgroundcolor": "#E5ECF6",
            "gridcolor": "white",
            "gridwidth": 2,
            "linecolor": "white",
            "showbackground": true,
            "ticks": "",
            "zerolinecolor": "white"
           },
           "zaxis": {
            "backgroundcolor": "#E5ECF6",
            "gridcolor": "white",
            "gridwidth": 2,
            "linecolor": "white",
            "showbackground": true,
            "ticks": "",
            "zerolinecolor": "white"
           }
          },
          "shapedefaults": {
           "line": {
            "color": "#2a3f5f"
           }
          },
          "ternary": {
           "aaxis": {
            "gridcolor": "white",
            "linecolor": "white",
            "ticks": ""
           },
           "baxis": {
            "gridcolor": "white",
            "linecolor": "white",
            "ticks": ""
           },
           "bgcolor": "#E5ECF6",
           "caxis": {
            "gridcolor": "white",
            "linecolor": "white",
            "ticks": ""
           }
          },
          "title": {
           "x": 0.05
          },
          "xaxis": {
           "automargin": true,
           "gridcolor": "white",
           "linecolor": "white",
           "ticks": "",
           "title": {
            "standoff": 15
           },
           "zerolinecolor": "white",
           "zerolinewidth": 2
          },
          "yaxis": {
           "automargin": true,
           "gridcolor": "white",
           "linecolor": "white",
           "ticks": "",
           "title": {
            "standoff": 15
           },
           "zerolinecolor": "white",
           "zerolinewidth": 2
          }
         }
        },
        "title": {
         "text": "Path signature between JINR-LCG2 and PRAGUELCG2"
        },
        "xaxis": {
         "autorange": true,
         "range": [
          0.5,
          15.5
         ],
         "title": {
          "text": "TTL"
         },
         "type": "linear"
        },
        "yaxis": {
         "autorange": true,
         "range": [
          -0.8019801980198019,
          18.801980198019802
         ],
         "title": {
          "text": "Path Identifier (ttls-hops_hash)"
         },
         "type": "category"
        }
       }
      },
      "image/png": "[encoded data removed]",
      "text/html": [
       "<div>                            <div id=\"8f0c44c3-311d-455c-9a05-1d41ac368ba9\" class=\"plotly-graph-div\" style=\"height:400px; width:100%;\"></div>            <script type=\"text/javascript\">                require([\"plotly\"], function(Plotly) {                    window.PLOTLYENV=window.PLOTLYENV || {};                                    if (document.getElementById(\"8f0c44c3-311d-455c-9a05-1d41ac368ba9\")) {                    Plotly.newPlot(                        \"8f0c44c3-311d-455c-9a05-1d41ac368ba9\",                        [{\"colorscale\":[[0.0,\"#FFFFFF\"],[0.05263157894736842,\"rgba(31, 119, 180, 1)\"],[0.10526315789473684,\"rgba(174, 199, 232, 1)\"],[0.15789473684210525,\"rgba(255, 127, 14, 1)\"],[0.21052631578947367,\"rgba(255, 187, 120, 1)\"],[0.2631578947368421,\"rgba(44, 160, 44, 1)\"],[0.3157894736842105,\"rgba(152, 223, 138, 1)\"],[0.3684210526315789,\"rgba(214, 39, 40, 1)\"],[0.42105263157894735,\"rgba(255, 152, 150, 1)\"],[0.47368421052631576,\"rgba(148, 103, 189, 1)\"],[0.5263157894736842,\"rgba(140, 86, 75, 1)\"],[0.5789473684210527,\"black\"],[0.631578947368421,\"rgba(227, 119, 194, 1)\"],[0.6842105263157895,\"rgba(247, 182, 210, 1)\"],[0.7368421052631579,\"rgba(127, 127, 127, 1)\"],[0.7894736842105263,\"rgba(199, 199, 199, 1)\"],[0.8421052631578947,\"rgba(188, 189, 34, 1)\"],[0.8947368421052632,\"rgba(219, 219, 141, 1)\"],[0.9473684210526315,\"rgba(23, 190, 207, 1)\"],[1.0,\"rgba(158, 218, 229, 1)\"]],\"hoverinfo\":\"text\",\"showscale\":false,\"text\":[[\"RID: r795\\u003cbr\\u003ettls-hops_hash: 044f251680152add441d268f0edff622c9d74c35\\u003cbr\\u003eRouter: 159.93.224.1\",\"RID: r145\\u003cbr\\u003ettls-hops_hash: 044f251680152add441d268f0edff622c9d74c35\\u003cbr\\u003eRouter: 10.4.8.139\",\"RID: r419\\u003cbr\\u003ettls-hops_hash: 044f251680152add441d268f0edff622c9d74c35\\u003cbr\\u003eRouter: 10.4.8.138\",\"RID: r821\\u003cbr\\u003ettls-hops_hash: 044f251680152add441d268f0edff622c9d74c35\\u003cbr\\u003eRouter: 144.206.254.34\",\"RID: r135\\u003cbr\\u003ettls-hops_hash: 044f251680152add441d268f0edff622c9d74c35\\u003cbr\\u003eRouter: 144.206.254.33\",\"RID: r677\\u003cbr\\u003ettls-hops_hash: 044f251680152add441d268f0edff622c9d74c35\\u003cbr\\u003eRouter: 62.40.125.121\",\"RID: r13\\u003cbr\\u003ettls-hops_hash: 044f251680152add441d268f0edff622c9d74c35\\u003cbr\\u003eRouter: 62.40.98.39\",\"RID: r219\\u003cbr\\u003ettls-hops_hash: 044f251680152add441d268f0edff622c9d74c35\\u003cbr\\u003eRouter: 62.40.98.21\",\"RID: r159\\u003cbr\\u003ettls-hops_hash: 044f251680152add441d268f0edff622c9d74c35\\u003cbr\\u003eRouter: 62.40.98.159\",\"RID: r363\\u003cbr\\u003ettls-hops_hash: 044f251680152add441d268f0edff622c9d74c35\\u003cbr\\u003eRouter: 62.40.124.30\",\"RID: unknown\\u003cbr\\u003ettls-hops_hash: 044f251680152add441d268f0edff622c9d74c35\\u003cbr\\u003eRouter: unknown\",\"RID: r984\\u003cbr\\u003ettls-hops_hash: 044f251680152add441d268f0edff622c9d74c35\\u003cbr\\u003eRouter: 195.113.69.53\",\"RID: r471\\u003cbr\\u003ettls-hops_hash: 044f251680152add441d268f0edff622c9d74c35\\u003cbr\\u003eRouter: 147.231.18.214\",\"RID: r138\\u003cbr\\u003ettls-hops_hash: 044f251680152add441d268f0edff622c9d74c35\\u003cbr\\u003eRouter: 147.231.25.191\",\"Missing\"],[\"RID: r795\\u003cbr\\u003ettls-hops_hash: 0a620223a51039738151ff76d429c046f4538261\\u003cbr\\u003eRouter: 159.93.224.1\",\"RID: r672\\u003cbr\\u003ettls-hops_hash: 0a620223a51039738151ff76d429c046f4538261\\u003cbr\\u003eRouter: 10.4.7.137\",\"RID: r1122\\u003cbr\\u003ettls-hops_hash: 0a620223a51039738151ff76d429c046f4538261\\u003cbr\\u003eRouter: 10.4.7.136\",\"RID: r163\\u003cbr\\u003ettls-hops_hash: 0a620223a51039738151ff76d429c046f4538261\\u003cbr\\u003eRouter: 144.206.254.151\",\"Missing\",\"Missing\",\"Missing\",\"Missing\",\"Missing\",\"Missing\",\"Missing\",\"Missing\",\"Missing\",\"Missing\",\"Missing\"],[\"RID: r795\\u003cbr\\u003ettls-hops_hash: 0aefd78477ff6dbfe1d97aa5485fceda76decb82\\u003cbr\\u003eRouter: 159.93.224.1\",\"RID: r672\\u003cbr\\u003ettls-hops_hash: 0aefd78477ff6dbfe1d97aa5485fceda76decb82\\u003cbr\\u003eRouter: 10.4.7.137\",\"RID: r419\\u003cbr\\u003ettls-hops_hash: 0aefd78477ff6dbfe1d97aa5485fceda76decb82\\u003cbr\\u003eRouter: 10.4.8.138\",\"RID: r821\\u003cbr\\u003ettls-hops_hash: 0aefd78477ff6dbfe1d97aa5485fceda76decb82\\u003cbr\\u003eRouter: 144.206.254.34\",\"RID: r135\\u003cbr\\u003ettls-hops_hash: 0aefd78477ff6dbfe1d97aa5485fceda76decb82\\u003cbr\\u003eRouter: 144.206.254.33\",\"RID: r677\\u003cbr\\u003ettls-hops_hash: 0aefd78477ff6dbfe1d97aa5485fceda76decb82\\u003cbr\\u003eRouter: 62.40.125.121\",\"RID: r13\\u003cbr\\u003ettls-hops_hash: 0aefd78477ff6dbfe1d97aa5485fceda76decb82\\u003cbr\\u003eRouter: 62.40.98.39\",\"RID: r219\\u003cbr\\u003ettls-hops_hash: 0aefd78477ff6dbfe1d97aa5485fceda76decb82\\u003cbr\\u003eRouter: 62.40.98.21\",\"RID: r159\\u003cbr\\u003ettls-hops_hash: 0aefd78477ff6dbfe1d97aa5485fceda76decb82\\u003cbr\\u003eRouter: 62.40.98.159\",\"RID: r363\\u003cbr\\u003ettls-hops_hash: 0aefd78477ff6dbfe1d97aa5485fceda76decb82\\u003cbr\\u003eRouter: 62.40.124.30\",\"RID: unknown\\u003cbr\\u003ettls-hops_hash: 0aefd78477ff6dbfe1d97aa5485fceda76decb82\\u003cbr\\u003eRouter: unknown\",\"RID: r984\\u003cbr\\u003ettls-hops_hash: 0aefd78477ff6dbfe1d97aa5485fceda76decb82\\u003cbr\\u003eRouter: 195.113.69.53\",\"RID: r471\\u003cbr\\u003ettls-hops_hash: 0aefd78477ff6dbfe1d97aa5485fceda76decb82\\u003cbr\\u003eRouter: 147.231.18.214\",\"RID: r138\\u003cbr\\u003ettls-hops_hash: 0aefd78477ff6dbfe1d97aa5485fceda76decb82\\u003cbr\\u003eRouter: 147.231.25.191\",\"Missing\"],[\"RID: r795\\u003cbr\\u003ettls-hops_hash: 2da6010c1fd8f7f3c56b72b569e77a173706eee2\\u003cbr\\u003eRouter: 159.93.224.1\",\"RID: r145\\u003cbr\\u003ettls-hops_hash: 2da6010c1fd8f7f3c56b72b569e77a173706eee2\\u003cbr\\u003eRouter: 10.4.8.139\",\"RID: r419\\u003cbr\\u003ettls-hops_hash: 2da6010c1fd8f7f3c56b72b569e77a173706eee2\\u003cbr\\u003eRouter: 10.4.8.138\",\"RID: r163\\u003cbr\\u003ettls-hops_hash: 2da6010c1fd8f7f3c56b72b569e77a173706eee2\\u003cbr\\u003eRouter: 144.206.254.151\",\"RID: r1048\\u003cbr\\u003ettls-hops_hash: 2da6010c1fd8f7f3c56b72b569e77a173706eee2\\u003cbr\\u003eRouter: 144.206.254.150\",\"RID: r677\\u003cbr\\u003ettls-hops_hash: 2da6010c1fd8f7f3c56b72b569e77a173706eee2\\u003cbr\\u003eRouter: 62.40.125.121\",\"RID: r13\\u003cbr\\u003ettls-hops_hash: 2da6010c1fd8f7f3c56b72b569e77a173706eee2\\u003cbr\\u003eRouter: 62.40.98.39\",\"RID: r219\\u003cbr\\u003ettls-hops_hash: 2da6010c1fd8f7f3c56b72b569e77a173706eee2\\u003cbr\\u003eRouter: 62.40.98.21\",\"RID: r159\\u003cbr\\u003ettls-hops_hash: 2da6010c1fd8f7f3c56b72b569e77a173706eee2\\u003cbr\\u003eRouter: 62.40.98.159\",\"RID: r363\\u003cbr\\u003ettls-hops_hash: 2da6010c1fd8f7f3c56b72b569e77a173706eee2\\u003cbr\\u003eRouter: 62.40.124.30\",\"RID: unknown\\u003cbr\\u003ettls-hops_hash: 2da6010c1fd8f7f3c56b72b569e77a173706eee2\\u003cbr\\u003eRouter: unknown\",\"RID: r984\\u003cbr\\u003ettls-hops_hash: 2da6010c1fd8f7f3c56b72b569e77a173706eee2\\u003cbr\\u003eRouter: 195.113.69.53\",\"RID: r471\\u003cbr\\u003ettls-hops_hash: 2da6010c1fd8f7f3c56b72b569e77a173706eee2\\u003cbr\\u003eRouter: 147.231.18.214\",\"RID: r1213\\u003cbr\\u003ettls-hops_hash: 2da6010c1fd8f7f3c56b72b569e77a173706eee2\\u003cbr\\u003eRouter: 147.231.25.192\",\"Missing\"],[\"RID: r795\\u003cbr\\u003ettls-hops_hash: 2ff5e2a5507348ab6e9fcec4a148a96db840680d\\u003cbr\\u003eRouter: 159.93.224.1\",\"RID: r672\\u003cbr\\u003ettls-hops_hash: 2ff5e2a5507348ab6e9fcec4a148a96db840680d\\u003cbr\\u003eRouter: 10.4.7.137\",\"RID: r419\\u003cbr\\u003ettls-hops_hash: 2ff5e2a5507348ab6e9fcec4a148a96db840680d\\u003cbr\\u003eRouter: 10.4.8.138\",\"RID: r821\\u003cbr\\u003ettls-hops_hash: 2ff5e2a5507348ab6e9fcec4a148a96db840680d\\u003cbr\\u003eRouter: 144.206.254.34\",\"RID: r135\\u003cbr\\u003ettls-hops_hash: 2ff5e2a5507348ab6e9fcec4a148a96db840680d\\u003cbr\\u003eRouter: 144.206.254.33\",\"RID: r677\\u003cbr\\u003ettls-hops_hash: 2ff5e2a5507348ab6e9fcec4a148a96db840680d\\u003cbr\\u003eRouter: 62.40.125.121\",\"RID: r13\\u003cbr\\u003ettls-hops_hash: 2ff5e2a5507348ab6e9fcec4a148a96db840680d\\u003cbr\\u003eRouter: 62.40.98.39\",\"RID: r219\\u003cbr\\u003ettls-hops_hash: 2ff5e2a5507348ab6e9fcec4a148a96db840680d\\u003cbr\\u003eRouter: 62.40.98.21\",\"RID: r159\\u003cbr\\u003ettls-hops_hash: 2ff5e2a5507348ab6e9fcec4a148a96db840680d\\u003cbr\\u003eRouter: 62.40.98.159\",\"RID: r363\\u003cbr\\u003ettls-hops_hash: 2ff5e2a5507348ab6e9fcec4a148a96db840680d\\u003cbr\\u003eRouter: 62.40.124.30\",\"RID: unknown\\u003cbr\\u003ettls-hops_hash: 2ff5e2a5507348ab6e9fcec4a148a96db840680d\\u003cbr\\u003eRouter: unknown\",\"RID: r984\\u003cbr\\u003ettls-hops_hash: 2ff5e2a5507348ab6e9fcec4a148a96db840680d\\u003cbr\\u003eRouter: 195.113.69.53\",\"RID: r471\\u003cbr\\u003ettls-hops_hash: 2ff5e2a5507348ab6e9fcec4a148a96db840680d\\u003cbr\\u003eRouter: 147.231.18.214\",\"RID: r1213\\u003cbr\\u003ettls-hops_hash: 2ff5e2a5507348ab6e9fcec4a148a96db840680d\\u003cbr\\u003eRouter: 147.231.25.192\",\"Missing\"],[\"RID: r795\\u003cbr\\u003ettls-hops_hash: 3abe2566b32c4cbf4673cd3f2cf08bcac60f0b4c\\u003cbr\\u003eRouter: 159.93.224.1\",\"RID: r672\\u003cbr\\u003ettls-hops_hash: 3abe2566b32c4cbf4673cd3f2cf08bcac60f0b4c\\u003cbr\\u003eRouter: 10.4.7.137\",\"RID: r419\\u003cbr\\u003ettls-hops_hash: 3abe2566b32c4cbf4673cd3f2cf08bcac60f0b4c\\u003cbr\\u003eRouter: 10.4.8.138\",\"RID: r163\\u003cbr\\u003ettls-hops_hash: 3abe2566b32c4cbf4673cd3f2cf08bcac60f0b4c\\u003cbr\\u003eRouter: 144.206.254.151\",\"RID: r1048\\u003cbr\\u003ettls-hops_hash: 3abe2566b32c4cbf4673cd3f2cf08bcac60f0b4c\\u003cbr\\u003eRouter: 144.206.254.150\",\"RID: r677\\u003cbr\\u003ettls-hops_hash: 3abe2566b32c4cbf4673cd3f2cf08bcac60f0b4c\\u003cbr\\u003eRouter: 62.40.125.121\",\"RID: r13\\u003cbr\\u003ettls-hops_hash: 3abe2566b32c4cbf4673cd3f2cf08bcac60f0b4c\\u003cbr\\u003eRouter: 62.40.98.39\",\"RID: r219\\u003cbr\\u003ettls-hops_hash: 3abe2566b32c4cbf4673cd3f2cf08bcac60f0b4c\\u003cbr\\u003eRouter: 62.40.98.21\",\"RID: r159\\u003cbr\\u003ettls-hops_hash: 3abe2566b32c4cbf4673cd3f2cf08bcac60f0b4c\\u003cbr\\u003eRouter: 62.40.98.159\",\"RID: r363\\u003cbr\\u003ettls-hops_hash: 3abe2566b32c4cbf4673cd3f2cf08bcac60f0b4c\\u003cbr\\u003eRouter: 62.40.124.30\",\"RID: unknown\\u003cbr\\u003ettls-hops_hash: 3abe2566b32c4cbf4673cd3f2cf08bcac60f0b4c\\u003cbr\\u003eRouter: unknown\",\"RID: r984\\u003cbr\\u003ettls-hops_hash: 3abe2566b32c4cbf4673cd3f2cf08bcac60f0b4c\\u003cbr\\u003eRouter: 195.113.69.53\",\"RID: r471\\u003cbr\\u003ettls-hops_hash: 3abe2566b32c4cbf4673cd3f2cf08bcac60f0b4c\\u003cbr\\u003eRouter: 147.231.18.214\",\"RID: r1213\\u003cbr\\u003ettls-hops_hash: 3abe2566b32c4cbf4673cd3f2cf08bcac60f0b4c\\u003cbr\\u003eRouter: 147.231.25.192\",\"Missing\"],[\"RID: r795\\u003cbr\\u003ettls-hops_hash: 55dc5adb40c9f9d3c774055a92e8fcce33955a2f\\u003cbr\\u003eRouter: 159.93.224.1\",\"RID: r145\\u003cbr\\u003ettls-hops_hash: 55dc5adb40c9f9d3c774055a92e8fcce33955a2f\\u003cbr\\u003eRouter: 10.4.8.139\",\"RID: r1122\\u003cbr\\u003ettls-hops_hash: 55dc5adb40c9f9d3c774055a92e8fcce33955a2f\\u003cbr\\u003eRouter: 10.4.7.136\",\"RID: r163\\u003cbr\\u003ettls-hops_hash: 55dc5adb40c9f9d3c774055a92e8fcce33955a2f\\u003cbr\\u003eRouter: 144.206.254.151\",\"RID: r1048\\u003cbr\\u003ettls-hops_hash: 55dc5adb40c9f9d3c774055a92e8fcce33955a2f\\u003cbr\\u003eRouter: 144.206.254.150\",\"RID: r677\\u003cbr\\u003ettls-hops_hash: 55dc5adb40c9f9d3c774055a92e8fcce33955a2f\\u003cbr\\u003eRouter: 62.40.125.121\",\"RID: r13\\u003cbr\\u003ettls-hops_hash: 55dc5adb40c9f9d3c774055a92e8fcce33955a2f\\u003cbr\\u003eRouter: 62.40.98.39\",\"RID: r219\\u003cbr\\u003ettls-hops_hash: 55dc5adb40c9f9d3c774055a92e8fcce33955a2f\\u003cbr\\u003eRouter: 62.40.98.21\",\"RID: r159\\u003cbr\\u003ettls-hops_hash: 55dc5adb40c9f9d3c774055a92e8fcce33955a2f\\u003cbr\\u003eRouter: 62.40.98.159\",\"RID: r363\\u003cbr\\u003ettls-hops_hash: 55dc5adb40c9f9d3c774055a92e8fcce33955a2f\\u003cbr\\u003eRouter: 62.40.124.30\",\"RID: unknown\\u003cbr\\u003ettls-hops_hash: 55dc5adb40c9f9d3c774055a92e8fcce33955a2f\\u003cbr\\u003eRouter: unknown\",\"RID: r984\\u003cbr\\u003ettls-hops_hash: 55dc5adb40c9f9d3c774055a92e8fcce33955a2f\\u003cbr\\u003eRouter: 195.113.69.53\",\"RID: r471\\u003cbr\\u003ettls-hops_hash: 55dc5adb40c9f9d3c774055a92e8fcce33955a2f\\u003cbr\\u003eRouter: 147.231.18.214\",\"RID: r1213\\u003cbr\\u003ettls-hops_hash: 55dc5adb40c9f9d3c774055a92e8fcce33955a2f\\u003cbr\\u003eRouter: 147.231.25.192\",\"Missing\"],[\"RID: r795\\u003cbr\\u003ettls-hops_hash: 60a76b09e68c3d87d063c3cecac2980340b30abf\\u003cbr\\u003eRouter: 159.93.224.1\",\"RID: r145\\u003cbr\\u003ettls-hops_hash: 60a76b09e68c3d87d063c3cecac2980340b30abf\\u003cbr\\u003eRouter: 10.4.8.139\",\"RID: r419\\u003cbr\\u003ettls-hops_hash: 60a76b09e68c3d87d063c3cecac2980340b30abf\\u003cbr\\u003eRouter: 10.4.8.138\",\"RID: r821\\u003cbr\\u003ettls-hops_hash: 60a76b09e68c3d87d063c3cecac2980340b30abf\\u003cbr\\u003eRouter: 144.206.254.34\",\"RID: r135\\u003cbr\\u003ettls-hops_hash: 60a76b09e68c3d87d063c3cecac2980340b30abf\\u003cbr\\u003eRouter: 144.206.254.33\",\"RID: r677\\u003cbr\\u003ettls-hops_hash: 60a76b09e68c3d87d063c3cecac2980340b30abf\\u003cbr\\u003eRouter: 62.40.125.121\",\"RID: r13\\u003cbr\\u003ettls-hops_hash: 60a76b09e68c3d87d063c3cecac2980340b30abf\\u003cbr\\u003eRouter: 62.40.98.39\",\"RID: r219\\u003cbr\\u003ettls-hops_hash: 60a76b09e68c3d87d063c3cecac2980340b30abf\\u003cbr\\u003eRouter: 62.40.98.21\",\"RID: r159\\u003cbr\\u003ettls-hops_hash: 60a76b09e68c3d87d063c3cecac2980340b30abf\\u003cbr\\u003eRouter: 62.40.98.159\",\"RID: r363\\u003cbr\\u003ettls-hops_hash: 60a76b09e68c3d87d063c3cecac2980340b30abf\\u003cbr\\u003eRouter: 62.40.124.30\",\"RID: unknown\\u003cbr\\u003ettls-hops_hash: 60a76b09e68c3d87d063c3cecac2980340b30abf\\u003cbr\\u003eRouter: unknown\",\"RID: r984\\u003cbr\\u003ettls-hops_hash: 60a76b09e68c3d87d063c3cecac2980340b30abf\\u003cbr\\u003eRouter: 195.113.69.53\",\"RID: r471\\u003cbr\\u003ettls-hops_hash: 60a76b09e68c3d87d063c3cecac2980340b30abf\\u003cbr\\u003eRouter: 147.231.18.214\",\"RID: r1213\\u003cbr\\u003ettls-hops_hash: 60a76b09e68c3d87d063c3cecac2980340b30abf\\u003cbr\\u003eRouter: 147.231.25.192\",\"Missing\"],[\"RID: r795\\u003cbr\\u003ettls-hops_hash: 6999e89eacd0c0f153727aaa922da4b58fa9c0fd\\u003cbr\\u003eRouter: 159.93.224.1\",\"RID: r145\\u003cbr\\u003ettls-hops_hash: 6999e89eacd0c0f153727aaa922da4b58fa9c0fd\\u003cbr\\u003eRouter: 10.4.8.139\",\"RID: r1122\\u003cbr\\u003ettls-hops_hash: 6999e89eacd0c0f153727aaa922da4b58fa9c0fd\\u003cbr\\u003eRouter: 10.4.7.136\",\"RID: r163\\u003cbr\\u003ettls-hops_hash: 6999e89eacd0c0f153727aaa922da4b58fa9c0fd\\u003cbr\\u003eRouter: 144.206.254.151\",\"RID: r1048\\u003cbr\\u003ettls-hops_hash: 6999e89eacd0c0f153727aaa922da4b58fa9c0fd\\u003cbr\\u003eRouter: 144.206.254.150\",\"RID: r677\\u003cbr\\u003ettls-hops_hash: 6999e89eacd0c0f153727aaa922da4b58fa9c0fd\\u003cbr\\u003eRouter: 62.40.125.121\",\"RID: r13\\u003cbr\\u003ettls-hops_hash: 6999e89eacd0c0f153727aaa922da4b58fa9c0fd\\u003cbr\\u003eRouter: 62.40.98.39\",\"RID: r219\\u003cbr\\u003ettls-hops_hash: 6999e89eacd0c0f153727aaa922da4b58fa9c0fd\\u003cbr\\u003eRouter: 62.40.98.21\",\"RID: r159\\u003cbr\\u003ettls-hops_hash: 6999e89eacd0c0f153727aaa922da4b58fa9c0fd\\u003cbr\\u003eRouter: 62.40.98.159\",\"RID: r363\\u003cbr\\u003ettls-hops_hash: 6999e89eacd0c0f153727aaa922da4b58fa9c0fd\\u003cbr\\u003eRouter: 62.40.124.30\",\"RID: unknown\\u003cbr\\u003ettls-hops_hash: 6999e89eacd0c0f153727aaa922da4b58fa9c0fd\\u003cbr\\u003eRouter: unknown\",\"RID: r984\\u003cbr\\u003ettls-hops_hash: 6999e89eacd0c0f153727aaa922da4b58fa9c0fd\\u003cbr\\u003eRouter: 195.113.69.53\",\"RID: r471\\u003cbr\\u003ettls-hops_hash: 6999e89eacd0c0f153727aaa922da4b58fa9c0fd\\u003cbr\\u003eRouter: 147.231.18.214\",\"RID: r138\\u003cbr\\u003ettls-hops_hash: 6999e89eacd0c0f153727aaa922da4b58fa9c0fd\\u003cbr\\u003eRouter: 147.231.25.191\",\"Missing\"],[\"RID: r795\\u003cbr\\u003ettls-hops_hash: 6af3fa277bc7e04f11003cdfa8c98b6180401bb2\\u003cbr\\u003eRouter: 159.93.224.1\",\"RID: r672\\u003cbr\\u003ettls-hops_hash: 6af3fa277bc7e04f11003cdfa8c98b6180401bb2\\u003cbr\\u003eRouter: 10.4.7.137\",\"RID: r1122\\u003cbr\\u003ettls-hops_hash: 6af3fa277bc7e04f11003cdfa8c98b6180401bb2\\u003cbr\\u003eRouter: 10.4.7.136\",\"RID: r163\\u003cbr\\u003ettls-hops_hash: 6af3fa277bc7e04f11003cdfa8c98b6180401bb2\\u003cbr\\u003eRouter: 144.206.254.151\",\"RID: r1048\\u003cbr\\u003ettls-hops_hash: 6af3fa277bc7e04f11003cdfa8c98b6180401bb2\\u003cbr\\u003eRouter: 144.206.254.150\",\"RID: r677\\u003cbr\\u003ettls-hops_hash: 6af3fa277bc7e04f11003cdfa8c98b6180401bb2\\u003cbr\\u003eRouter: 62.40.125.121\",\"RID: r13\\u003cbr\\u003ettls-hops_hash: 6af3fa277bc7e04f11003cdfa8c98b6180401bb2\\u003cbr\\u003eRouter: 62.40.98.39\",\"RID: r219\\u003cbr\\u003ettls-hops_hash: 6af3fa277bc7e04f11003cdfa8c98b6180401bb2\\u003cbr\\u003eRouter: 62.40.98.21\",\"RID: r159\\u003cbr\\u003ettls-hops_hash: 6af3fa277bc7e04f11003cdfa8c98b6180401bb2\\u003cbr\\u003eRouter: 62.40.98.159\",\"RID: r363\\u003cbr\\u003ettls-hops_hash: 6af3fa277bc7e04f11003cdfa8c98b6180401bb2\\u003cbr\\u003eRouter: 62.40.124.30\",\"RID: unknown\\u003cbr\\u003ettls-hops_hash: 6af3fa277bc7e04f11003cdfa8c98b6180401bb2\\u003cbr\\u003eRouter: unknown\",\"RID: r984\\u003cbr\\u003ettls-hops_hash: 6af3fa277bc7e04f11003cdfa8c98b6180401bb2\\u003cbr\\u003eRouter: 195.113.69.53\",\"RID: r471\\u003cbr\\u003ettls-hops_hash: 6af3fa277bc7e04f11003cdfa8c98b6180401bb2\\u003cbr\\u003eRouter: 147.231.18.214\",\"RID: r138\\u003cbr\\u003ettls-hops_hash: 6af3fa277bc7e04f11003cdfa8c98b6180401bb2\\u003cbr\\u003eRouter: 147.231.25.191\",\"Missing\"],[\"RID: r795\\u003cbr\\u003ettls-hops_hash: 6e63256a08e848566a5c8f03d148b8deb7ef5f5b\\u003cbr\\u003eRouter: 159.93.224.1\",\"RID: r672\\u003cbr\\u003ettls-hops_hash: 6e63256a08e848566a5c8f03d148b8deb7ef5f5b\\u003cbr\\u003eRouter: 10.4.7.137\",\"RID: r1122\\u003cbr\\u003ettls-hops_hash: 6e63256a08e848566a5c8f03d148b8deb7ef5f5b\\u003cbr\\u003eRouter: 10.4.7.136\",\"RID: r163\\u003cbr\\u003ettls-hops_hash: 6e63256a08e848566a5c8f03d148b8deb7ef5f5b\\u003cbr\\u003eRouter: 144.206.254.151\",\"RID: r1048\\u003cbr\\u003ettls-hops_hash: 6e63256a08e848566a5c8f03d148b8deb7ef5f5b\\u003cbr\\u003eRouter: 144.206.254.150\",\"RID: r677\\u003cbr\\u003ettls-hops_hash: 6e63256a08e848566a5c8f03d148b8deb7ef5f5b\\u003cbr\\u003eRouter: 62.40.125.121\",\"RID: r13\\u003cbr\\u003ettls-hops_hash: 6e63256a08e848566a5c8f03d148b8deb7ef5f5b\\u003cbr\\u003eRouter: 62.40.98.39\",\"RID: r219\\u003cbr\\u003ettls-hops_hash: 6e63256a08e848566a5c8f03d148b8deb7ef5f5b\\u003cbr\\u003eRouter: 62.40.98.21\",\"RID: r159\\u003cbr\\u003ettls-hops_hash: 6e63256a08e848566a5c8f03d148b8deb7ef5f5b\\u003cbr\\u003eRouter: 62.40.98.159\",\"RID: r363\\u003cbr\\u003ettls-hops_hash: 6e63256a08e848566a5c8f03d148b8deb7ef5f5b\\u003cbr\\u003eRouter: 62.40.124.30\",\"RID: unknown\\u003cbr\\u003ettls-hops_hash: 6e63256a08e848566a5c8f03d148b8deb7ef5f5b\\u003cbr\\u003eRouter: unknown\",\"RID: r984\\u003cbr\\u003ettls-hops_hash: 6e63256a08e848566a5c8f03d148b8deb7ef5f5b\\u003cbr\\u003eRouter: 195.113.69.53\",\"RID: r471\\u003cbr\\u003ettls-hops_hash: 6e63256a08e848566a5c8f03d148b8deb7ef5f5b\\u003cbr\\u003eRouter: 147.231.18.214\",\"RID: r1213\\u003cbr\\u003ettls-hops_hash: 6e63256a08e848566a5c8f03d148b8deb7ef5f5b\\u003cbr\\u003eRouter: 147.231.25.192\",\"Missing\"],[\"RID: r795\\u003cbr\\u003ettls-hops_hash: 7542c4ee683fa5d6163166ef3ce3258d9401d38f\\u003cbr\\u003eRouter: 159.93.224.1\",\"RID: r672\\u003cbr\\u003ettls-hops_hash: 7542c4ee683fa5d6163166ef3ce3258d9401d38f\\u003cbr\\u003eRouter: 10.4.7.137\",\"RID: r1122\\u003cbr\\u003ettls-hops_hash: 7542c4ee683fa5d6163166ef3ce3258d9401d38f\\u003cbr\\u003eRouter: 10.4.7.136\",\"RID: r821\\u003cbr\\u003ettls-hops_hash: 7542c4ee683fa5d6163166ef3ce3258d9401d38f\\u003cbr\\u003eRouter: 144.206.254.34\",\"RID: r135\\u003cbr\\u003ettls-hops_hash: 7542c4ee683fa5d6163166ef3ce3258d9401d38f\\u003cbr\\u003eRouter: 144.206.254.33\",\"RID: r677\\u003cbr\\u003ettls-hops_hash: 7542c4ee683fa5d6163166ef3ce3258d9401d38f\\u003cbr\\u003eRouter: 62.40.125.121\",\"RID: r13\\u003cbr\\u003ettls-hops_hash: 7542c4ee683fa5d6163166ef3ce3258d9401d38f\\u003cbr\\u003eRouter: 62.40.98.39\",\"RID: r219\\u003cbr\\u003ettls-hops_hash: 7542c4ee683fa5d6163166ef3ce3258d9401d38f\\u003cbr\\u003eRouter: 62.40.98.21\",\"RID: r159\\u003cbr\\u003ettls-hops_hash: 7542c4ee683fa5d6163166ef3ce3258d9401d38f\\u003cbr\\u003eRouter: 62.40.98.159\",\"RID: r363\\u003cbr\\u003ettls-hops_hash: 7542c4ee683fa5d6163166ef3ce3258d9401d38f\\u003cbr\\u003eRouter: 62.40.124.30\",\"RID: unknown\\u003cbr\\u003ettls-hops_hash: 7542c4ee683fa5d6163166ef3ce3258d9401d38f\\u003cbr\\u003eRouter: unknown\",\"RID: r984\\u003cbr\\u003ettls-hops_hash: 7542c4ee683fa5d6163166ef3ce3258d9401d38f\\u003cbr\\u003eRouter: 195.113.69.53\",\"RID: r471\\u003cbr\\u003ettls-hops_hash: 7542c4ee683fa5d6163166ef3ce3258d9401d38f\\u003cbr\\u003eRouter: 147.231.18.214\",\"RID: r1213\\u003cbr\\u003ettls-hops_hash: 7542c4ee683fa5d6163166ef3ce3258d9401d38f\\u003cbr\\u003eRouter: 147.231.25.192\",\"Missing\"],[\"RID: r795\\u003cbr\\u003ettls-hops_hash: 7759fbd3807bf30d74750c24dd6af8a02322cafa\\u003cbr\\u003eRouter: 159.93.224.1\",\"RID: r672\\u003cbr\\u003ettls-hops_hash: 7759fbd3807bf30d74750c24dd6af8a02322cafa\\u003cbr\\u003eRouter: 10.4.7.137\",\"RID: r1122\\u003cbr\\u003ettls-hops_hash: 7759fbd3807bf30d74750c24dd6af8a02322cafa\\u003cbr\\u003eRouter: 10.4.7.136\",\"RID: r821\\u003cbr\\u003ettls-hops_hash: 7759fbd3807bf30d74750c24dd6af8a02322cafa\\u003cbr\\u003eRouter: 144.206.254.34\",\"RID: r135\\u003cbr\\u003ettls-hops_hash: 7759fbd3807bf30d74750c24dd6af8a02322cafa\\u003cbr\\u003eRouter: 144.206.254.33\",\"RID: r677\\u003cbr\\u003ettls-hops_hash: 7759fbd3807bf30d74750c24dd6af8a02322cafa\\u003cbr\\u003eRouter: 62.40.125.121\",\"RID: r13\\u003cbr\\u003ettls-hops_hash: 7759fbd3807bf30d74750c24dd6af8a02322cafa\\u003cbr\\u003eRouter: 62.40.98.39\",\"RID: r219\\u003cbr\\u003ettls-hops_hash: 7759fbd3807bf30d74750c24dd6af8a02322cafa\\u003cbr\\u003eRouter: 62.40.98.21\",\"RID: r159\\u003cbr\\u003ettls-hops_hash: 7759fbd3807bf30d74750c24dd6af8a02322cafa\\u003cbr\\u003eRouter: 62.40.98.159\",\"RID: r363\\u003cbr\\u003ettls-hops_hash: 7759fbd3807bf30d74750c24dd6af8a02322cafa\\u003cbr\\u003eRouter: 62.40.124.30\",\"RID: unknown\\u003cbr\\u003ettls-hops_hash: 7759fbd3807bf30d74750c24dd6af8a02322cafa\\u003cbr\\u003eRouter: unknown\",\"RID: r984\\u003cbr\\u003ettls-hops_hash: 7759fbd3807bf30d74750c24dd6af8a02322cafa\\u003cbr\\u003eRouter: 195.113.69.53\",\"RID: r471\\u003cbr\\u003ettls-hops_hash: 7759fbd3807bf30d74750c24dd6af8a02322cafa\\u003cbr\\u003eRouter: 147.231.18.214\",\"RID: unknown\\u003cbr\\u003ettls-hops_hash: 7759fbd3807bf30d74750c24dd6af8a02322cafa\\u003cbr\\u003eRouter: unknown\",\"RID: r1213\\u003cbr\\u003ettls-hops_hash: 7759fbd3807bf30d74750c24dd6af8a02322cafa\\u003cbr\\u003eRouter: 147.231.25.192\"],[\"RID: r795\\u003cbr\\u003ettls-hops_hash: 840f20b482ad1349c4cff243e16428538c826d97\\u003cbr\\u003eRouter: 159.93.224.1\",\"RID: r672\\u003cbr\\u003ettls-hops_hash: 840f20b482ad1349c4cff243e16428538c826d97\\u003cbr\\u003eRouter: 10.4.7.137\",\"RID: r1122\\u003cbr\\u003ettls-hops_hash: 840f20b482ad1349c4cff243e16428538c826d97\\u003cbr\\u003eRouter: 10.4.7.136\",\"RID: r821\\u003cbr\\u003ettls-hops_hash: 840f20b482ad1349c4cff243e16428538c826d97\\u003cbr\\u003eRouter: 144.206.254.34\",\"RID: r135\\u003cbr\\u003ettls-hops_hash: 840f20b482ad1349c4cff243e16428538c826d97\\u003cbr\\u003eRouter: 144.206.254.33\",\"RID: r677\\u003cbr\\u003ettls-hops_hash: 840f20b482ad1349c4cff243e16428538c826d97\\u003cbr\\u003eRouter: 62.40.125.121\",\"RID: r13\\u003cbr\\u003ettls-hops_hash: 840f20b482ad1349c4cff243e16428538c826d97\\u003cbr\\u003eRouter: 62.40.98.39\",\"RID: r219\\u003cbr\\u003ettls-hops_hash: 840f20b482ad1349c4cff243e16428538c826d97\\u003cbr\\u003eRouter: 62.40.98.21\",\"RID: r159\\u003cbr\\u003ettls-hops_hash: 840f20b482ad1349c4cff243e16428538c826d97\\u003cbr\\u003eRouter: 62.40.98.159\",\"RID: r363\\u003cbr\\u003ettls-hops_hash: 840f20b482ad1349c4cff243e16428538c826d97\\u003cbr\\u003eRouter: 62.40.124.30\",\"RID: unknown\\u003cbr\\u003ettls-hops_hash: 840f20b482ad1349c4cff243e16428538c826d97\\u003cbr\\u003eRouter: unknown\",\"RID: r984\\u003cbr\\u003ettls-hops_hash: 840f20b482ad1349c4cff243e16428538c826d97\\u003cbr\\u003eRouter: 195.113.69.53\",\"RID: r471\\u003cbr\\u003ettls-hops_hash: 840f20b482ad1349c4cff243e16428538c826d97\\u003cbr\\u003eRouter: 147.231.18.214\",\"Missing\",\"Missing\"],[\"RID: r795\\u003cbr\\u003ettls-hops_hash: ca823ddace6d68d9cfe89332c67f4300e3ed0752\\u003cbr\\u003eRouter: 159.93.224.1\",\"RID: r145\\u003cbr\\u003ettls-hops_hash: ca823ddace6d68d9cfe89332c67f4300e3ed0752\\u003cbr\\u003eRouter: 10.4.8.139\",\"RID: r419\\u003cbr\\u003ettls-hops_hash: ca823ddace6d68d9cfe89332c67f4300e3ed0752\\u003cbr\\u003eRouter: 10.4.8.138\",\"RID: r163\\u003cbr\\u003ettls-hops_hash: ca823ddace6d68d9cfe89332c67f4300e3ed0752\\u003cbr\\u003eRouter: 144.206.254.151\",\"RID: r1048\\u003cbr\\u003ettls-hops_hash: ca823ddace6d68d9cfe89332c67f4300e3ed0752\\u003cbr\\u003eRouter: 144.206.254.150\",\"RID: r677\\u003cbr\\u003ettls-hops_hash: ca823ddace6d68d9cfe89332c67f4300e3ed0752\\u003cbr\\u003eRouter: 62.40.125.121\",\"RID: r13\\u003cbr\\u003ettls-hops_hash: ca823ddace6d68d9cfe89332c67f4300e3ed0752\\u003cbr\\u003eRouter: 62.40.98.39\",\"RID: r219\\u003cbr\\u003ettls-hops_hash: ca823ddace6d68d9cfe89332c67f4300e3ed0752\\u003cbr\\u003eRouter: 62.40.98.21\",\"RID: r159\\u003cbr\\u003ettls-hops_hash: ca823ddace6d68d9cfe89332c67f4300e3ed0752\\u003cbr\\u003eRouter: 62.40.98.159\",\"RID: r363\\u003cbr\\u003ettls-hops_hash: ca823ddace6d68d9cfe89332c67f4300e3ed0752\\u003cbr\\u003eRouter: 62.40.124.30\",\"RID: unknown\\u003cbr\\u003ettls-hops_hash: ca823ddace6d68d9cfe89332c67f4300e3ed0752\\u003cbr\\u003eRouter: unknown\",\"RID: r984\\u003cbr\\u003ettls-hops_hash: ca823ddace6d68d9cfe89332c67f4300e3ed0752\\u003cbr\\u003eRouter: 195.113.69.53\",\"RID: r471\\u003cbr\\u003ettls-hops_hash: ca823ddace6d68d9cfe89332c67f4300e3ed0752\\u003cbr\\u003eRouter: 147.231.18.214\",\"RID: r138\\u003cbr\\u003ettls-hops_hash: ca823ddace6d68d9cfe89332c67f4300e3ed0752\\u003cbr\\u003eRouter: 147.231.25.191\",\"Missing\"],[\"RID: r795\\u003cbr\\u003ettls-hops_hash: d642d2d8010a8a0119b75f162fb4d4d754ec2805\\u003cbr\\u003eRouter: 159.93.224.1\",\"RID: r145\\u003cbr\\u003ettls-hops_hash: d642d2d8010a8a0119b75f162fb4d4d754ec2805\\u003cbr\\u003eRouter: 10.4.8.139\",\"RID: r1122\\u003cbr\\u003ettls-hops_hash: d642d2d8010a8a0119b75f162fb4d4d754ec2805\\u003cbr\\u003eRouter: 10.4.7.136\",\"RID: r821\\u003cbr\\u003ettls-hops_hash: d642d2d8010a8a0119b75f162fb4d4d754ec2805\\u003cbr\\u003eRouter: 144.206.254.34\",\"RID: r135\\u003cbr\\u003ettls-hops_hash: d642d2d8010a8a0119b75f162fb4d4d754ec2805\\u003cbr\\u003eRouter: 144.206.254.33\",\"RID: r677\\u003cbr\\u003ettls-hops_hash: d642d2d8010a8a0119b75f162fb4d4d754ec2805\\u003cbr\\u003eRouter: 62.40.125.121\",\"RID: r13\\u003cbr\\u003ettls-hops_hash: d642d2d8010a8a0119b75f162fb4d4d754ec2805\\u003cbr\\u003eRouter: 62.40.98.39\",\"RID: r219\\u003cbr\\u003ettls-hops_hash: d642d2d8010a8a0119b75f162fb4d4d754ec2805\\u003cbr\\u003eRouter: 62.40.98.21\",\"RID: r159\\u003cbr\\u003ettls-hops_hash: d642d2d8010a8a0119b75f162fb4d4d754ec2805\\u003cbr\\u003eRouter: 62.40.98.159\",\"RID: r363\\u003cbr\\u003ettls-hops_hash: d642d2d8010a8a0119b75f162fb4d4d754ec2805\\u003cbr\\u003eRouter: 62.40.124.30\",\"RID: unknown\\u003cbr\\u003ettls-hops_hash: d642d2d8010a8a0119b75f162fb4d4d754ec2805\\u003cbr\\u003eRouter: unknown\",\"RID: r984\\u003cbr\\u003ettls-hops_hash: d642d2d8010a8a0119b75f162fb4d4d754ec2805\\u003cbr\\u003eRouter: 195.113.69.53\",\"RID: r471\\u003cbr\\u003ettls-hops_hash: d642d2d8010a8a0119b75f162fb4d4d754ec2805\\u003cbr\\u003eRouter: 147.231.18.214\",\"RID: r1213\\u003cbr\\u003ettls-hops_hash: d642d2d8010a8a0119b75f162fb4d4d754ec2805\\u003cbr\\u003eRouter: 147.231.25.192\",\"Missing\"],[\"RID: r795\\u003cbr\\u003ettls-hops_hash: d9236b6add16cd0e97853b8e7b6a869291a596ef\\u003cbr\\u003eRouter: 159.93.224.1\",\"RID: r145\\u003cbr\\u003ettls-hops_hash: d9236b6add16cd0e97853b8e7b6a869291a596ef\\u003cbr\\u003eRouter: 10.4.8.139\",\"RID: r419\\u003cbr\\u003ettls-hops_hash: d9236b6add16cd0e97853b8e7b6a869291a596ef\\u003cbr\\u003eRouter: 10.4.8.138\",\"RID: r163\\u003cbr\\u003ettls-hops_hash: d9236b6add16cd0e97853b8e7b6a869291a596ef\\u003cbr\\u003eRouter: 144.206.254.151\",\"RID: r1048\\u003cbr\\u003ettls-hops_hash: d9236b6add16cd0e97853b8e7b6a869291a596ef\\u003cbr\\u003eRouter: 144.206.254.150\",\"RID: r677\\u003cbr\\u003ettls-hops_hash: d9236b6add16cd0e97853b8e7b6a869291a596ef\\u003cbr\\u003eRouter: 62.40.125.121\",\"RID: unknown\\u003cbr\\u003ettls-hops_hash: d9236b6add16cd0e97853b8e7b6a869291a596ef\\u003cbr\\u003eRouter: unknown\",\"RID: r219\\u003cbr\\u003ettls-hops_hash: d9236b6add16cd0e97853b8e7b6a869291a596ef\\u003cbr\\u003eRouter: 62.40.98.21\",\"RID: r159\\u003cbr\\u003ettls-hops_hash: d9236b6add16cd0e97853b8e7b6a869291a596ef\\u003cbr\\u003eRouter: 62.40.98.159\",\"RID: r363\\u003cbr\\u003ettls-hops_hash: d9236b6add16cd0e97853b8e7b6a869291a596ef\\u003cbr\\u003eRouter: 62.40.124.30\",\"RID: unknown\\u003cbr\\u003ettls-hops_hash: d9236b6add16cd0e97853b8e7b6a869291a596ef\\u003cbr\\u003eRouter: unknown\",\"RID: r984\\u003cbr\\u003ettls-hops_hash: d9236b6add16cd0e97853b8e7b6a869291a596ef\\u003cbr\\u003eRouter: 195.113.69.53\",\"RID: r471\\u003cbr\\u003ettls-hops_hash: d9236b6add16cd0e97853b8e7b6a869291a596ef\\u003cbr\\u003eRouter: 147.231.18.214\",\"RID: r1213\\u003cbr\\u003ettls-hops_hash: d9236b6add16cd0e97853b8e7b6a869291a596ef\\u003cbr\\u003eRouter: 147.231.25.192\",\"Missing\"],[\"RID: r795\\u003cbr\\u003ettls-hops_hash: ee1c1927e1e889dfdc8aab13bededdc105f98669\\u003cbr\\u003eRouter: 159.93.224.1\",\"RID: r672\\u003cbr\\u003ettls-hops_hash: ee1c1927e1e889dfdc8aab13bededdc105f98669\\u003cbr\\u003eRouter: 10.4.7.137\",\"RID: r419\\u003cbr\\u003ettls-hops_hash: ee1c1927e1e889dfdc8aab13bededdc105f98669\\u003cbr\\u003eRouter: 10.4.8.138\",\"RID: r163\\u003cbr\\u003ettls-hops_hash: ee1c1927e1e889dfdc8aab13bededdc105f98669\\u003cbr\\u003eRouter: 144.206.254.151\",\"RID: r1048\\u003cbr\\u003ettls-hops_hash: ee1c1927e1e889dfdc8aab13bededdc105f98669\\u003cbr\\u003eRouter: 144.206.254.150\",\"RID: r677\\u003cbr\\u003ettls-hops_hash: ee1c1927e1e889dfdc8aab13bededdc105f98669\\u003cbr\\u003eRouter: 62.40.125.121\",\"RID: r13\\u003cbr\\u003ettls-hops_hash: ee1c1927e1e889dfdc8aab13bededdc105f98669\\u003cbr\\u003eRouter: 62.40.98.39\",\"RID: r219\\u003cbr\\u003ettls-hops_hash: ee1c1927e1e889dfdc8aab13bededdc105f98669\\u003cbr\\u003eRouter: 62.40.98.21\",\"RID: r159\\u003cbr\\u003ettls-hops_hash: ee1c1927e1e889dfdc8aab13bededdc105f98669\\u003cbr\\u003eRouter: 62.40.98.159\",\"RID: r363\\u003cbr\\u003ettls-hops_hash: ee1c1927e1e889dfdc8aab13bededdc105f98669\\u003cbr\\u003eRouter: 62.40.124.30\",\"RID: unknown\\u003cbr\\u003ettls-hops_hash: ee1c1927e1e889dfdc8aab13bededdc105f98669\\u003cbr\\u003eRouter: unknown\",\"RID: r984\\u003cbr\\u003ettls-hops_hash: ee1c1927e1e889dfdc8aab13bededdc105f98669\\u003cbr\\u003eRouter: 195.113.69.53\",\"RID: r471\\u003cbr\\u003ettls-hops_hash: ee1c1927e1e889dfdc8aab13bededdc105f98669\\u003cbr\\u003eRouter: 147.231.18.214\",\"RID: r138\\u003cbr\\u003ettls-hops_hash: ee1c1927e1e889dfdc8aab13bededdc105f98669\\u003cbr\\u003eRouter: 147.231.25.191\",\"Missing\"],[\"RID: r795\\u003cbr\\u003ettls-hops_hash: f3668e9e2459d3a7bf8e8070e7539ab148876193\\u003cbr\\u003eRouter: 159.93.224.1\",\"RID: r672\\u003cbr\\u003ettls-hops_hash: f3668e9e2459d3a7bf8e8070e7539ab148876193\\u003cbr\\u003eRouter: 10.4.7.137\",\"RID: r1122\\u003cbr\\u003ettls-hops_hash: f3668e9e2459d3a7bf8e8070e7539ab148876193\\u003cbr\\u003eRouter: 10.4.7.136\",\"RID: r821\\u003cbr\\u003ettls-hops_hash: f3668e9e2459d3a7bf8e8070e7539ab148876193\\u003cbr\\u003eRouter: 144.206.254.34\",\"RID: r135\\u003cbr\\u003ettls-hops_hash: f3668e9e2459d3a7bf8e8070e7539ab148876193\\u003cbr\\u003eRouter: 144.206.254.33\",\"RID: r677\\u003cbr\\u003ettls-hops_hash: f3668e9e2459d3a7bf8e8070e7539ab148876193\\u003cbr\\u003eRouter: 62.40.125.121\",\"RID: r13\\u003cbr\\u003ettls-hops_hash: f3668e9e2459d3a7bf8e8070e7539ab148876193\\u003cbr\\u003eRouter: 62.40.98.39\",\"RID: r219\\u003cbr\\u003ettls-hops_hash: f3668e9e2459d3a7bf8e8070e7539ab148876193\\u003cbr\\u003eRouter: 62.40.98.21\",\"RID: r159\\u003cbr\\u003ettls-hops_hash: f3668e9e2459d3a7bf8e8070e7539ab148876193\\u003cbr\\u003eRouter: 62.40.98.159\",\"RID: r363\\u003cbr\\u003ettls-hops_hash: f3668e9e2459d3a7bf8e8070e7539ab148876193\\u003cbr\\u003eRouter: 62.40.124.30\",\"RID: unknown\\u003cbr\\u003ettls-hops_hash: f3668e9e2459d3a7bf8e8070e7539ab148876193\\u003cbr\\u003eRouter: unknown\",\"RID: r984\\u003cbr\\u003ettls-hops_hash: f3668e9e2459d3a7bf8e8070e7539ab148876193\\u003cbr\\u003eRouter: 195.113.69.53\",\"RID: r471\\u003cbr\\u003ettls-hops_hash: f3668e9e2459d3a7bf8e8070e7539ab148876193\\u003cbr\\u003eRouter: 147.231.18.214\",\"RID: r138\\u003cbr\\u003ettls-hops_hash: f3668e9e2459d3a7bf8e8070e7539ab148876193\\u003cbr\\u003eRouter: 147.231.25.191\",\"Missing\"]],\"x\":[1,2,3,4,5,6,7,8,9,10,11,12,13,14,15],\"xgap\":1,\"y\":[\"044f251680152add441d268f0edff622c9d74c35\",\"0a620223a51039738151ff76d429c046f4538261\",\"0aefd78477ff6dbfe1d97aa5485fceda76decb82\",\"2da6010c1fd8f7f3c56b72b569e77a173706eee2\",\"2ff5e2a5507348ab6e9fcec4a148a96db840680d\",\"3abe2566b32c4cbf4673cd3f2cf08bcac60f0b4c\",\"55dc5adb40c9f9d3c774055a92e8fcce33955a2f\",\"60a76b09e68c3d87d063c3cecac2980340b30abf\",\"6999e89eacd0c0f153727aaa922da4b58fa9c0fd\",\"6af3fa277bc7e04f11003cdfa8c98b6180401bb2\",\"6e63256a08e848566a5c8f03d148b8deb7ef5f5b\",\"7542c4ee683fa5d6163166ef3ce3258d9401d38f\",\"7759fbd3807bf30d74750c24dd6af8a02322cafa\",\"840f20b482ad1349c4cff243e16428538c826d97\",\"ca823ddace6d68d9cfe89332c67f4300e3ed0752\",\"d642d2d8010a8a0119b75f162fb4d4d754ec2805\",\"d9236b6add16cd0e97853b8e7b6a869291a596ef\",\"ee1c1927e1e889dfdc8aab13bededdc105f98669\",\"f3668e9e2459d3a7bf8e8070e7539ab148876193\"],\"ygap\":1,\"z\":[[0,1,2,3,4,5,6,7,8,9,10,11,12,13,-1],[0,14,15,16,-1,-1,-1,-1,-1,-1,-1,-1,-1,-1,-1],[0,14,2,3,4,5,6,7,8,9,10,11,12,13,-1],[0,1,2,16,17,5,6,7,8,9,10,11,12,18,-1],[0,14,2,3,4,5,6,7,8,9,10,11,12,18,-1],[0,14,2,16,17,5,6,7,8,9,10,11,12,18,-1],[0,1,15,16,17,5,6,7,8,9,10,11,12,18,-1],[0,1,2,3,4,5,6,7,8,9,10,11,12,18,-1],[0,1,15,16,17,5,6,7,8,9,10,11,12,13,-1],[0,14,15,16,17,5,6,7,8,9,10,11,12,13,-1],[0,14,15,16,17,5,6,7,8,9,10,11,12,18,-1],[0,14,15,3,4,5,6,7,8,9,10,11,12,18,-1],[0,14,15,3,4,5,6,7,8,9,10,11,12,10,18],[0,14,15,3,4,5,6,7,8,9,10,11,12,-1,-1],[0,1,2,16,17,5,6,7,8,9,10,11,12,13,-1],[0,1,15,3,4,5,6,7,8,9,10,11,12,18,-1],[0,1,2,16,17,5,10,7,8,9,10,11,12,18,-1],[0,14,2,16,17,5,6,7,8,9,10,11,12,13,-1],[0,14,15,3,4,5,6,7,8,9,10,11,12,13,-1]],\"zmax\":18,\"zmin\":-1,\"type\":\"heatmap\"}],                        {\"template\":{\"data\":{\"histogram2dcontour\":[{\"type\":\"histogram2dcontour\",\"colorbar\":{\"outlinewidth\":0,\"ticks\":\"\"},\"colorscale\":[[0.0,\"#0d0887\"],[0.1111111111111111,\"#46039f\"],[0.2222222222222222,\"#7201a8\"],[0.3333333333333333,\"#9c179e\"],[0.4444444444444444,\"#bd3786\"],[0.5555555555555556,\"#d8576b\"],[0.6666666666666666,\"#ed7953\"],[0.7777777777777778,\"#fb9f3a\"],[0.8888888888888888,\"#fdca26\"],[1.0,\"#f0f921\"]]}],\"choropleth\":[{\"type\":\"choropleth\",\"colorbar\":{\"outlinewidth\":0,\"ticks\":\"\"}}],\"histogram2d\":[{\"type\":\"histogram2d\",\"colorbar\":{\"outlinewidth\":0,\"ticks\":\"\"},\"colorscale\":[[0.0,\"#0d0887\"],[0.1111111111111111,\"#46039f\"],[0.2222222222222222,\"#7201a8\"],[0.3333333333333333,\"#9c179e\"],[0.4444444444444444,\"#bd3786\"],[0.5555555555555556,\"#d8576b\"],[0.6666666666666666,\"#ed7953\"],[0.7777777777777778,\"#fb9f3a\"],[0.8888888888888888,\"#fdca26\"],[1.0,\"#f0f921\"]]}],\"heatmap\":[{\"type\":\"heatmap\",\"colorbar\":{\"outlinewidth\":0,\"ticks\":\"\"},\"colorscale\":[[0.0,\"#0d0887\"],[0.1111111111111111,\"#46039f\"],[0.2222222222222222,\"#7201a8\"],[0.3333333333333333,\"#9c179e\"],[0.4444444444444444,\"#bd3786\"],[0.5555555555555556,\"#d8576b\"],[0.6666666666666666,\"#ed7953\"],[0.7777777777777778,\"#fb9f3a\"],[0.8888888888888888,\"#fdca26\"],[1.0,\"#f0f921\"]]}],\"heatmapgl\":[{\"type\":\"heatmapgl\",\"colorbar\":{\"outlinewidth\":0,\"ticks\":\"\"},\"colorscale\":[[0.0,\"#0d0887\"],[0.1111111111111111,\"#46039f\"],[0.2222222222222222,\"#7201a8\"],[0.3333333333333333,\"#9c179e\"],[0.4444444444444444,\"#bd3786\"],[0.5555555555555556,\"#d8576b\"],[0.6666666666666666,\"#ed7953\"],[0.7777777777777778,\"#fb9f3a\"],[0.8888888888888888,\"#fdca26\"],[1.0,\"#f0f921\"]]}],\"contourcarpet\":[{\"type\":\"contourcarpet\",\"colorbar\":{\"outlinewidth\":0,\"ticks\":\"\"}}],\"contour\":[{\"type\":\"contour\",\"colorbar\":{\"outlinewidth\":0,\"ticks\":\"\"},\"colorscale\":[[0.0,\"#0d0887\"],[0.1111111111111111,\"#46039f\"],[0.2222222222222222,\"#7201a8\"],[0.3333333333333333,\"#9c179e\"],[0.4444444444444444,\"#bd3786\"],[0.5555555555555556,\"#d8576b\"],[0.6666666666666666,\"#ed7953\"],[0.7777777777777778,\"#fb9f3a\"],[0.8888888888888888,\"#fdca26\"],[1.0,\"#f0f921\"]]}],\"surface\":[{\"type\":\"surface\",\"colorbar\":{\"outlinewidth\":0,\"ticks\":\"\"},\"colorscale\":[[0.0,\"#0d0887\"],[0.1111111111111111,\"#46039f\"],[0.2222222222222222,\"#7201a8\"],[0.3333333333333333,\"#9c179e\"],[0.4444444444444444,\"#bd3786\"],[0.5555555555555556,\"#d8576b\"],[0.6666666666666666,\"#ed7953\"],[0.7777777777777778,\"#fb9f3a\"],[0.8888888888888888,\"#fdca26\"],[1.0,\"#f0f921\"]]}],\"mesh3d\":[{\"type\":\"mesh3d\",\"colorbar\":{\"outlinewidth\":0,\"ticks\":\"\"}}],\"scatter\":[{\"fillpattern\":{\"fillmode\":\"overlay\",\"size\":10,\"solidity\":0.2},\"type\":\"scatter\"}],\"parcoords\":[{\"type\":\"parcoords\",\"line\":{\"colorbar\":{\"outlinewidth\":0,\"ticks\":\"\"}}}],\"scatterpolargl\":[{\"type\":\"scatterpolargl\",\"marker\":{\"colorbar\":{\"outlinewidth\":0,\"ticks\":\"\"}}}],\"bar\":[{\"error_x\":{\"color\":\"#2a3f5f\"},\"error_y\":{\"color\":\"#2a3f5f\"},\"marker\":{\"line\":{\"color\":\"#E5ECF6\",\"width\":0.5},\"pattern\":{\"fillmode\":\"overlay\",\"size\":10,\"solidity\":0.2}},\"type\":\"bar\"}],\"scattergeo\":[{\"type\":\"scattergeo\",\"marker\":{\"colorbar\":{\"outlinewidth\":0,\"ticks\":\"\"}}}],\"scatterpolar\":[{\"type\":\"scatterpolar\",\"marker\":{\"colorbar\":{\"outlinewidth\":0,\"ticks\":\"\"}}}],\"histogram\":[{\"marker\":{\"pattern\":{\"fillmode\":\"overlay\",\"size\":10,\"solidity\":0.2}},\"type\":\"histogram\"}],\"scattergl\":[{\"type\":\"scattergl\",\"marker\":{\"colorbar\":{\"outlinewidth\":0,\"ticks\":\"\"}}}],\"scatter3d\":[{\"type\":\"scatter3d\",\"line\":{\"colorbar\":{\"outlinewidth\":0,\"ticks\":\"\"}},\"marker\":{\"colorbar\":{\"outlinewidth\":0,\"ticks\":\"\"}}}],\"scattermapbox\":[{\"type\":\"scattermapbox\",\"marker\":{\"colorbar\":{\"outlinewidth\":0,\"ticks\":\"\"}}}],\"scatterternary\":[{\"type\":\"scatterternary\",\"marker\":{\"colorbar\":{\"outlinewidth\":0,\"ticks\":\"\"}}}],\"scattercarpet\":[{\"type\":\"scattercarpet\",\"marker\":{\"colorbar\":{\"outlinewidth\":0,\"ticks\":\"\"}}}],\"carpet\":[{\"aaxis\":{\"endlinecolor\":\"#2a3f5f\",\"gridcolor\":\"white\",\"linecolor\":\"white\",\"minorgridcolor\":\"white\",\"startlinecolor\":\"#2a3f5f\"},\"baxis\":{\"endlinecolor\":\"#2a3f5f\",\"gridcolor\":\"white\",\"linecolor\":\"white\",\"minorgridcolor\":\"white\",\"startlinecolor\":\"#2a3f5f\"},\"type\":\"carpet\"}],\"table\":[{\"cells\":{\"fill\":{\"color\":\"#EBF0F8\"},\"line\":{\"color\":\"white\"}},\"header\":{\"fill\":{\"color\":\"#C8D4E3\"},\"line\":{\"color\":\"white\"}},\"type\":\"table\"}],\"barpolar\":[{\"marker\":{\"line\":{\"color\":\"#E5ECF6\",\"width\":0.5},\"pattern\":{\"fillmode\":\"overlay\",\"size\":10,\"solidity\":0.2}},\"type\":\"barpolar\"}],\"pie\":[{\"automargin\":true,\"type\":\"pie\"}]},\"layout\":{\"autotypenumbers\":\"strict\",\"colorway\":[\"#636efa\",\"#EF553B\",\"#00cc96\",\"#ab63fa\",\"#FFA15A\",\"#19d3f3\",\"#FF6692\",\"#B6E880\",\"#FF97FF\",\"#FECB52\"],\"font\":{\"color\":\"#2a3f5f\"},\"hovermode\":\"closest\",\"hoverlabel\":{\"align\":\"left\"},\"paper_bgcolor\":\"white\",\"plot_bgcolor\":\"#E5ECF6\",\"polar\":{\"bgcolor\":\"#E5ECF6\",\"angularaxis\":{\"gridcolor\":\"white\",\"linecolor\":\"white\",\"ticks\":\"\"},\"radialaxis\":{\"gridcolor\":\"white\",\"linecolor\":\"white\",\"ticks\":\"\"}},\"ternary\":{\"bgcolor\":\"#E5ECF6\",\"aaxis\":{\"gridcolor\":\"white\",\"linecolor\":\"white\",\"ticks\":\"\"},\"baxis\":{\"gridcolor\":\"white\",\"linecolor\":\"white\",\"ticks\":\"\"},\"caxis\":{\"gridcolor\":\"white\",\"linecolor\":\"white\",\"ticks\":\"\"}},\"coloraxis\":{\"colorbar\":{\"outlinewidth\":0,\"ticks\":\"\"}},\"colorscale\":{\"sequential\":[[0.0,\"#0d0887\"],[0.1111111111111111,\"#46039f\"],[0.2222222222222222,\"#7201a8\"],[0.3333333333333333,\"#9c179e\"],[0.4444444444444444,\"#bd3786\"],[0.5555555555555556,\"#d8576b\"],[0.6666666666666666,\"#ed7953\"],[0.7777777777777778,\"#fb9f3a\"],[0.8888888888888888,\"#fdca26\"],[1.0,\"#f0f921\"]],\"sequentialminus\":[[0.0,\"#0d0887\"],[0.1111111111111111,\"#46039f\"],[0.2222222222222222,\"#7201a8\"],[0.3333333333333333,\"#9c179e\"],[0.4444444444444444,\"#bd3786\"],[0.5555555555555556,\"#d8576b\"],[0.6666666666666666,\"#ed7953\"],[0.7777777777777778,\"#fb9f3a\"],[0.8888888888888888,\"#fdca26\"],[1.0,\"#f0f921\"]],\"diverging\":[[0,\"#8e0152\"],[0.1,\"#c51b7d\"],[0.2,\"#de77ae\"],[0.3,\"#f1b6da\"],[0.4,\"#fde0ef\"],[0.5,\"#f7f7f7\"],[0.6,\"#e6f5d0\"],[0.7,\"#b8e186\"],[0.8,\"#7fbc41\"],[0.9,\"#4d9221\"],[1,\"#276419\"]]},\"xaxis\":{\"gridcolor\":\"white\",\"linecolor\":\"white\",\"ticks\":\"\",\"title\":{\"standoff\":15},\"zerolinecolor\":\"white\",\"automargin\":true,\"zerolinewidth\":2},\"yaxis\":{\"gridcolor\":\"white\",\"linecolor\":\"white\",\"ticks\":\"\",\"title\":{\"standoff\":15},\"zerolinecolor\":\"white\",\"automargin\":true,\"zerolinewidth\":2},\"scene\":{\"xaxis\":{\"backgroundcolor\":\"#E5ECF6\",\"gridcolor\":\"white\",\"linecolor\":\"white\",\"showbackground\":true,\"ticks\":\"\",\"zerolinecolor\":\"white\",\"gridwidth\":2},\"yaxis\":{\"backgroundcolor\":\"#E5ECF6\",\"gridcolor\":\"white\",\"linecolor\":\"white\",\"showbackground\":true,\"ticks\":\"\",\"zerolinecolor\":\"white\",\"gridwidth\":2},\"zaxis\":{\"backgroundcolor\":\"#E5ECF6\",\"gridcolor\":\"white\",\"linecolor\":\"white\",\"showbackground\":true,\"ticks\":\"\",\"zerolinecolor\":\"white\",\"gridwidth\":2}},\"shapedefaults\":{\"line\":{\"color\":\"#2a3f5f\"}},\"annotationdefaults\":{\"arrowcolor\":\"#2a3f5f\",\"arrowhead\":0,\"arrowwidth\":1},\"geo\":{\"bgcolor\":\"white\",\"landcolor\":\"#E5ECF6\",\"subunitcolor\":\"white\",\"showland\":true,\"showlakes\":true,\"lakecolor\":\"white\"},\"title\":{\"x\":0.05},\"mapbox\":{\"style\":\"light\"}}},\"title\":{\"text\":\"Path signature between JINR-LCG2 and PRAGUELCG2\"},\"xaxis\":{\"title\":{\"text\":\"TTL\"}},\"yaxis\":{\"title\":{\"text\":\"Path Identifier (ttls-hops_hash)\"}},\"margin\":{\"r\":150},\"annotations\":[{\"showarrow\":false,\"text\":\"1\",\"x\":1.05,\"xanchor\":\"left\",\"xref\":\"paper\",\"y\":0,\"yref\":\"y\"},{\"showarrow\":false,\"text\":\"1\",\"x\":1.05,\"xanchor\":\"left\",\"xref\":\"paper\",\"y\":1,\"yref\":\"y\"},{\"showarrow\":false,\"text\":\"1\",\"x\":1.05,\"xanchor\":\"left\",\"xref\":\"paper\",\"y\":2,\"yref\":\"y\"},{\"showarrow\":false,\"text\":\"1\",\"x\":1.05,\"xanchor\":\"left\",\"xref\":\"paper\",\"y\":3,\"yref\":\"y\"},{\"showarrow\":false,\"text\":\"1\",\"x\":1.05,\"xanchor\":\"left\",\"xref\":\"paper\",\"y\":4,\"yref\":\"y\"},{\"showarrow\":false,\"text\":\"1\",\"x\":1.05,\"xanchor\":\"left\",\"xref\":\"paper\",\"y\":5,\"yref\":\"y\"},{\"showarrow\":false,\"text\":\"1\",\"x\":1.05,\"xanchor\":\"left\",\"xref\":\"paper\",\"y\":6,\"yref\":\"y\"},{\"showarrow\":false,\"text\":\"1\",\"x\":1.05,\"xanchor\":\"left\",\"xref\":\"paper\",\"y\":7,\"yref\":\"y\"},{\"showarrow\":false,\"text\":\"1\",\"x\":1.05,\"xanchor\":\"left\",\"xref\":\"paper\",\"y\":8,\"yref\":\"y\"},{\"showarrow\":false,\"text\":\"1\",\"x\":1.05,\"xanchor\":\"left\",\"xref\":\"paper\",\"y\":9,\"yref\":\"y\"},{\"showarrow\":false,\"text\":\"1\",\"x\":1.05,\"xanchor\":\"left\",\"xref\":\"paper\",\"y\":10,\"yref\":\"y\"},{\"showarrow\":false,\"text\":\"1\",\"x\":1.05,\"xanchor\":\"left\",\"xref\":\"paper\",\"y\":11,\"yref\":\"y\"},{\"showarrow\":false,\"text\":\"1\",\"x\":1.05,\"xanchor\":\"left\",\"xref\":\"paper\",\"y\":12,\"yref\":\"y\"},{\"showarrow\":false,\"text\":\"1\",\"x\":1.05,\"xanchor\":\"left\",\"xref\":\"paper\",\"y\":13,\"yref\":\"y\"},{\"showarrow\":false,\"text\":\"1\",\"x\":1.05,\"xanchor\":\"left\",\"xref\":\"paper\",\"y\":14,\"yref\":\"y\"},{\"showarrow\":false,\"text\":\"1\",\"x\":1.05,\"xanchor\":\"left\",\"xref\":\"paper\",\"y\":15,\"yref\":\"y\"},{\"showarrow\":false,\"text\":\"1\",\"x\":1.05,\"xanchor\":\"left\",\"xref\":\"paper\",\"y\":16,\"yref\":\"y\"},{\"showarrow\":false,\"text\":\"0\",\"x\":1.05,\"xanchor\":\"left\",\"xref\":\"paper\",\"y\":17,\"yref\":\"y\"},{\"showarrow\":false,\"text\":\"0\",\"x\":1.05,\"xanchor\":\"left\",\"xref\":\"paper\",\"y\":18,\"yref\":\"y\"},{\"font\":{\"color\":\"black\",\"size\":12},\"showarrow\":false,\"text\":\"Destination Reached\",\"x\":1.02,\"xanchor\":\"left\",\"xref\":\"x domain\",\"y\":1.1,\"yref\":\"paper\"}],\"height\":400},                        {\"responsive\": true}                    ).then(function(){\n",
       "                            \n",
       "var gd = document.getElementById('8f0c44c3-311d-455c-9a05-1d41ac368ba9');\n",
       "var x = new MutationObserver(function (mutations, observer) {{\n",
       "        var display = window.getComputedStyle(gd).display;\n",
       "        if (!display || display === 'none') {{\n",
       "            console.log([gd, 'removed!']);\n",
       "            Plotly.purge(gd);\n",
       "            observer.disconnect();\n",
       "        }}\n",
       "}});\n",
       "\n",
       "// Listen for the removal of the full notebook cells\n",
       "var notebookContainer = gd.closest('#notebook-container');\n",
       "if (notebookContainer) {{\n",
       "    x.observe(notebookContainer, {childList: true});\n",
       "}}\n",
       "\n",
       "// Listen for the clearing of the current output cell\n",
       "var outputEl = gd.closest('.output');\n",
       "if (outputEl) {{\n",
       "    x.observe(outputEl, {childList: true});\n",
       "}}\n",
       "\n",
       "                        })                };                });            </script>        </div>"
      ]
     },
     "metadata": {},
     "output_type": "display_data"
    },
    {
     "name": "stdout",
     "output_type": "stream",
     "text": [
      "Prediction made for path d9236b6add16cd0e97853b8e7b6a869291a596ef \n",
      " Sequence: ['r795', 'r145', 'r419', 'r163', 'r1048', 'r677', 'r677-unknown-r219', 'r219', 'r159', 'r363', 'r363-unknown-r984', 'r984', 'r471', 'r1213']\n"
     ]
    }
   ],
   "source": [
    "import plot_helpers as ph\n",
    "# incomplete_paths = filled_ipv4[(filled_ipv4['router']=='unknown')]['ttls-hops_hash'].sample(1).values[0]\n",
    "incomplete_paths = 'd9236b6add16cd0e97853b8e7b6a869291a596ef'\n",
    "sequence, src, dest, path = df[df['ttls-hops_hash']==incomplete_paths][['curr', 'src_site', 'dest_site', 'ttls-hops_hash']].sample(1).values[0]\n",
    "ph.generate_plotly_heatmap_with_hover(filled_ipv4[(filled_ipv4['src_site']==src) & (filled_ipv4['dest_site']==dest)], src, dest)\n",
    "print(f\"Prediction made for path {path} \\n Sequence: {sequence}\")"
   ]
  },
  {
   "cell_type": "markdown",
   "id": "f26b8282-718e-4b47-b9cd-b64ba0d2ffe2",
   "metadata": {},
   "source": [
    " "
   ]
  },
  {
   "cell_type": "markdown",
   "id": "cd840baf-04e1-424e-8696-5b30b0d69854",
   "metadata": {},
   "source": [
    "Make a prediction based on a partial path taken from the above example"
   ]
  },
  {
   "cell_type": "code",
   "execution_count": 21,
   "id": "aa32c7d8-d1ce-409e-96b4-2fe1ae1daf90",
   "metadata": {},
   "outputs": [
    {
     "name": "stdout",
     "output_type": "stream",
     "text": [
      "Predicted next node: r13\n"
     ]
    }
   ],
   "source": [
    "# Tokenize and pad the input sequence for prediction\n",
    "input_sequence = ['r795', 'r145', 'r419', 'r163', 'r1048', 'r677']\n",
    "tokenized_input = le.transform(input_sequence)\n",
    "padded_input = pad_sequences([tokenized_input], maxlen=max_len, padding='post', value=0)\n",
    "input_tensor = torch.tensor(padded_input, dtype=torch.long)\n",
    "mask = (input_tensor != 0)\n",
    "\n",
    "\n",
    "model.eval()\n",
    "with torch.no_grad():\n",
    "    outputs = model(input_tensor, src_mask=mask)\n",
    "    # Get the logits for the next token prediction\n",
    "    # Assuming the last non-padded position\n",
    "    seq_length = len(tokenized_input)\n",
    "    next_token_logits = outputs[0, seq_length - 1]\n",
    "    # Convert logits to probabilities\n",
    "    probabilities = torch.softmax(next_token_logits, dim=0)\n",
    "    # Get the most probable token\n",
    "    predicted_token = torch.argmax(probabilities).item()\n",
    "    # Convert token back to node\n",
    "    predicted_node = le.inverse_transform([predicted_token])[0]\n",
    "\n",
    "\n",
    "print(f\"Predicted next node: {predicted_node}\")\n"
   ]
  },
  {
   "cell_type": "markdown",
   "id": "95e79c56-130e-4c06-8a23-b19c29711a02",
   "metadata": {},
   "source": [
    "Check the transition statistics in case of an unexpected prediction"
   ]
  },
  {
   "cell_type": "code",
   "execution_count": 22,
   "id": "4933af3c-f7d2-4631-ab89-e9243adb9df3",
   "metadata": {},
   "outputs": [
    {
     "name": "stdout",
     "output_type": "stream",
     "text": [
      "Probability of r17 to r770: 0.0\n",
      "All possible transitions from r677:\n"
     ]
    },
    {
     "data": {
      "text/plain": [
       "next_router\n",
       "r13     0.997135\n",
       "r677    0.002865\n",
       "Name: r677, dtype: float64"
      ]
     },
     "execution_count": 22,
     "metadata": {},
     "output_type": "execute_result"
    }
   ],
   "source": [
    "prob_r1_to_r2 = transition_probabilities.loc['r17','r770']\n",
    "print(\"Probability of r17 to r770:\", prob_r1_to_r2)\n",
    "\n",
    "node = 'r677'\n",
    "print(f\"All possible transitions from {node}:\")\n",
    "transition_probabilities.loc[node, transition_probabilities.loc[node] > 0]"
   ]
  },
  {
   "cell_type": "code",
   "execution_count": null,
   "id": "d78c9797-74d4-4ab6-8690-e02c29b60fa1",
   "metadata": {},
   "outputs": [],
   "source": []
  }
 ],
 "metadata": {
  "kernelspec": {
   "display_name": "Python 3 (ipykernel)",
   "language": "python",
   "name": "python3"
  },
  "language_info": {
   "codemirror_mode": {
    "name": "ipython",
    "version": 3
   },
   "file_extension": ".py",
   "mimetype": "text/x-python",
   "name": "python",
   "nbconvert_exporter": "python",
   "pygments_lexer": "ipython3",
   "version": "3.8.10"
  }
 },
 "nbformat": 4,
 "nbformat_minor": 5
}
